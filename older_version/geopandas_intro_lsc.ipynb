{
 "cells": [
  {
   "cell_type": "markdown",
   "metadata": {
    "colab_type": "text",
    "id": "K8ZIWrYoA98X"
   },
   "source": [
    "# Geospatial Data in Python with GeoPandas \n",
    "\n",
    "## Introduction\n",
    "\n",
    "The goal of this notebook is to give you an **introduction** to working with geospatial data in Python using the `geopandas` package.  The sample data and use cases are related to a UC Berkeley research a project that I have been working on called **The Louisiana Slave Conspiracies**. This project explores several slave conspiracies that occured in colonial Louisiana during the late 1700s and early 1800s. Since very little data exist for this time period, we begin with an exploration of US Census data from the early 1800s, shortly after the Orleans Territory became part of the United States.\n",
    "\n",
    "### Assumptions\n",
    "\n",
    "This tutorial assumptions you have basic working knowledge of Python and of geospatial data.   If you need a geospatial refresher, we can start with this a **very** [Brief Introduction to Geospatial Data](https://docs.google.com/presentation/d/1d9GNcLDsnLxfLmrNRNZE976sHN5qNfkU9Rl2gabUsWc/edit?usp=sharing)."
   ]
  },
  {
   "cell_type": "markdown",
   "metadata": {
    "colab_type": "text",
    "id": "woj-KLR-LtKA"
   },
   "source": [
    "## Setup\n",
    "\n",
    "\n"
   ]
  },
  {
   "cell_type": "markdown",
   "metadata": {
    "colab_type": "text",
    "id": "F_tRn16Vzv_X"
   },
   "source": [
    "### Tutorial Files\n",
    "\n",
    "\n",
    "\n",
    "The files for this tutorial are located in this github repo: https://github.com/dlab-geo\n",
    "\n",
    "- The notebook file: **geopandas_intro_lsc.ipynb**\n",
    "\n",
    "- The data are in the folder **data**\n",
    "\n",
    "\n",
    "#### Tutorial Notebook\n",
    "If you are running the notebook locally on your computer you can clone or download the files from github.  \n",
    "\n",
    "- Then navigate to the folder that contains the notebook file and open it.\n",
    "\n",
    "If you are running the notebook on **Google Collaboratory** you can open the notebook by clicking on the <img src=\"https://colab.research.google.com/assets/colab-badge.svg\" alt=\"Open In Colab\"/> badge shown in the Github repo.\n",
    "\n",
    "- Then, **File > Save in Drive** so you can make and save changes."
   ]
  },
  {
   "cell_type": "markdown",
   "metadata": {
    "colab_type": "text",
    "id": "UD2q760KPbN9"
   },
   "source": [
    "#### Tutorial Data\n",
    "\n",
    "If you downloaded or cloned the github repo to your local computer the data files for this tutorial will be in the **data** folder which should be located in the same folder as the notebook.  If this is the case, set the variable **my_folder** to the current working directory which is referenced as **./**  (a period followed by a forward slash in a linux/unix/MacOS). "
   ]
  },
  {
   "cell_type": "code",
   "execution_count": 1,
   "metadata": {
    "colab": {},
    "colab_type": "code",
    "collapsed": true,
    "id": "4w-1sERPPS8v"
   },
   "outputs": [],
   "source": [
    "# Where are the notebook files?\n",
    "my_folder = \"./\""
   ]
  },
  {
   "cell_type": "markdown",
   "metadata": {
    "colab_type": "text",
    "id": "otgskh_P3cSC"
   },
   "source": [
    "If you are working in **Google Collaboratory** you will need to clone the repo into the collaboratory cloud space. This will only store the files temporarily while your session is active.  If this is the case, uncomment the git command below and run the cell."
   ]
  },
  {
   "cell_type": "code",
   "execution_count": 0,
   "metadata": {
    "colab": {},
    "colab_type": "code",
    "collapsed": true,
    "id": "nmtPwkpU34Ce"
   },
   "outputs": [],
   "source": [
    "#Clone the files from Github so that we can access the data directory\n",
    "#!git clone https://github.com/dlab-geo/geopandas_intro\n"
   ]
  },
  {
   "cell_type": "markdown",
   "metadata": {
    "colab_type": "text",
    "id": "FiEyGZnA4ROi"
   },
   "source": [
    "Take a look at your files with the **ls** command on a mac or in the cloud or **dir()** command on a Windows PC."
   ]
  },
  {
   "cell_type": "code",
   "execution_count": 2,
   "metadata": {
    "colab": {},
    "colab_type": "code",
    "id": "w4s_vUpc4kI1"
   },
   "outputs": [
    {
     "name": "stdout",
     "output_type": "stream",
     "text": [
      "LICENSE                     geopandas_intro_lsc.ipynb\r\n",
      "README.md                   geoparse_spacy-folium.ipynb\r\n",
      "\u001b[34mdata\u001b[m\u001b[m                        \u001b[34molder_versions\u001b[m\u001b[m\r\n",
      "environment.yml.bak         requirements.txt\r\n"
     ]
    }
   ],
   "source": [
    "!ls\n",
    "#!ls data\n",
    "#!ls geopandas_intro\n",
    "#!ls geopandas_intro/data"
   ]
  },
  {
   "cell_type": "markdown",
   "metadata": {
    "colab_type": "text",
    "id": "C8DbM8Mc4nlF"
   },
   "source": [
    "If you see a **geopandas_intro** folder (directory) then update the value of **my_folder** by uncommenting the line below and executing the code."
   ]
  },
  {
   "cell_type": "code",
   "execution_count": 3,
   "metadata": {
    "colab": {},
    "colab_type": "code",
    "id": "TJWSfwp74-fV"
   },
   "outputs": [
    {
     "name": "stdout",
     "output_type": "stream",
     "text": [
      "./\n"
     ]
    }
   ],
   "source": [
    "# Where are the notebook files?\n",
    "#my_folder = \"./geopandas_intro/\"\n",
    "print(my_folder)"
   ]
  },
  {
   "cell_type": "markdown",
   "metadata": {
    "colab_type": "text",
    "id": "8HX0Z_BWO-6-"
   },
   "source": [
    "###  Geospatial libraries\n",
    "\n",
    "We will be using a number of libraries that support working with geospatial data in Python, the most important of which is **Geopandas**.\n",
    "\n",
    "#### GeoPandas\n",
    "\n",
    "[GeoPandas](http://geopandas.org/) is a relatively new Python for working with geospatial data. In the last few years it has grown more powerful and stable. This really is great because previously it was quite complex to work with geospatial data in Python.  GeoPandas is now the go to package for working with geospatial data. \n",
    "\n",
    "`GeoPandas` provides convenient, unified access to the functionality of the [pandas](https://pandas.pydata.org/) package and the functionality provided by a number of lower level spatial data packages including [shapely](https://pypi.python.org/pypi/Shapely) for geometry processing, [fiona](https://pypi.python.org/pypi/Fiona) for spatial data file IO and[ pyproj](https://github.com/jswhit/pyproj) for map projections and coordinate systems.  These libraries should be installed along with Geopandas but if for any reason they are not you can and should manually install them.\n",
    "\n",
    "We will also be using a few other geospatial libraries including:\n",
    "\n",
    "- **pysal** for spatial analysis functions such as data classification methods.\n",
    "- **Descartes** for ploting Shapelygeometric objects with Matplotlib.\n",
    "- **mplleaflet** for converting matplotlib plots to interactive leaflet web maps\n",
    "\n",
    "Finally, we will use a number of standard Python libraries including pandas, numpy, and matplotlib.\n",
    "\n",
    "If you are missing any libraries or you are working in the **Google Collaborary** environment you can install the packages with the following `pip install` commands."
   ]
  },
  {
   "cell_type": "code",
   "execution_count": 0,
   "metadata": {
    "colab": {},
    "colab_type": "code",
    "collapsed": true,
    "id": "hB7qzjMlNBQ_"
   },
   "outputs": [],
   "source": [
    "# Install packages need to work with geospatial data objects and methods\n",
    "#!pip install geopandas                    \n",
    "#!pip install descartes   \n",
    "#!pip install pysal \n",
    "#!pip install mplleaflet\n"
   ]
  },
  {
   "cell_type": "markdown",
   "metadata": {
    "colab_type": "text",
    "id": "tCzrDoU_P3rJ"
   },
   "source": [
    "**Setup complete - you are ready to run!**"
   ]
  },
  {
   "cell_type": "markdown",
   "metadata": {
    "colab_type": "text",
    "id": "8leJm45QA98b"
   },
   "source": [
    "## Import libraries"
   ]
  },
  {
   "cell_type": "code",
   "execution_count": 50,
   "metadata": {
    "colab": {},
    "colab_type": "code",
    "collapsed": true,
    "id": "MsXXfcR0A98f"
   },
   "outputs": [],
   "source": [
    "%matplotlib inline\n",
    "import matplotlib\n",
    "import numpy as np\n",
    "import matplotlib.pyplot as plt\n",
    "import pandas as pd\n",
    "import geopandas as gpd\n",
    "import mplleaflet\n",
    "\n",
    "from shapely.wkt import loads\n",
    "from shapely.geometry import Point, Polygon"
   ]
  },
  {
   "cell_type": "code",
   "execution_count": 65,
   "metadata": {},
   "outputs": [
    {
     "name": "stdout",
     "output_type": "stream",
     "text": [
      "0.4.0\n",
      "1.6.4.post2\n"
     ]
    }
   ],
   "source": [
    "import shapely\n",
    "print(gpd.__version__)\n",
    "print(shapely.__version__)"
   ]
  },
  {
   "cell_type": "markdown",
   "metadata": {
    "colab_type": "text",
    "id": "I20h7FEyA98i"
   },
   "source": [
    "## About the Data \n",
    "\n",
    "This tutorial uses historical census data for the USA and the Orleans Territory, most of which is now called Louisiana, that were obtained from the `NHGIS`, or *National Historical Geographic Information System* website ([IPUMS NHGIS, University of Minnesota, www.nhgis.org](https://www.nhgis.org)).  A cartographic boundary file for the United States was obtained from the [US Census website](https://www.census.gov/geo/maps-data/data/tiger-cart-boundary.html).\n",
    "\n",
    "Data for rivers in the US was downloaded from [Natural Earth](https://www.naturalearthdata.com/), a public domain source of mapping data.\n",
    "\n",
    "Take a look at the data we will use with the **ls** or **dir()** command."
   ]
  },
  {
   "cell_type": "code",
   "execution_count": 5,
   "metadata": {
    "colab": {},
    "colab_type": "code",
    "id": "BkqJY3eWHJZz"
   },
   "outputs": [
    {
     "name": "stdout",
     "output_type": "stream",
     "text": [
      "LICENSE                     geopandas_intro_lsc.ipynb\r\n",
      "README.md                   geoparse_spacy-folium.ipynb\r\n",
      "\u001b[34mdata\u001b[m\u001b[m                        \u001b[34molder_versions\u001b[m\u001b[m\r\n",
      "environment.yml.bak         requirements.txt\r\n"
     ]
    }
   ],
   "source": [
    "!ls\n",
    "#!ls data\n",
    "#!ls geopandas_intro/data"
   ]
  },
  {
   "cell_type": "markdown",
   "metadata": {
    "colab_type": "text",
    "id": "YMtUUdpoA98n"
   },
   "source": [
    "## Reading in a Spatial Data\n",
    "\n",
    "Geopandas makes it easy to read in almost any kind of vector data file including the [ESRI Shapefile](https://en.wikipedia.org/wiki/Shapefile) with the [read_file](http://geopandas.org/io.html) command.  You simply put the name of the file in quotes and assign the resulting object to a simple yet informative variable name, here `usa1810`."
   ]
  },
  {
   "cell_type": "code",
   "execution_count": 66,
   "metadata": {
    "colab": {},
    "colab_type": "code",
    "collapsed": true,
    "id": "68MWKjNdA98o"
   },
   "outputs": [],
   "source": [
    "#usa1810 = gpd.read_file(\"data/uscounties_1810.shp\")  #US counties in 1810\n",
    "usa1810 = gpd.read_file(my_folder + \"data/uscounties_1810.shp\")  #US counties in 1810\n"
   ]
  },
  {
   "cell_type": "markdown",
   "metadata": {
    "colab_type": "text",
    "id": "7UvRy4MXA98q"
   },
   "source": [
    "The `read_file` command returns a geopandas `GeoDataFrame` object, or `gdf` for short. "
   ]
  },
  {
   "cell_type": "code",
   "execution_count": 67,
   "metadata": {
    "colab": {},
    "colab_type": "code",
    "id": "f8QIQrf3A98r"
   },
   "outputs": [
    {
     "data": {
      "text/plain": [
       "geopandas.geodataframe.GeoDataFrame"
      ]
     },
     "execution_count": 67,
     "metadata": {},
     "output_type": "execute_result"
    }
   ],
   "source": [
    "type(usa1810)"
   ]
  },
  {
   "cell_type": "code",
   "execution_count": 69,
   "metadata": {},
   "outputs": [
    {
     "data": {
      "text/plain": [
       "{'init': 'epsg:4326'}"
      ]
     },
     "execution_count": 69,
     "metadata": {},
     "output_type": "execute_result"
    }
   ],
   "source": [
    "usa1810.crs"
   ]
  },
  {
   "cell_type": "code",
   "execution_count": null,
   "metadata": {
    "collapsed": true
   },
   "outputs": [],
   "source": []
  },
  {
   "cell_type": "markdown",
   "metadata": {
    "colab_type": "text",
    "id": "hcu06iJOA98u"
   },
   "source": [
    "Take a look at the `usa1810` gdf with the **head** command, just like you would look at a `pandas` dataframe. Because it is a pandas dataframe, but with geo super powers! \n"
   ]
  },
  {
   "cell_type": "code",
   "execution_count": 8,
   "metadata": {
    "colab": {},
    "colab_type": "code",
    "id": "shkKXmpbA98u"
   },
   "outputs": [
    {
     "data": {
      "text/html": [
       "<div>\n",
       "<style>\n",
       "    .dataframe thead tr:only-child th {\n",
       "        text-align: right;\n",
       "    }\n",
       "\n",
       "    .dataframe thead th {\n",
       "        text-align: left;\n",
       "    }\n",
       "\n",
       "    .dataframe tbody tr th {\n",
       "        vertical-align: top;\n",
       "    }\n",
       "</style>\n",
       "<table border=\"1\" class=\"dataframe\">\n",
       "  <thead>\n",
       "    <tr style=\"text-align: right;\">\n",
       "      <th></th>\n",
       "      <th>DECADE</th>\n",
       "      <th>NHGISNAM</th>\n",
       "      <th>STATENAM</th>\n",
       "      <th>GISJOIN</th>\n",
       "      <th>GISJOIN2</th>\n",
       "      <th>SHAPE_AREA</th>\n",
       "      <th>SHAPE_LEN</th>\n",
       "      <th>geometry</th>\n",
       "    </tr>\n",
       "  </thead>\n",
       "  <tbody>\n",
       "    <tr>\n",
       "      <th>0</th>\n",
       "      <td>1810</td>\n",
       "      <td>Montgomery</td>\n",
       "      <td>Virginia</td>\n",
       "      <td>G5101210</td>\n",
       "      <td>5101210</td>\n",
       "      <td>2.704401e+09</td>\n",
       "      <td>250108.550595</td>\n",
       "      <td>POLYGON ((-80.08745907882387 37.16089860436885...</td>\n",
       "    </tr>\n",
       "    <tr>\n",
       "      <th>1</th>\n",
       "      <td>1810</td>\n",
       "      <td>Montgomery</td>\n",
       "      <td>Maryland</td>\n",
       "      <td>G2400310</td>\n",
       "      <td>2400310</td>\n",
       "      <td>1.311046e+09</td>\n",
       "      <td>174262.163686</td>\n",
       "      <td>POLYGON ((-76.88789298617269 39.13175300782995...</td>\n",
       "    </tr>\n",
       "    <tr>\n",
       "      <th>2</th>\n",
       "      <td>1810</td>\n",
       "      <td>Wilkinson</td>\n",
       "      <td>Georgia</td>\n",
       "      <td>G1303190</td>\n",
       "      <td>1303190</td>\n",
       "      <td>1.176078e+09</td>\n",
       "      <td>162471.446923</td>\n",
       "      <td>POLYGON ((-83.13120298935239 33.00557281456405...</td>\n",
       "    </tr>\n",
       "    <tr>\n",
       "      <th>3</th>\n",
       "      <td>1810</td>\n",
       "      <td>Claiborne</td>\n",
       "      <td>Tennessee</td>\n",
       "      <td>G4700250</td>\n",
       "      <td>4700250</td>\n",
       "      <td>1.532297e+09</td>\n",
       "      <td>227335.501933</td>\n",
       "      <td>POLYGON ((-83.20007636797742 36.59390495157552...</td>\n",
       "    </tr>\n",
       "    <tr>\n",
       "      <th>4</th>\n",
       "      <td>1810</td>\n",
       "      <td>Gallatin</td>\n",
       "      <td>Kentucky</td>\n",
       "      <td>G2100770</td>\n",
       "      <td>2100770</td>\n",
       "      <td>1.099820e+09</td>\n",
       "      <td>188208.818842</td>\n",
       "      <td>POLYGON ((-84.7954100072575 38.85727100829573,...</td>\n",
       "    </tr>\n",
       "  </tbody>\n",
       "</table>\n",
       "</div>"
      ],
      "text/plain": [
       "  DECADE    NHGISNAM   STATENAM   GISJOIN GISJOIN2    SHAPE_AREA  \\\n",
       "0   1810  Montgomery   Virginia  G5101210  5101210  2.704401e+09   \n",
       "1   1810  Montgomery   Maryland  G2400310  2400310  1.311046e+09   \n",
       "2   1810   Wilkinson    Georgia  G1303190  1303190  1.176078e+09   \n",
       "3   1810   Claiborne  Tennessee  G4700250  4700250  1.532297e+09   \n",
       "4   1810    Gallatin   Kentucky  G2100770  2100770  1.099820e+09   \n",
       "\n",
       "       SHAPE_LEN                                           geometry  \n",
       "0  250108.550595  POLYGON ((-80.08745907882387 37.16089860436885...  \n",
       "1  174262.163686  POLYGON ((-76.88789298617269 39.13175300782995...  \n",
       "2  162471.446923  POLYGON ((-83.13120298935239 33.00557281456405...  \n",
       "3  227335.501933  POLYGON ((-83.20007636797742 36.59390495157552...  \n",
       "4  188208.818842  POLYGON ((-84.7954100072575 38.85727100829573,...  "
      ]
     },
     "execution_count": 8,
     "metadata": {},
     "output_type": "execute_result"
    }
   ],
   "source": [
    "usa1810.head()"
   ]
  },
  {
   "cell_type": "markdown",
   "metadata": {},
   "source": [
    "#### *Can you identify the name of the column that contains the  coordinate data?*"
   ]
  },
  {
   "cell_type": "markdown",
   "metadata": {
    "colab_type": "text",
    "id": "Qvk-7kmhA98y"
   },
   "source": [
    "You can access the  coordinate data directy via the `geometry` column."
   ]
  },
  {
   "cell_type": "code",
   "execution_count": 11,
   "metadata": {
    "colab": {},
    "colab_type": "code",
    "id": "Tt-X7H03A98y"
   },
   "outputs": [
    {
     "data": {
      "text/plain": [
       "0    POLYGON ((-80.08745907882387 37.16089860436885...\n",
       "1    POLYGON ((-76.88789298617269 39.13175300782995...\n",
       "2    POLYGON ((-83.13120298935239 33.00557281456405...\n",
       "3    POLYGON ((-83.20007636797742 36.59390495157552...\n",
       "4    POLYGON ((-84.7954100072575 38.85727100829573,...\n",
       "Name: geometry, dtype: object"
      ]
     },
     "execution_count": 11,
     "metadata": {},
     "output_type": "execute_result"
    }
   ],
   "source": [
    "usa1810.geometry.head()"
   ]
  },
  {
   "cell_type": "markdown",
   "metadata": {
    "colab_type": "text",
    "id": "cyTpdXWuA981"
   },
   "source": [
    "\n",
    "What happens if you access just one geometry?"
   ]
  },
  {
   "cell_type": "code",
   "execution_count": 13,
   "metadata": {
    "colab": {},
    "colab_type": "code",
    "id": "I8VckOeOA982"
   },
   "outputs": [
    {
     "data": {
      "image/svg+xml": [
       "<svg xmlns=\"http://www.w3.org/2000/svg\" xmlns:xlink=\"http://www.w3.org/1999/xlink\" width=\"100.0\" height=\"100.0\" viewBox=\"-84.03137716084098 36.25869209263189 0.863273900281385 0.3740950364756017\" preserveAspectRatio=\"xMinYMin meet\"><g transform=\"matrix(1,0,0,-1,0,72.89147922173939)\"><path fill-rule=\"evenodd\" fill=\"#66cc99\" stroke=\"#555555\" stroke-width=\"0.0172654780056277\" opacity=\"0.6\" d=\"M -83.20007636797742,36.59390495157552 L -83.25242612898899,36.56776897573964 L -83.20126771321851,36.526128420906836 L -83.26475399535256,36.4930069967025 L -83.27819301038363,36.48422199701059 L -83.28867999164007,36.479393996838574 L -83.29015398877695,36.47799799978387 L -83.28964600588026,36.46886698765767 L -83.29282001290777,36.4678370030276 L -83.29573799385206,36.468455007800294 L -83.30064098853737,36.47298700594601 L -83.3047209953129,36.47465799679588 L -83.30747000208761,36.47307899110433 L -83.30775298828662,36.46825000472873 L -83.30157500792936,36.46712802134672 L -83.30010201086267,36.46474798772342 L -83.30211398968834,36.462893996214 L -83.31033096585053,36.46120000757851 L -83.31662100598703,36.46099400861163 L -83.3187739992761,36.45847600840044 L -83.32534598433814,36.45463100028937 L -83.33443898998208,36.45211098111734 L -83.3451479965541,36.45082698993872 L -83.34837599622274,36.448468007956116 L -83.34919600605652,36.444921003548636 L -83.34613499479856,36.44288499066538 L -83.34873900253095,36.43892399378893 L -83.35080598674347,36.437779006348876 L -83.35542400767383,36.438051997767865 L -83.35825500941793,36.43635799215565 L -83.3582790379204,36.43125399482603 L -83.35609399468537,36.4247780016078 L -83.35736800582997,36.42310600044069 L -83.36215300885432,36.42260099301656 L -83.37110499942767,36.425618003162214 L -83.37085301361861,36.42960000097593 L -83.3755000033147,36.431386990596806 L -83.37786299095609,36.430096002114446 L -83.37810000320505,36.424057999499134 L -83.37927599221852,36.42091399750524 L -83.38612301113379,36.42008900377022 L -83.38680000469348,36.41318600393113 L -83.39039999507796,36.41298700292824 L -83.39349999340985,36.415187006218474 L -83.40419401054106,36.41582100416643 L -83.40650096511601,36.41808599143337 L -83.41310099842488,36.420585998799815 L -83.41566400862862,36.42061600369709 L -83.41716999793483,36.4174020038685 L -83.41400097922202,36.41318602558077 L -83.41700100715579,36.41148600620927 L -83.41960100622535,36.41268601335552 L -83.4220010003425,36.41578600391021 L -83.42590200216776,36.41798599758502 L -83.42970200782104,36.41718600256557 L -83.43002299459428,36.414776971961544 L -83.42814296880613,36.40949699468335 L -83.43020099320361,36.40768600605304 L -83.43290198742142,36.40868600686976 L -83.43910198703878,36.412885998838846 L -83.44157200856783,36.41074499853521 L -83.44140201145412,36.402086002874825 L -83.44830200386201,36.3968860045722 L -83.45230200240609,36.39738600125756 L -83.4550020070066,36.40218602613671 L -83.45930199026186,36.40098600318975 L -83.4580019839491,36.39748598816457 L -83.45120201129406,36.39448600750944 L -83.44948100591247,36.38771899753542 L -83.45370198844618,36.38598599191817 L -83.45650199147919,36.38758599349904 L -83.45600200122864,36.391986008935554 L -83.45970199556088,36.39268600349382 L -83.46000199573149,36.38918598858387 L -83.4492010038167,36.37428600931377 L -83.45590200894365,36.37188599423469 L -83.46600200382757,36.36918599474464 L -83.46940199211629,36.37038600541402 L -83.47500201611332,36.37468601501778 L -83.47810201238495,36.378485989032434 L -83.48260299870347,36.37958599355276 L -83.48730301711902,36.37728599380535 L -83.49420299383137,36.37938499082322 L -83.49780300896164,36.37818499348295 L -83.4981030077187,36.375084993315966 L -83.49450301844884,36.368886011460056 L -83.49410296823524,36.3644859942731 L -83.49630301162081,36.36218600230556 L -83.50140299651845,36.36308599323648 L -83.50420300183455,36.36698502205831 L -83.50650298787865,36.372484990242384 L -83.50860300540744,36.37298500372995 L -83.5118030097121,36.3708849985178 L -83.5164040056918,36.3649850045704 L -83.5225039944451,36.36618500574306 L -83.52360400013173,36.36268500832772 L -83.5185039934074,36.362784978963255 L -83.51650301254281,36.36078500761259 L -83.5178030367613,36.357384995217956 L -83.52120400710874,36.356684992192335 L -83.52520399670354,36.3593850061519 L -83.52670398889397,36.3635849983313 L -83.53020399190973,36.366284995089416 L -83.53250398607882,36.36508500991163 L -83.53270400697468,36.36178499490047 L -83.53160400139234,36.35628499764965 L -83.53250399150087,36.353384987955145 L -83.53720399638527,36.35268497266288 L -83.54170399464668,36.35508500755383 L -83.54460399777096,36.35818500076385 L -83.55090499534572,36.36828399108403 L -83.5527050069553,36.36718398429421 L -83.55260500417936,36.362284004911466 L -83.55550500446049,36.36138398909496 L -83.5584050058328,36.36348399466881 L -83.55890498420905,36.36788400204572 L -83.56190498904508,36.37188400667766 L -83.56480497207676,36.37258399691608 L -83.5684050046577,36.36998400706597 L -83.56900500876945,36.36498401053057 L -83.5739050080161,36.363283998101245 L -83.57850500042586,36.36388400076357 L -83.5851059792969,36.36838399839694 L -83.59010600373442,36.36918300861749 L -83.5942060108742,36.367482997347025 L -83.59530599469639,36.35958302062503 L -83.59730600084914,36.35718299481124 L -83.60810599618911,36.35418299296463 L -83.61180599662322,36.35038298954877 L -83.61260599889869,36.34738299991097 L -83.61480599320491,36.3455830259887 L -83.62620599216663,36.34278300465843 L -83.63250700466557,36.338382997951534 L -83.6403069871167,36.336082999177734 L -83.64250699689019,36.33648298289153 L -83.64710700316571,36.33968198496785 L -83.65100700052591,36.339481995669864 L -83.65290701532686,36.3378819779108 L -83.6545070034229,36.33328200878926 L -83.65880699996067,36.33198199250355 L -83.66250700549001,36.33368200399325 L -83.66250801147142,36.339581995161005 L -83.67580800484447,36.352782002955806 L -83.68140899097263,36.3569809940394 L -83.69070898648495,36.36028099095095 L -83.69510899637656,36.3648809945816 L -83.69730899445578,36.365681003326564 L -83.70210899504389,36.3626809914752 L -83.7065090024563,36.355881000741974 L -83.70760899435632,36.352280991654204 L -83.71110901022904,36.346180995148444 L -83.7140089940972,36.344181001794 L -83.72180899917637,36.34268100314908 L -83.73121000595853,36.34517999798989 L -83.73300999003256,36.34498000492588 L -83.73966461035218,36.33743549786105 L -83.74885163125813,36.331171601573985 L -83.75678589834199,36.31989663754081 L -83.76889605635735,36.307786478670884 L -83.77808307640076,36.302775373345014 L -83.78768768162122,36.3052809014635 L -83.79896265503282,36.303610550997284 L -83.80606171540909,36.298599450680975 L -83.82568856071454,36.29985222124092 L -83.83821630665393,36.297764257456556 L -83.8444801755967,36.290665200049716 L -83.90871700541601,36.39807899528097 L -83.9027170050982,36.405379011922165 L -83.90641699308475,36.410278990185994 L -83.9033169920642,36.418279011312585 L -83.89970098876212,36.423314003156364 L -83.90291799160178,36.427478998558 L -83.907317991037,36.42907899836409 L -83.91141798802013,36.426278995867115 L -83.9226179994977,36.42777900624611 L -83.9223179951091,36.432079002410426 L -83.92406300789881,36.43683098877739 L -83.92761900887389,36.44107901529146 L -83.93331899298838,36.45327900706219 L -83.92991899700537,36.455579016926954 L -83.93031899092318,36.459979005206606 L -83.93650298990835,36.46007802640495 L -83.956170003094,36.500078998707345 L -83.9608640017185,36.509008979154004 L -83.98014874631293,36.5507231539829 L -83.99940405342315,36.58986890491367 L -83.97832398630187,36.58938098295719 L -83.93095047936367,36.587682003545154 L -83.89452100238955,36.58648098007909 L -83.82671899325632,36.58488100346851 L -83.78901700339495,36.583881000056664 L -83.74991599753275,36.58348098224881 L -83.69071396733273,36.58258100726379 L -83.6888139995065,36.58438199093265 L -83.68291396705698,36.5928820323749 L -83.67901400093429,36.594481980858646 L -83.67561401243871,36.59878201845612 L -83.67541298268748,36.600814021689665 L -83.64558600990262,36.600002001131855 L -83.622040013882,36.59797994208242 L -83.55680997398069,36.59738401388332 L -83.49990897533142,36.59723399426679 L -83.41510498053019,36.597384983291334 L -83.37490398836918,36.59738598700834 L -83.27629996387918,36.59818701081515 L -83.26109901114654,36.593886984735384 L -83.20007636797742,36.59390495157552 z\" /></g></svg>"
      ],
      "text/plain": [
       "<shapely.geometry.polygon.Polygon at 0x110d619b0>"
      ]
     },
     "execution_count": 13,
     "metadata": {},
     "output_type": "execute_result"
    }
   ],
   "source": [
    "usa1810.geometry[3]"
   ]
  },
  {
   "cell_type": "markdown",
   "metadata": {
    "colab_type": "text",
    "id": "aPP7GJaPDMAd"
   },
   "source": [
    "### Challenge\n",
    "\n",
    "How can you display the geometry for the county New York, New York?  \n",
    "\n",
    "- Hint: take a look at the rows for New York state."
   ]
  },
  {
   "cell_type": "code",
   "execution_count": 14,
   "metadata": {
    "colab": {},
    "colab_type": "code",
    "id": "7jv3tAI5Chnl"
   },
   "outputs": [
    {
     "data": {
      "text/html": [
       "<div>\n",
       "<style>\n",
       "    .dataframe thead tr:only-child th {\n",
       "        text-align: right;\n",
       "    }\n",
       "\n",
       "    .dataframe thead th {\n",
       "        text-align: left;\n",
       "    }\n",
       "\n",
       "    .dataframe tbody tr th {\n",
       "        vertical-align: top;\n",
       "    }\n",
       "</style>\n",
       "<table border=\"1\" class=\"dataframe\">\n",
       "  <thead>\n",
       "    <tr style=\"text-align: right;\">\n",
       "      <th></th>\n",
       "      <th>DECADE</th>\n",
       "      <th>NHGISNAM</th>\n",
       "      <th>STATENAM</th>\n",
       "      <th>GISJOIN</th>\n",
       "      <th>GISJOIN2</th>\n",
       "      <th>SHAPE_AREA</th>\n",
       "      <th>SHAPE_LEN</th>\n",
       "      <th>geometry</th>\n",
       "    </tr>\n",
       "  </thead>\n",
       "  <tbody>\n",
       "    <tr>\n",
       "      <th>18</th>\n",
       "      <td>1810</td>\n",
       "      <td>Suffolk</td>\n",
       "      <td>New York</td>\n",
       "      <td>G3601030</td>\n",
       "      <td>3601030</td>\n",
       "      <td>2.416189e+09</td>\n",
       "      <td>1.329778e+06</td>\n",
       "      <td>(POLYGON ((-73.42416701469608 40.6580000536887...</td>\n",
       "    </tr>\n",
       "    <tr>\n",
       "      <th>26</th>\n",
       "      <td>1810</td>\n",
       "      <td>Columbia</td>\n",
       "      <td>New York</td>\n",
       "      <td>G3600210</td>\n",
       "      <td>3600210</td>\n",
       "      <td>1.679000e+09</td>\n",
       "      <td>1.844468e+05</td>\n",
       "      <td>POLYGON ((-73.49687897185187 42.04967499997159...</td>\n",
       "    </tr>\n",
       "    <tr>\n",
       "      <th>109</th>\n",
       "      <td>1810</td>\n",
       "      <td>Steuben</td>\n",
       "      <td>New York</td>\n",
       "      <td>G3601010</td>\n",
       "      <td>3601010</td>\n",
       "      <td>4.172335e+09</td>\n",
       "      <td>2.680999e+05</td>\n",
       "      <td>POLYGON ((-76.87843303788328 42.38895702307929...</td>\n",
       "    </tr>\n",
       "    <tr>\n",
       "      <th>120</th>\n",
       "      <td>1810</td>\n",
       "      <td>Saratoga</td>\n",
       "      <td>New York</td>\n",
       "      <td>G3600910</td>\n",
       "      <td>3600910</td>\n",
       "      <td>2.185179e+09</td>\n",
       "      <td>2.441839e+05</td>\n",
       "      <td>POLYGON ((-73.63546299393377 42.94128999916123...</td>\n",
       "    </tr>\n",
       "    <tr>\n",
       "      <th>128</th>\n",
       "      <td>1810</td>\n",
       "      <td>Cayuga</td>\n",
       "      <td>New York</td>\n",
       "      <td>G3600110</td>\n",
       "      <td>3600110</td>\n",
       "      <td>2.474424e+09</td>\n",
       "      <td>2.994366e+05</td>\n",
       "      <td>POLYGON ((-76.27467299268655 42.77125698803115...</td>\n",
       "    </tr>\n",
       "    <tr>\n",
       "      <th>146</th>\n",
       "      <td>1810</td>\n",
       "      <td>Orange</td>\n",
       "      <td>New York</td>\n",
       "      <td>G3600710</td>\n",
       "      <td>3600710</td>\n",
       "      <td>2.171807e+09</td>\n",
       "      <td>2.218004e+05</td>\n",
       "      <td>POLYGON ((-73.98138400069257 41.32469300367897...</td>\n",
       "    </tr>\n",
       "    <tr>\n",
       "      <th>159</th>\n",
       "      <td>1810</td>\n",
       "      <td>Albany</td>\n",
       "      <td>New York</td>\n",
       "      <td>G3600010</td>\n",
       "      <td>3600010</td>\n",
       "      <td>1.380993e+09</td>\n",
       "      <td>1.662953e+05</td>\n",
       "      <td>POLYGON ((-73.67676201495496 42.78327699440144...</td>\n",
       "    </tr>\n",
       "    <tr>\n",
       "      <th>176</th>\n",
       "      <td>1810</td>\n",
       "      <td>Schenectady</td>\n",
       "      <td>New York</td>\n",
       "      <td>G3600930</td>\n",
       "      <td>3600930</td>\n",
       "      <td>5.429156e+08</td>\n",
       "      <td>1.180612e+05</td>\n",
       "      <td>POLYGON ((-73.80936500898397 42.77887699605293...</td>\n",
       "    </tr>\n",
       "    <tr>\n",
       "      <th>183</th>\n",
       "      <td>1810</td>\n",
       "      <td>Washington</td>\n",
       "      <td>New York</td>\n",
       "      <td>G3601150</td>\n",
       "      <td>3601150</td>\n",
       "      <td>4.609918e+09</td>\n",
       "      <td>3.912294e+05</td>\n",
       "      <td>POLYGON ((-73.25463299062589 43.3146750308178,...</td>\n",
       "    </tr>\n",
       "    <tr>\n",
       "      <th>224</th>\n",
       "      <td>1810</td>\n",
       "      <td>Delaware</td>\n",
       "      <td>New York</td>\n",
       "      <td>G3600250</td>\n",
       "      <td>3600250</td>\n",
       "      <td>3.786525e+09</td>\n",
       "      <td>2.822962e+05</td>\n",
       "      <td>POLYGON ((-74.44350598485298 42.35501700815785...</td>\n",
       "    </tr>\n",
       "    <tr>\n",
       "      <th>229</th>\n",
       "      <td>1810</td>\n",
       "      <td>Ontario</td>\n",
       "      <td>New York</td>\n",
       "      <td>G3600690</td>\n",
       "      <td>3600690</td>\n",
       "      <td>5.007249e+09</td>\n",
       "      <td>3.437908e+05</td>\n",
       "      <td>POLYGON ((-76.96336701291008 43.24005396855178...</td>\n",
       "    </tr>\n",
       "    <tr>\n",
       "      <th>234</th>\n",
       "      <td>1810</td>\n",
       "      <td>Genesee</td>\n",
       "      <td>New York</td>\n",
       "      <td>G3600370</td>\n",
       "      <td>3600370</td>\n",
       "      <td>5.175915e+09</td>\n",
       "      <td>3.585470e+05</td>\n",
       "      <td>POLYGON ((-77.6063403063274 43.25424672517649,...</td>\n",
       "    </tr>\n",
       "    <tr>\n",
       "      <th>250</th>\n",
       "      <td>1810</td>\n",
       "      <td>Onondaga</td>\n",
       "      <td>New York</td>\n",
       "      <td>G3600670</td>\n",
       "      <td>3600670</td>\n",
       "      <td>2.427079e+09</td>\n",
       "      <td>2.966763e+05</td>\n",
       "      <td>POLYGON ((-76.51263700536383 43.46323817474329...</td>\n",
       "    </tr>\n",
       "    <tr>\n",
       "      <th>273</th>\n",
       "      <td>1810</td>\n",
       "      <td>Rensselaer</td>\n",
       "      <td>New York</td>\n",
       "      <td>G3600830</td>\n",
       "      <td>3600830</td>\n",
       "      <td>1.717061e+09</td>\n",
       "      <td>1.749646e+05</td>\n",
       "      <td>POLYGON ((-73.26495699955009 42.74594001628937...</td>\n",
       "    </tr>\n",
       "    <tr>\n",
       "      <th>300</th>\n",
       "      <td>1810</td>\n",
       "      <td>Jefferson</td>\n",
       "      <td>New York</td>\n",
       "      <td>G3600450</td>\n",
       "      <td>3600450</td>\n",
       "      <td>3.265276e+09</td>\n",
       "      <td>7.259623e+05</td>\n",
       "      <td>(POLYGON ((-75.44612400787977 44.2176550006350...</td>\n",
       "    </tr>\n",
       "    <tr>\n",
       "      <th>301</th>\n",
       "      <td>1810</td>\n",
       "      <td>Allegany</td>\n",
       "      <td>New York</td>\n",
       "      <td>G3600030</td>\n",
       "      <td>3600030</td>\n",
       "      <td>3.057987e+09</td>\n",
       "      <td>2.253640e+05</td>\n",
       "      <td>POLYGON ((-77.71997599742939 42.56559970614844...</td>\n",
       "    </tr>\n",
       "    <tr>\n",
       "      <th>326</th>\n",
       "      <td>1810</td>\n",
       "      <td>Kings</td>\n",
       "      <td>New York</td>\n",
       "      <td>G3600470</td>\n",
       "      <td>3600470</td>\n",
       "      <td>1.794972e+08</td>\n",
       "      <td>1.054868e+05</td>\n",
       "      <td>POLYGON ((-73.85744198243893 40.64994798374976...</td>\n",
       "    </tr>\n",
       "    <tr>\n",
       "      <th>328</th>\n",
       "      <td>1810</td>\n",
       "      <td>Dutchess</td>\n",
       "      <td>New York</td>\n",
       "      <td>G3600270</td>\n",
       "      <td>3600270</td>\n",
       "      <td>2.775481e+09</td>\n",
       "      <td>2.504888e+05</td>\n",
       "      <td>POLYGON ((-73.51806500059956 41.66682901160339...</td>\n",
       "    </tr>\n",
       "    <tr>\n",
       "      <th>335</th>\n",
       "      <td>1810</td>\n",
       "      <td>Herkimer</td>\n",
       "      <td>New York</td>\n",
       "      <td>G3600430</td>\n",
       "      <td>3600430</td>\n",
       "      <td>3.241049e+09</td>\n",
       "      <td>3.570080e+05</td>\n",
       "      <td>POLYGON ((-74.87882199643116 42.89827400679418...</td>\n",
       "    </tr>\n",
       "    <tr>\n",
       "      <th>345</th>\n",
       "      <td>1810</td>\n",
       "      <td>Essex</td>\n",
       "      <td>New York</td>\n",
       "      <td>G3600310</td>\n",
       "      <td>3600310</td>\n",
       "      <td>5.041576e+09</td>\n",
       "      <td>3.257357e+05</td>\n",
       "      <td>POLYGON ((-73.31339499293999 44.26407300452405...</td>\n",
       "    </tr>\n",
       "    <tr>\n",
       "      <th>353</th>\n",
       "      <td>1810</td>\n",
       "      <td>Ulster</td>\n",
       "      <td>New York</td>\n",
       "      <td>G3601110</td>\n",
       "      <td>3601110</td>\n",
       "      <td>3.013565e+09</td>\n",
       "      <td>2.757513e+05</td>\n",
       "      <td>POLYGON ((-73.95331142322084 41.58997618882718...</td>\n",
       "    </tr>\n",
       "    <tr>\n",
       "      <th>368</th>\n",
       "      <td>1810</td>\n",
       "      <td>Rockland</td>\n",
       "      <td>New York</td>\n",
       "      <td>G3600870</td>\n",
       "      <td>3600870</td>\n",
       "      <td>4.632735e+08</td>\n",
       "      <td>1.122819e+05</td>\n",
       "      <td>POLYGON ((-73.90267997425514 40.9972969997571,...</td>\n",
       "    </tr>\n",
       "    <tr>\n",
       "      <th>381</th>\n",
       "      <td>1810</td>\n",
       "      <td>Madison</td>\n",
       "      <td>New York</td>\n",
       "      <td>G3600530</td>\n",
       "      <td>3600530</td>\n",
       "      <td>1.673924e+09</td>\n",
       "      <td>2.507817e+05</td>\n",
       "      <td>POLYGON ((-75.24799599951932 42.87151700055592...</td>\n",
       "    </tr>\n",
       "    <tr>\n",
       "      <th>406</th>\n",
       "      <td>1810</td>\n",
       "      <td>Franklin</td>\n",
       "      <td>New York</td>\n",
       "      <td>G3600330</td>\n",
       "      <td>3600330</td>\n",
       "      <td>4.391854e+09</td>\n",
       "      <td>3.169429e+05</td>\n",
       "      <td>POLYGON ((-73.90968699056812 44.42969900420335...</td>\n",
       "    </tr>\n",
       "    <tr>\n",
       "      <th>411</th>\n",
       "      <td>1810</td>\n",
       "      <td>Niagara</td>\n",
       "      <td>New York</td>\n",
       "      <td>G3600630</td>\n",
       "      <td>3600630</td>\n",
       "      <td>1.030198e+10</td>\n",
       "      <td>6.301389e+05</td>\n",
       "      <td>(POLYGON ((-78.46547699314402 43.3714579692757...</td>\n",
       "    </tr>\n",
       "    <tr>\n",
       "      <th>414</th>\n",
       "      <td>1810</td>\n",
       "      <td>New York</td>\n",
       "      <td>New York</td>\n",
       "      <td>G3600610</td>\n",
       "      <td>3600610</td>\n",
       "      <td>5.946330e+07</td>\n",
       "      <td>9.665025e+04</td>\n",
       "      <td>(POLYGON ((-73.92229355831348 40.8748715779531...</td>\n",
       "    </tr>\n",
       "    <tr>\n",
       "      <th>429</th>\n",
       "      <td>1810</td>\n",
       "      <td>Clinton</td>\n",
       "      <td>New York</td>\n",
       "      <td>G3600190</td>\n",
       "      <td>3600190</td>\n",
       "      <td>2.878341e+09</td>\n",
       "      <td>2.317779e+05</td>\n",
       "      <td>POLYGON ((-73.36153998807517 44.56361398547458...</td>\n",
       "    </tr>\n",
       "    <tr>\n",
       "      <th>450</th>\n",
       "      <td>1810</td>\n",
       "      <td>Otsego</td>\n",
       "      <td>New York</td>\n",
       "      <td>G3600770</td>\n",
       "      <td>3600770</td>\n",
       "      <td>2.644729e+09</td>\n",
       "      <td>2.735403e+05</td>\n",
       "      <td>POLYGON ((-74.71157999444792 42.51779897749871...</td>\n",
       "    </tr>\n",
       "    <tr>\n",
       "      <th>469</th>\n",
       "      <td>1810</td>\n",
       "      <td>Montgomery</td>\n",
       "      <td>New York</td>\n",
       "      <td>G3600570</td>\n",
       "      <td>3600570</td>\n",
       "      <td>7.599255e+09</td>\n",
       "      <td>3.887412e+05</td>\n",
       "      <td>POLYGON ((-74.26368300542691 42.79659899731751...</td>\n",
       "    </tr>\n",
       "    <tr>\n",
       "      <th>480</th>\n",
       "      <td>1810</td>\n",
       "      <td>Schoharie</td>\n",
       "      <td>New York</td>\n",
       "      <td>G3600950</td>\n",
       "      <td>3600950</td>\n",
       "      <td>1.590056e+09</td>\n",
       "      <td>1.808861e+05</td>\n",
       "      <td>POLYGON ((-74.18027501293149 42.72997899428513...</td>\n",
       "    </tr>\n",
       "    <tr>\n",
       "      <th>485</th>\n",
       "      <td>1810</td>\n",
       "      <td>Westchester</td>\n",
       "      <td>New York</td>\n",
       "      <td>G3601190</td>\n",
       "      <td>3601190</td>\n",
       "      <td>1.276805e+09</td>\n",
       "      <td>3.055275e+05</td>\n",
       "      <td>(POLYGON ((-73.65777717071154 41.0030830900488...</td>\n",
       "    </tr>\n",
       "    <tr>\n",
       "      <th>493</th>\n",
       "      <td>1810</td>\n",
       "      <td>Oneida</td>\n",
       "      <td>New York</td>\n",
       "      <td>G3600650</td>\n",
       "      <td>3600650</td>\n",
       "      <td>5.585323e+09</td>\n",
       "      <td>4.895175e+05</td>\n",
       "      <td>(POLYGON ((-75.21215801772344 42.8799729989905...</td>\n",
       "    </tr>\n",
       "    <tr>\n",
       "      <th>494</th>\n",
       "      <td>1810</td>\n",
       "      <td>Tioga</td>\n",
       "      <td>New York</td>\n",
       "      <td>G3601070</td>\n",
       "      <td>3601070</td>\n",
       "      <td>2.553896e+09</td>\n",
       "      <td>2.046338e+05</td>\n",
       "      <td>POLYGON ((-76.27579899612009 41.99837799815511...</td>\n",
       "    </tr>\n",
       "    <tr>\n",
       "      <th>512</th>\n",
       "      <td>1810</td>\n",
       "      <td>Queens</td>\n",
       "      <td>New York</td>\n",
       "      <td>G3600810</td>\n",
       "      <td>3600810</td>\n",
       "      <td>1.041510e+09</td>\n",
       "      <td>7.708090e+05</td>\n",
       "      <td>(POLYGON ((-73.56237199852237 40.6299020234951...</td>\n",
       "    </tr>\n",
       "    <tr>\n",
       "      <th>529</th>\n",
       "      <td>1810</td>\n",
       "      <td>Sullivan</td>\n",
       "      <td>New York</td>\n",
       "      <td>G3601050</td>\n",
       "      <td>3601050</td>\n",
       "      <td>2.581820e+09</td>\n",
       "      <td>2.520184e+05</td>\n",
       "      <td>POLYGON ((-74.36743800108394 41.59098900672072...</td>\n",
       "    </tr>\n",
       "    <tr>\n",
       "      <th>531</th>\n",
       "      <td>1810</td>\n",
       "      <td>Richmond</td>\n",
       "      <td>New York</td>\n",
       "      <td>G3600850</td>\n",
       "      <td>3600850</td>\n",
       "      <td>1.523084e+08</td>\n",
       "      <td>7.906624e+04</td>\n",
       "      <td>(POLYGON ((-74.07838394942154 40.6486009928040...</td>\n",
       "    </tr>\n",
       "    <tr>\n",
       "      <th>535</th>\n",
       "      <td>1810</td>\n",
       "      <td>Lewis</td>\n",
       "      <td>New York</td>\n",
       "      <td>G3600490</td>\n",
       "      <td>3600490</td>\n",
       "      <td>3.412482e+09</td>\n",
       "      <td>2.432722e+05</td>\n",
       "      <td>POLYGON ((-75.11015998827864 43.61522900636344...</td>\n",
       "    </tr>\n",
       "    <tr>\n",
       "      <th>544</th>\n",
       "      <td>1810</td>\n",
       "      <td>Broome</td>\n",
       "      <td>New York</td>\n",
       "      <td>G3600070</td>\n",
       "      <td>3600070</td>\n",
       "      <td>2.449922e+09</td>\n",
       "      <td>2.489349e+05</td>\n",
       "      <td>POLYGON ((-75.41842101028531 42.19503199522507...</td>\n",
       "    </tr>\n",
       "    <tr>\n",
       "      <th>549</th>\n",
       "      <td>1810</td>\n",
       "      <td>Seneca</td>\n",
       "      <td>New York</td>\n",
       "      <td>G3600990</td>\n",
       "      <td>3600990</td>\n",
       "      <td>2.276364e+09</td>\n",
       "      <td>3.072659e+05</td>\n",
       "      <td>(POLYGON ((-76.72235601145015 43.3419189863303...</td>\n",
       "    </tr>\n",
       "    <tr>\n",
       "      <th>551</th>\n",
       "      <td>1810</td>\n",
       "      <td>Greene</td>\n",
       "      <td>New York</td>\n",
       "      <td>G3600390</td>\n",
       "      <td>3600390</td>\n",
       "      <td>1.729489e+09</td>\n",
       "      <td>1.837640e+05</td>\n",
       "      <td>POLYGON ((-73.91067501333723 42.12729300116986...</td>\n",
       "    </tr>\n",
       "    <tr>\n",
       "      <th>559</th>\n",
       "      <td>1810</td>\n",
       "      <td>St. Lawrence</td>\n",
       "      <td>New York</td>\n",
       "      <td>G3600890</td>\n",
       "      <td>3600890</td>\n",
       "      <td>7.155621e+09</td>\n",
       "      <td>5.647083e+05</td>\n",
       "      <td>(POLYGON ((-74.72567899505971 44.9907969847821...</td>\n",
       "    </tr>\n",
       "    <tr>\n",
       "      <th>572</th>\n",
       "      <td>1810</td>\n",
       "      <td>Cortland</td>\n",
       "      <td>New York</td>\n",
       "      <td>G3600230</td>\n",
       "      <td>3600230</td>\n",
       "      <td>1.280631e+09</td>\n",
       "      <td>1.457353e+05</td>\n",
       "      <td>POLYGON ((-76.25395200017648 42.41736900849591...</td>\n",
       "    </tr>\n",
       "    <tr>\n",
       "      <th>585</th>\n",
       "      <td>1810</td>\n",
       "      <td>Chenango</td>\n",
       "      <td>New York</td>\n",
       "      <td>G3600170</td>\n",
       "      <td>3600170</td>\n",
       "      <td>2.327600e+09</td>\n",
       "      <td>2.247337e+05</td>\n",
       "      <td>POLYGON ((-75.41531899227378 42.31415099326831...</td>\n",
       "    </tr>\n",
       "  </tbody>\n",
       "</table>\n",
       "</div>"
      ],
      "text/plain": [
       "    DECADE      NHGISNAM  STATENAM   GISJOIN GISJOIN2    SHAPE_AREA  \\\n",
       "18    1810       Suffolk  New York  G3601030  3601030  2.416189e+09   \n",
       "26    1810      Columbia  New York  G3600210  3600210  1.679000e+09   \n",
       "109   1810       Steuben  New York  G3601010  3601010  4.172335e+09   \n",
       "120   1810      Saratoga  New York  G3600910  3600910  2.185179e+09   \n",
       "128   1810        Cayuga  New York  G3600110  3600110  2.474424e+09   \n",
       "146   1810        Orange  New York  G3600710  3600710  2.171807e+09   \n",
       "159   1810        Albany  New York  G3600010  3600010  1.380993e+09   \n",
       "176   1810   Schenectady  New York  G3600930  3600930  5.429156e+08   \n",
       "183   1810    Washington  New York  G3601150  3601150  4.609918e+09   \n",
       "224   1810      Delaware  New York  G3600250  3600250  3.786525e+09   \n",
       "229   1810       Ontario  New York  G3600690  3600690  5.007249e+09   \n",
       "234   1810       Genesee  New York  G3600370  3600370  5.175915e+09   \n",
       "250   1810      Onondaga  New York  G3600670  3600670  2.427079e+09   \n",
       "273   1810    Rensselaer  New York  G3600830  3600830  1.717061e+09   \n",
       "300   1810     Jefferson  New York  G3600450  3600450  3.265276e+09   \n",
       "301   1810      Allegany  New York  G3600030  3600030  3.057987e+09   \n",
       "326   1810         Kings  New York  G3600470  3600470  1.794972e+08   \n",
       "328   1810      Dutchess  New York  G3600270  3600270  2.775481e+09   \n",
       "335   1810      Herkimer  New York  G3600430  3600430  3.241049e+09   \n",
       "345   1810         Essex  New York  G3600310  3600310  5.041576e+09   \n",
       "353   1810        Ulster  New York  G3601110  3601110  3.013565e+09   \n",
       "368   1810      Rockland  New York  G3600870  3600870  4.632735e+08   \n",
       "381   1810       Madison  New York  G3600530  3600530  1.673924e+09   \n",
       "406   1810      Franklin  New York  G3600330  3600330  4.391854e+09   \n",
       "411   1810       Niagara  New York  G3600630  3600630  1.030198e+10   \n",
       "414   1810      New York  New York  G3600610  3600610  5.946330e+07   \n",
       "429   1810       Clinton  New York  G3600190  3600190  2.878341e+09   \n",
       "450   1810        Otsego  New York  G3600770  3600770  2.644729e+09   \n",
       "469   1810    Montgomery  New York  G3600570  3600570  7.599255e+09   \n",
       "480   1810     Schoharie  New York  G3600950  3600950  1.590056e+09   \n",
       "485   1810   Westchester  New York  G3601190  3601190  1.276805e+09   \n",
       "493   1810        Oneida  New York  G3600650  3600650  5.585323e+09   \n",
       "494   1810         Tioga  New York  G3601070  3601070  2.553896e+09   \n",
       "512   1810        Queens  New York  G3600810  3600810  1.041510e+09   \n",
       "529   1810      Sullivan  New York  G3601050  3601050  2.581820e+09   \n",
       "531   1810      Richmond  New York  G3600850  3600850  1.523084e+08   \n",
       "535   1810         Lewis  New York  G3600490  3600490  3.412482e+09   \n",
       "544   1810        Broome  New York  G3600070  3600070  2.449922e+09   \n",
       "549   1810        Seneca  New York  G3600990  3600990  2.276364e+09   \n",
       "551   1810        Greene  New York  G3600390  3600390  1.729489e+09   \n",
       "559   1810  St. Lawrence  New York  G3600890  3600890  7.155621e+09   \n",
       "572   1810      Cortland  New York  G3600230  3600230  1.280631e+09   \n",
       "585   1810      Chenango  New York  G3600170  3600170  2.327600e+09   \n",
       "\n",
       "        SHAPE_LEN                                           geometry  \n",
       "18   1.329778e+06  (POLYGON ((-73.42416701469608 40.6580000536887...  \n",
       "26   1.844468e+05  POLYGON ((-73.49687897185187 42.04967499997159...  \n",
       "109  2.680999e+05  POLYGON ((-76.87843303788328 42.38895702307929...  \n",
       "120  2.441839e+05  POLYGON ((-73.63546299393377 42.94128999916123...  \n",
       "128  2.994366e+05  POLYGON ((-76.27467299268655 42.77125698803115...  \n",
       "146  2.218004e+05  POLYGON ((-73.98138400069257 41.32469300367897...  \n",
       "159  1.662953e+05  POLYGON ((-73.67676201495496 42.78327699440144...  \n",
       "176  1.180612e+05  POLYGON ((-73.80936500898397 42.77887699605293...  \n",
       "183  3.912294e+05  POLYGON ((-73.25463299062589 43.3146750308178,...  \n",
       "224  2.822962e+05  POLYGON ((-74.44350598485298 42.35501700815785...  \n",
       "229  3.437908e+05  POLYGON ((-76.96336701291008 43.24005396855178...  \n",
       "234  3.585470e+05  POLYGON ((-77.6063403063274 43.25424672517649,...  \n",
       "250  2.966763e+05  POLYGON ((-76.51263700536383 43.46323817474329...  \n",
       "273  1.749646e+05  POLYGON ((-73.26495699955009 42.74594001628937...  \n",
       "300  7.259623e+05  (POLYGON ((-75.44612400787977 44.2176550006350...  \n",
       "301  2.253640e+05  POLYGON ((-77.71997599742939 42.56559970614844...  \n",
       "326  1.054868e+05  POLYGON ((-73.85744198243893 40.64994798374976...  \n",
       "328  2.504888e+05  POLYGON ((-73.51806500059956 41.66682901160339...  \n",
       "335  3.570080e+05  POLYGON ((-74.87882199643116 42.89827400679418...  \n",
       "345  3.257357e+05  POLYGON ((-73.31339499293999 44.26407300452405...  \n",
       "353  2.757513e+05  POLYGON ((-73.95331142322084 41.58997618882718...  \n",
       "368  1.122819e+05  POLYGON ((-73.90267997425514 40.9972969997571,...  \n",
       "381  2.507817e+05  POLYGON ((-75.24799599951932 42.87151700055592...  \n",
       "406  3.169429e+05  POLYGON ((-73.90968699056812 44.42969900420335...  \n",
       "411  6.301389e+05  (POLYGON ((-78.46547699314402 43.3714579692757...  \n",
       "414  9.665025e+04  (POLYGON ((-73.92229355831348 40.8748715779531...  \n",
       "429  2.317779e+05  POLYGON ((-73.36153998807517 44.56361398547458...  \n",
       "450  2.735403e+05  POLYGON ((-74.71157999444792 42.51779897749871...  \n",
       "469  3.887412e+05  POLYGON ((-74.26368300542691 42.79659899731751...  \n",
       "480  1.808861e+05  POLYGON ((-74.18027501293149 42.72997899428513...  \n",
       "485  3.055275e+05  (POLYGON ((-73.65777717071154 41.0030830900488...  \n",
       "493  4.895175e+05  (POLYGON ((-75.21215801772344 42.8799729989905...  \n",
       "494  2.046338e+05  POLYGON ((-76.27579899612009 41.99837799815511...  \n",
       "512  7.708090e+05  (POLYGON ((-73.56237199852237 40.6299020234951...  \n",
       "529  2.520184e+05  POLYGON ((-74.36743800108394 41.59098900672072...  \n",
       "531  7.906624e+04  (POLYGON ((-74.07838394942154 40.6486009928040...  \n",
       "535  2.432722e+05  POLYGON ((-75.11015998827864 43.61522900636344...  \n",
       "544  2.489349e+05  POLYGON ((-75.41842101028531 42.19503199522507...  \n",
       "549  3.072659e+05  (POLYGON ((-76.72235601145015 43.3419189863303...  \n",
       "551  1.837640e+05  POLYGON ((-73.91067501333723 42.12729300116986...  \n",
       "559  5.647083e+05  (POLYGON ((-74.72567899505971 44.9907969847821...  \n",
       "572  1.457353e+05  POLYGON ((-76.25395200017648 42.41736900849591...  \n",
       "585  2.247337e+05  POLYGON ((-75.41531899227378 42.31415099326831...  "
      ]
     },
     "execution_count": 14,
     "metadata": {},
     "output_type": "execute_result"
    }
   ],
   "source": [
    "usa1810[usa1810['STATENAM']=='New York']"
   ]
  },
  {
   "cell_type": "code",
   "execution_count": 44,
   "metadata": {},
   "outputs": [],
   "source": [
    "world = gpd.read_file(gpd.datasets.get_path('naturalearth_lowres'))"
   ]
  },
  {
   "cell_type": "code",
   "execution_count": 45,
   "metadata": {},
   "outputs": [
    {
     "data": {
      "text/html": [
       "<div>\n",
       "<style>\n",
       "    .dataframe thead tr:only-child th {\n",
       "        text-align: right;\n",
       "    }\n",
       "\n",
       "    .dataframe thead th {\n",
       "        text-align: left;\n",
       "    }\n",
       "\n",
       "    .dataframe tbody tr th {\n",
       "        vertical-align: top;\n",
       "    }\n",
       "</style>\n",
       "<table border=\"1\" class=\"dataframe\">\n",
       "  <thead>\n",
       "    <tr style=\"text-align: right;\">\n",
       "      <th></th>\n",
       "      <th>pop_est</th>\n",
       "      <th>continent</th>\n",
       "      <th>name</th>\n",
       "      <th>iso_a3</th>\n",
       "      <th>gdp_md_est</th>\n",
       "      <th>geometry</th>\n",
       "    </tr>\n",
       "  </thead>\n",
       "  <tbody>\n",
       "    <tr>\n",
       "      <th>0</th>\n",
       "      <td>28400000.0</td>\n",
       "      <td>Asia</td>\n",
       "      <td>Afghanistan</td>\n",
       "      <td>AFG</td>\n",
       "      <td>22270.0</td>\n",
       "      <td>POLYGON ((61.21081709172574 35.65007233330923,...</td>\n",
       "    </tr>\n",
       "    <tr>\n",
       "      <th>1</th>\n",
       "      <td>12799293.0</td>\n",
       "      <td>Africa</td>\n",
       "      <td>Angola</td>\n",
       "      <td>AGO</td>\n",
       "      <td>110300.0</td>\n",
       "      <td>(POLYGON ((16.32652835456705 -5.87747039146621...</td>\n",
       "    </tr>\n",
       "    <tr>\n",
       "      <th>2</th>\n",
       "      <td>3639453.0</td>\n",
       "      <td>Europe</td>\n",
       "      <td>Albania</td>\n",
       "      <td>ALB</td>\n",
       "      <td>21810.0</td>\n",
       "      <td>POLYGON ((20.59024743010491 41.85540416113361,...</td>\n",
       "    </tr>\n",
       "    <tr>\n",
       "      <th>3</th>\n",
       "      <td>4798491.0</td>\n",
       "      <td>Asia</td>\n",
       "      <td>United Arab Emirates</td>\n",
       "      <td>ARE</td>\n",
       "      <td>184300.0</td>\n",
       "      <td>POLYGON ((51.57951867046327 24.24549713795111,...</td>\n",
       "    </tr>\n",
       "    <tr>\n",
       "      <th>4</th>\n",
       "      <td>40913584.0</td>\n",
       "      <td>South America</td>\n",
       "      <td>Argentina</td>\n",
       "      <td>ARG</td>\n",
       "      <td>573900.0</td>\n",
       "      <td>(POLYGON ((-65.50000000000003 -55.199999999999...</td>\n",
       "    </tr>\n",
       "  </tbody>\n",
       "</table>\n",
       "</div>"
      ],
      "text/plain": [
       "      pop_est      continent                  name iso_a3  gdp_md_est  \\\n",
       "0  28400000.0           Asia           Afghanistan    AFG     22270.0   \n",
       "1  12799293.0         Africa                Angola    AGO    110300.0   \n",
       "2   3639453.0         Europe               Albania    ALB     21810.0   \n",
       "3   4798491.0           Asia  United Arab Emirates    ARE    184300.0   \n",
       "4  40913584.0  South America             Argentina    ARG    573900.0   \n",
       "\n",
       "                                            geometry  \n",
       "0  POLYGON ((61.21081709172574 35.65007233330923,...  \n",
       "1  (POLYGON ((16.32652835456705 -5.87747039146621...  \n",
       "2  POLYGON ((20.59024743010491 41.85540416113361,...  \n",
       "3  POLYGON ((51.57951867046327 24.24549713795111,...  \n",
       "4  (POLYGON ((-65.50000000000003 -55.199999999999...  "
      ]
     },
     "execution_count": 45,
     "metadata": {},
     "output_type": "execute_result"
    }
   ],
   "source": [
    "world.head()"
   ]
  },
  {
   "cell_type": "code",
   "execution_count": 46,
   "metadata": {},
   "outputs": [
    {
     "data": {
      "text/plain": [
       "<matplotlib.axes._subplots.AxesSubplot at 0x11970c128>"
      ]
     },
     "execution_count": 46,
     "metadata": {},
     "output_type": "execute_result"
    },
    {
     "data": {
      "image/png": "[encoded data removed]",
      "text/plain": [
       "<matplotlib.figure.Figure at 0x1196ddc18>"
      ]
     },
     "metadata": {},
     "output_type": "display_data"
    }
   ],
   "source": [
    "world.plot()"
   ]
  },
  {
   "cell_type": "code",
   "execution_count": 47,
   "metadata": {},
   "outputs": [
    {
     "data": {
      "text/html": [
       "<div>\n",
       "<style>\n",
       "    .dataframe thead tr:only-child th {\n",
       "        text-align: right;\n",
       "    }\n",
       "\n",
       "    .dataframe thead th {\n",
       "        text-align: left;\n",
       "    }\n",
       "\n",
       "    .dataframe tbody tr th {\n",
       "        vertical-align: top;\n",
       "    }\n",
       "</style>\n",
       "<table border=\"1\" class=\"dataframe\">\n",
       "  <thead>\n",
       "    <tr style=\"text-align: right;\">\n",
       "      <th></th>\n",
       "      <th>continent</th>\n",
       "      <th>geometry</th>\n",
       "    </tr>\n",
       "  </thead>\n",
       "  <tbody>\n",
       "    <tr>\n",
       "      <th>0</th>\n",
       "      <td>Asia</td>\n",
       "      <td>POLYGON ((61.21081709172574 35.65007233330923,...</td>\n",
       "    </tr>\n",
       "    <tr>\n",
       "      <th>1</th>\n",
       "      <td>Africa</td>\n",
       "      <td>(POLYGON ((16.32652835456705 -5.87747039146621...</td>\n",
       "    </tr>\n",
       "    <tr>\n",
       "      <th>2</th>\n",
       "      <td>Europe</td>\n",
       "      <td>POLYGON ((20.59024743010491 41.85540416113361,...</td>\n",
       "    </tr>\n",
       "    <tr>\n",
       "      <th>3</th>\n",
       "      <td>Asia</td>\n",
       "      <td>POLYGON ((51.57951867046327 24.24549713795111,...</td>\n",
       "    </tr>\n",
       "    <tr>\n",
       "      <th>4</th>\n",
       "      <td>South America</td>\n",
       "      <td>(POLYGON ((-65.50000000000003 -55.199999999999...</td>\n",
       "    </tr>\n",
       "  </tbody>\n",
       "</table>\n",
       "</div>"
      ],
      "text/plain": [
       "       continent                                           geometry\n",
       "0           Asia  POLYGON ((61.21081709172574 35.65007233330923,...\n",
       "1         Africa  (POLYGON ((16.32652835456705 -5.87747039146621...\n",
       "2         Europe  POLYGON ((20.59024743010491 41.85540416113361,...\n",
       "3           Asia  POLYGON ((51.57951867046327 24.24549713795111,...\n",
       "4  South America  (POLYGON ((-65.50000000000003 -55.199999999999..."
      ]
     },
     "execution_count": 47,
     "metadata": {},
     "output_type": "execute_result"
    }
   ],
   "source": [
    "world2 = world[['continent', 'geometry']]\n",
    "world2.head()"
   ]
  },
  {
   "cell_type": "code",
   "execution_count": 51,
   "metadata": {},
   "outputs": [
    {
     "data": {
      "text/html": [
       "<div>\n",
       "<style>\n",
       "    .dataframe thead tr:only-child th {\n",
       "        text-align: right;\n",
       "    }\n",
       "\n",
       "    .dataframe thead th {\n",
       "        text-align: left;\n",
       "    }\n",
       "\n",
       "    .dataframe tbody tr th {\n",
       "        vertical-align: top;\n",
       "    }\n",
       "</style>\n",
       "<table border=\"1\" class=\"dataframe\">\n",
       "  <thead>\n",
       "    <tr style=\"text-align: right;\">\n",
       "      <th></th>\n",
       "      <th>geometry</th>\n",
       "      <th>pop_est</th>\n",
       "      <th>name</th>\n",
       "      <th>iso_a3</th>\n",
       "      <th>gdp_md_est</th>\n",
       "    </tr>\n",
       "    <tr>\n",
       "      <th>continent</th>\n",
       "      <th></th>\n",
       "      <th></th>\n",
       "      <th></th>\n",
       "      <th></th>\n",
       "      <th></th>\n",
       "    </tr>\n",
       "  </thead>\n",
       "  <tbody>\n",
       "    <tr>\n",
       "      <th>Africa</th>\n",
       "      <td>()</td>\n",
       "      <td>12799293.0</td>\n",
       "      <td>Angola</td>\n",
       "      <td>AGO</td>\n",
       "      <td>110300.0</td>\n",
       "    </tr>\n",
       "    <tr>\n",
       "      <th>Antarctica</th>\n",
       "      <td>()</td>\n",
       "      <td>3802.0</td>\n",
       "      <td>Antarctica</td>\n",
       "      <td>ATA</td>\n",
       "      <td>760.4</td>\n",
       "    </tr>\n",
       "    <tr>\n",
       "      <th>Asia</th>\n",
       "      <td>()</td>\n",
       "      <td>28400000.0</td>\n",
       "      <td>Afghanistan</td>\n",
       "      <td>AFG</td>\n",
       "      <td>22270.0</td>\n",
       "    </tr>\n",
       "    <tr>\n",
       "      <th>Europe</th>\n",
       "      <td>()</td>\n",
       "      <td>3639453.0</td>\n",
       "      <td>Albania</td>\n",
       "      <td>ALB</td>\n",
       "      <td>21810.0</td>\n",
       "    </tr>\n",
       "    <tr>\n",
       "      <th>North America</th>\n",
       "      <td>()</td>\n",
       "      <td>309156.0</td>\n",
       "      <td>Bahamas</td>\n",
       "      <td>BHS</td>\n",
       "      <td>9093.0</td>\n",
       "    </tr>\n",
       "  </tbody>\n",
       "</table>\n",
       "</div>"
      ],
      "text/plain": [
       "              geometry     pop_est         name iso_a3  gdp_md_est\n",
       "continent                                                         \n",
       "Africa              ()  12799293.0       Angola    AGO    110300.0\n",
       "Antarctica          ()      3802.0   Antarctica    ATA       760.4\n",
       "Asia                ()  28400000.0  Afghanistan    AFG     22270.0\n",
       "Europe              ()   3639453.0      Albania    ALB     21810.0\n",
       "North America       ()    309156.0      Bahamas    BHS      9093.0"
      ]
     },
     "execution_count": 51,
     "metadata": {},
     "output_type": "execute_result"
    }
   ],
   "source": [
    "continents = world.dissolve(by='continent')\n",
    "continents.head()"
   ]
  },
  {
   "cell_type": "code",
   "execution_count": 48,
   "metadata": {
    "colab": {},
    "colab_type": "code",
    "id": "gzU9FzAIzRzJ"
   },
   "outputs": [
    {
     "data": {
      "text/html": [
       "<div>\n",
       "<style>\n",
       "    .dataframe thead tr:only-child th {\n",
       "        text-align: right;\n",
       "    }\n",
       "\n",
       "    .dataframe thead th {\n",
       "        text-align: left;\n",
       "    }\n",
       "\n",
       "    .dataframe tbody tr th {\n",
       "        vertical-align: top;\n",
       "    }\n",
       "</style>\n",
       "<table border=\"1\" class=\"dataframe\">\n",
       "  <thead>\n",
       "    <tr style=\"text-align: right;\">\n",
       "      <th></th>\n",
       "      <th>STATENAM</th>\n",
       "      <th>geometry</th>\n",
       "    </tr>\n",
       "  </thead>\n",
       "  <tbody>\n",
       "    <tr>\n",
       "      <th>0</th>\n",
       "      <td>Virginia</td>\n",
       "      <td>POLYGON ((-80.08745907882387 37.16089860436885...</td>\n",
       "    </tr>\n",
       "    <tr>\n",
       "      <th>1</th>\n",
       "      <td>Maryland</td>\n",
       "      <td>POLYGON ((-76.88789298617269 39.13175300782995...</td>\n",
       "    </tr>\n",
       "    <tr>\n",
       "      <th>2</th>\n",
       "      <td>Georgia</td>\n",
       "      <td>POLYGON ((-83.13120298935239 33.00557281456405...</td>\n",
       "    </tr>\n",
       "    <tr>\n",
       "      <th>3</th>\n",
       "      <td>Tennessee</td>\n",
       "      <td>POLYGON ((-83.20007636797742 36.59390495157552...</td>\n",
       "    </tr>\n",
       "    <tr>\n",
       "      <th>4</th>\n",
       "      <td>Kentucky</td>\n",
       "      <td>POLYGON ((-84.7954100072575 38.85727100829573,...</td>\n",
       "    </tr>\n",
       "  </tbody>\n",
       "</table>\n",
       "</div>"
      ],
      "text/plain": [
       "    STATENAM                                           geometry\n",
       "0   Virginia  POLYGON ((-80.08745907882387 37.16089860436885...\n",
       "1   Maryland  POLYGON ((-76.88789298617269 39.13175300782995...\n",
       "2    Georgia  POLYGON ((-83.13120298935239 33.00557281456405...\n",
       "3  Tennessee  POLYGON ((-83.20007636797742 36.59390495157552...\n",
       "4   Kentucky  POLYGON ((-84.7954100072575 38.85727100829573,..."
      ]
     },
     "execution_count": 48,
     "metadata": {},
     "output_type": "execute_result"
    }
   ],
   "source": [
    "# Your code here - display geometry for the county NY, NY\n",
    "#x=usa1810[usa1810['STATENAM']=='New York']\n",
    "x=usa1810[['STATENAM','geometry']] #.dissolve(by='STATENAM')\n",
    "x.head()#y=x.dissolve(by='STATENAM')\n",
    "#y"
   ]
  },
  {
   "cell_type": "code",
   "execution_count": null,
   "metadata": {
    "collapsed": true
   },
   "outputs": [],
   "source": [
    "usa1810[usa1810['STATENAM']=='New York'].dissolve"
   ]
  },
  {
   "cell_type": "markdown",
   "metadata": {
    "colab_type": "text",
    "id": "Y0g8-UwUA986"
   },
   "source": [
    "### Challenge\n",
    "\n",
    "In the cell below, rename the column NHGISNAM to 'county', which is a lot more intuitive!\n",
    "\n",
    "Hint: here is an example using a hypothetical pandas dataframe.\n",
    "\n",
    ">`unemployment.rename(columns={'month' : 'year_month'}, inplace=True)`"
   ]
  },
  {
   "cell_type": "code",
   "execution_count": 0,
   "metadata": {
    "colab": {},
    "colab_type": "code",
    "collapsed": true,
    "id": "HGoDOzqdA987"
   },
   "outputs": [],
   "source": [
    "# Your code here\n",
    "#usa1810.rename(...)\n",
    "\n",
    "usa1810.head()  # check results"
   ]
  },
  {
   "cell_type": "markdown",
   "metadata": {
    "colab_type": "text",
    "id": "NFtZ47HvA989"
   },
   "source": [
    "## Mapping with GeoPandas"
   ]
  },
  {
   "cell_type": "markdown",
   "metadata": {
    "colab_type": "text",
    "id": "jKl2eJcqA98-"
   },
   "source": [
    "Plot the `usa1810` data with the geopandas **plot** method, which uses `matplotlib` and the matplotlib `pyplot` module under the hood."
   ]
  },
  {
   "cell_type": "code",
   "execution_count": 52,
   "metadata": {
    "colab": {},
    "colab_type": "code",
    "id": "qhJ6DGH2A98_"
   },
   "outputs": [
    {
     "data": {
      "text/plain": [
       "<matplotlib.axes._subplots.AxesSubplot at 0x1197c15f8>"
      ]
     },
     "execution_count": 52,
     "metadata": {},
     "output_type": "execute_result"
    },
    {
     "data": {
      "image/png": "[encoded data removed]",
      "text/plain": [
       "<matplotlib.figure.Figure at 0x11978ca90>"
      ]
     },
     "metadata": {},
     "output_type": "display_data"
    }
   ],
   "source": [
    "usa1810.plot()"
   ]
  },
  {
   "cell_type": "markdown",
   "metadata": {
    "colab_type": "text",
    "id": "mhT-8ex6A99B"
   },
   "source": [
    "Pretty cool to be able to make a map with a single command.  However, there is always room for improvement. \n",
    "You can find out more about the plotting options for basic maps in the [geopandas documentation](http://geopandas.org/mapping.html) and in the [matplotlib documentation](http://matplotlib.org/api/pyplot_api.html). \n",
    "\n",
    "We can use some options to make a prettier map. Take a minute to consider what each option does.\n",
    "\n"
   ]
  },
  {
   "cell_type": "code",
   "execution_count": 53,
   "metadata": {
    "colab": {},
    "colab_type": "code",
    "id": "6JgFoD29A99F"
   },
   "outputs": [
    {
     "data": {
      "text/plain": [
       "<matplotlib.axes._subplots.AxesSubplot at 0x1197d33c8>"
      ]
     },
     "execution_count": 53,
     "metadata": {},
     "output_type": "execute_result"
    },
    {
     "data": {
      "image/png": "[encoded data removed]",
      "text/plain": [
       "<matplotlib.figure.Figure at 0x119865240>"
      ]
     },
     "metadata": {},
     "output_type": "display_data"
    }
   ],
   "source": [
    "# make blue counties pink\n",
    "usa1810.plot(linewidth=0.25, edgecolor='black', facecolor='pink',  figsize=(14,10))"
   ]
  },
  {
   "cell_type": "markdown",
   "metadata": {
    "colab_type": "text",
    "id": "V6m2lapmA99I"
   },
   "source": [
    "## Challenge\n",
    "\n",
    "Let's compare the extent of the USA in 1810 to the USA in 2017.\n",
    "\n",
    "- Read the file `usa_outline.shp` into a geopandas dataframe named `usa`.\n",
    "- Then, make a map of the `usa`, setting the `figsize` to (14,10)."
   ]
  },
  {
   "cell_type": "code",
   "execution_count": 0,
   "metadata": {
    "colab": {},
    "colab_type": "code",
    "collapsed": true,
    "id": "0prPeMHyA99J"
   },
   "outputs": [],
   "source": [
    "## Your code here\n",
    "\n",
    "# first read in the file\n",
    "\n",
    "# then plot the gdf"
   ]
  },
  {
   "cell_type": "markdown",
   "metadata": {
    "colab_type": "text",
    "id": "iupVAyhwA99L"
   },
   "source": [
    "### Question\n",
    "\n",
    "Any idea why the map of the plot looks so wide?"
   ]
  },
  {
   "cell_type": "code",
   "execution_count": 54,
   "metadata": {
    "colab": {},
    "colab_type": "code",
    "id": "QOz_IOGQA99M"
   },
   "outputs": [
    {
     "data": {
      "text/plain": [
       "<matplotlib.axes._subplots.AxesSubplot at 0x119850e80>"
      ]
     },
     "execution_count": 54,
     "metadata": {},
     "output_type": "execute_result"
    },
    {
     "data": {
      "image/png": "[encoded data removed]",
      "text/plain": [
       "<matplotlib.figure.Figure at 0x1197d3550>"
      ]
     },
     "metadata": {},
     "output_type": "display_data"
    }
   ],
   "source": [
    "# Let's read in and plot the usa shapefile\n",
    "\n",
    "#usa = gpd.read_file('data/usa_outline.shp')\n",
    "usa = gpd.read_file(my_folder + 'data/usa_outline.shp')\n",
    "usa.plot()"
   ]
  },
  {
   "cell_type": "code",
   "execution_count": 64,
   "metadata": {},
   "outputs": [
    {
     "data": {
      "text/plain": [
       "<matplotlib.axes._subplots.AxesSubplot at 0x11a9b66d8>"
      ]
     },
     "execution_count": 64,
     "metadata": {},
     "output_type": "execute_result"
    },
    {
     "data": {
      "image/png": "[encoded data removed]",
      "text/plain": [
       "<matplotlib.figure.Figure at 0x119964780>"
      ]
     },
     "metadata": {},
     "output_type": "display_data"
    }
   ],
   "source": [
    "# Indexing\n",
    "conus = usa.cx[:, :20]\n",
    "conus.plot()"
   ]
  },
  {
   "cell_type": "markdown",
   "metadata": {
    "colab_type": "text",
    "id": "hoscC6U_A99O"
   },
   "source": [
    "## Overlays\n",
    "\n",
    "A key strength of geospatial data analysis is the ability to overlay data that are located in the same coordinate space. Let's overlay the USA in 1810 on top of the USA in 2017 to visualize the change. Both of these data sets use the same coordinate reference system -  decimal degrees of latitude and longitude referenced to the **World Geodetic System of 1984**, or **WGS84** coordinate reference system (more about that in a minute).\n",
    "\n",
    "We will explore two methods for doing this, as shown in the [GeoPandas documentation](http://geopandas.org/mapping.html)"
   ]
  },
  {
   "cell_type": "code",
   "execution_count": 55,
   "metadata": {
    "colab": {},
    "colab_type": "code",
    "id": "9mFpQ0XFA99P"
   },
   "outputs": [
    {
     "data": {
      "text/plain": [
       "<matplotlib.axes._subplots.AxesSubplot at 0x1198fb0b8>"
      ]
     },
     "execution_count": 55,
     "metadata": {},
     "output_type": "execute_result"
    },
    {
     "data": {
      "image/png": "[encoded data removed]",
      "text/plain": [
       "<matplotlib.figure.Figure at 0x1198a0470>"
      ]
     },
     "metadata": {},
     "output_type": "display_data"
    }
   ],
   "source": [
    "# Method 1. Simple geopandas plot overlay\n",
    "\n",
    "base = usa.plot(color='white', edgecolor='black',  figsize=(14,10))\n",
    "usa1810.plot(ax=base)"
   ]
  },
  {
   "cell_type": "code",
   "execution_count": 56,
   "metadata": {
    "colab": {},
    "colab_type": "code",
    "id": "Im3f4Ui7A99S"
   },
   "outputs": [
    {
     "data": {
      "text/plain": [
       "Text(0.5,1,'USA 2017 and 1810')"
      ]
     },
     "execution_count": 56,
     "metadata": {},
     "output_type": "execute_result"
    },
    {
     "data": {
      "image/png": "[encoded data removed]",
      "text/plain": [
       "<matplotlib.figure.Figure at 0x119a0e3c8>"
      ]
     },
     "metadata": {},
     "output_type": "display_data"
    }
   ],
   "source": [
    "# Method 2. Setting Matplot lib options\n",
    "\n",
    "fig, ax = plt.subplots(1, figsize=(14,10))  # Initialize the plot figure (drawing area) and axes (data area)\n",
    "ax.set_xlim([-180, -60]) # Set the x axis limit on the axes\n",
    "ax.set_aspect('equal')   # set the aspect ratio for the x and y axes to be equal. \n",
    "                         # This is done automatically in gdf.plot()\n",
    "    \n",
    "base = usa.plot(ax=ax, color='black')  # Set the base map, or bottom map layer\n",
    "usa1810.plot(ax=base, color='white', edgecolor=\"black\")  # draw the data with the base\n",
    "_ = ax.axis('off') # Don't show the x, y axes and labels in the plot\n",
    "ax.set_title(\"USA 2017 and 1810\")  # Give the plot a title\n"
   ]
  },
  {
   "cell_type": "markdown",
   "metadata": {
    "colab_type": "text",
    "id": "Yb6L1kfzA99W"
   },
   "source": [
    "## Questions?\n",
    "\n",
    "If your lost, don't worry. Many folks, myself included, scratch their head and copy matplotlib code, amazed and mystified when it works. Gradually it sinks in. You can expediate the process by reviewing any of a number of good online tutorials, like this one from [DataCamp](https://www.datacamp.com/community/tutorials/matplotlib-tutorial-python)."
   ]
  },
  {
   "cell_type": "markdown",
   "metadata": {
    "colab_type": "text",
    "id": "RaDCcxBSA99X"
   },
   "source": [
    "# Coordinate Reference Systems (CRS) "
   ]
  },
  {
   "cell_type": "markdown",
   "metadata": {
    "colab_type": "text",
    "id": "ZDTTAI5SA99Y"
   },
   "source": [
    "Did you notice anything funny about the shape of the USA as mapped above?  How does it differ from this?\n",
    "\n",
    "<img src=\"https://upload.wikimedia.org/wikipedia/commons/thumb/a/a5/Map_of_USA_with_state_names.svg/640px-Map_of_USA_with_state_names.svg.png\" width=\"800px\"></img>"
   ]
  },
  {
   "cell_type": "markdown",
   "metadata": {
    "colab_type": "text",
    "id": "FCLduU5rA99Y"
   },
   "source": [
    "Why does it differ? Here's why:\n",
    "\n",
    "<img src=\"http://tse3.mm.bing.net/th?id=OIP.lyDmHXX9VdoEOWDQlqppSAHaEy\" width=\"500px\"></img>\n",
    "\n",
    "When we map data encoded with a spheriodal coordinates (longitude & latitude) on a 2D plane like a computer screen we get distortion!\n",
    "\n",
    "## Map Projections and CRS Transformations\n",
    "\n",
    "In order to reduce distortion in 2D maps we transform geographic coordinates to projected map coordinates.\n",
    "\n",
    "- This transformation is also necessary for many geometric operations like area and distance calculations that assume a 2D plane.\n",
    "\n",
    "The process for transforming a CRS is:\n",
    "\n",
    "1. Make sure a **crs** is defined for the geopandas dataframe by checking the **crs** property. \n",
    "2. If it is not set, you can set it with the **crs** method.\n",
    "3. Transform it using the **to_crs** method."
   ]
  },
  {
   "cell_type": "code",
   "execution_count": 0,
   "metadata": {
    "colab": {},
    "colab_type": "code",
    "collapsed": true,
    "id": "THZe7LcaA99Z"
   },
   "outputs": [],
   "source": [
    "# Check the CRS of our gdfs\n",
    "print(\"The CRS of the USA outline geodataframe is: \" + str(usa.crs))\n",
    "print(\"The CRS of the US1810 counties geodataframe is: \" + str(usa1810.crs))"
   ]
  },
  {
   "cell_type": "markdown",
   "metadata": {
    "colab_type": "text",
    "id": "F0OyDdfMA99b"
   },
   "source": [
    "What's an **epsg:4326**?  That's an [EPSG](http://www.epsg.org/) code for the geographic CRS known as the [World Geodectic System of 1984](https://en.wikipedia.org/wiki/World_Geodetic_System#WGS84), or `WGS84`. This is the most commonly used CRS for latitude and longitude coordinate data and is the default CRS for most mapping software when the data does not have a defined CRS.\n",
    "\n",
    "We can make our map look better by transforming it to a 2D projected `CRS`. A projected CRS applies a mathematical transformation to the data based on a [map projection](https://en.wikipedia.org/wiki/Map_projection)\n",
    "\n",
    "Common map projections for USA data and their EPSG codes include:\n",
    "\n",
    "- `Web Mercator` (epsg:3857)\n",
    "- `USA Contiguious Albers` (epsg:7603)\n",
    "\n",
    "Let's try these."
   ]
  },
  {
   "cell_type": "code",
   "execution_count": 0,
   "metadata": {
    "colab": {},
    "colab_type": "code",
    "collapsed": true,
    "id": "dp4ZzBNFA99c"
   },
   "outputs": [],
   "source": [
    "# Transform geographic crs to web mercator\n",
    "usa_3857 = usa.to_crs(epsg=3857)\n",
    "usa_3857.plot(figsize=(14,8))"
   ]
  },
  {
   "cell_type": "code",
   "execution_count": 0,
   "metadata": {
    "colab": {},
    "colab_type": "code",
    "collapsed": true,
    "id": "qo29tIcIA99e"
   },
   "outputs": [],
   "source": [
    "# Transform geographic crs to USA Contiguous Albers\n",
    "usa_7603 = usa.to_crs(epsg=7603)\n",
    "usa_7603.plot(figsize=(14,8))"
   ]
  },
  {
   "cell_type": "markdown",
   "metadata": {
    "colab_type": "text",
    "id": "Izr5v_zXA99h"
   },
   "source": [
    "You can see we get very different maps of the USA depending on the CRS. Web Mercator is best suited for large geographic extents between +-60 degrees (i.e. distortion increases as you move away from equator and towards the poles). USA Contiguous Albers is best for the continental USA.  We could subset the data to remove Alaska, Hawaii and Puerto Rico.\n",
    "\n",
    "### Important Notes\n",
    "\n",
    "1. Data need to be in the same CRS in order to be mapped or analyzed together.\n",
    "2. The units of a CRS are part of the CRS definition. These are typically decimal degrees for geographic (lat/lon) data or meters for projected data.\n",
    "3. It's not obvious what the best projected CRS is for your map or analysis. You need to review the recent literature (as these things change) and try different ones.  Here is a good starting place, [epsg.io](http://epsg.io/).\n",
    "\n",
    "\n",
    "> A detailed discussion CRS and map projections is beyond the scope of this notebook. Understanding these, however, is **necessary** for working sucessfully with geospatial data! There are a number of online resources that can be found with a web search to help you get started."
   ]
  },
  {
   "cell_type": "markdown",
   "metadata": {
    "colab_type": "text",
    "id": "dpeTaK6dA99i"
   },
   "source": [
    "# Mapping Data\n",
    "\n",
    "By default maps show locations in space. Data maps, also called thematic maps, convey data values at specific locations by associating those values with map symbology like color, shape and size. \n",
    "\n",
    "In this section we will explore population data in the `Orleans Territory` from the US Census of 1810.  If you didn't rename the column containing the county names do so now!\n"
   ]
  },
  {
   "cell_type": "code",
   "execution_count": 0,
   "metadata": {
    "colab": {},
    "colab_type": "code",
    "collapsed": true,
    "id": "JboaMbAWEpci"
   },
   "outputs": [],
   "source": [
    "usa1810.rename(columns={'NHGISNAM': 'county'}, inplace=True)\n",
    "usa1810.head(2)"
   ]
  },
  {
   "cell_type": "markdown",
   "metadata": {
    "colab_type": "text",
    "id": "NezA2CF0A99j"
   },
   "source": [
    "### Subsetting Geopandas Dataframes\n",
    "\n",
    "Since we are only interested in the `Orleans Territory` let's subset the `usa1810` data.  Since a geopandas dataframe is a superpowered pandas dataframe we can use pandas methods to subset it. Take another look at the geopandas dataframe to identify the column we can subset the data."
   ]
  },
  {
   "cell_type": "code",
   "execution_count": 0,
   "metadata": {
    "colab": {},
    "colab_type": "code",
    "collapsed": true,
    "id": "Ibr7gDs2A99k"
   },
   "outputs": [],
   "source": [
    "usa1810.head()"
   ]
  },
  {
   "cell_type": "markdown",
   "metadata": {
    "colab_type": "text",
    "id": "oyPtFCDuA99m"
   },
   "source": [
    "The `STATENAM` column includes a reference to the territory so let's use that.  Then map the result to check it."
   ]
  },
  {
   "cell_type": "code",
   "execution_count": 0,
   "metadata": {
    "colab": {},
    "colab_type": "code",
    "collapsed": true,
    "id": "184E79hpA99o"
   },
   "outputs": [],
   "source": [
    "orleans = usa1810[usa1810['STATENAM'] == 'Orleans Territory']\n",
    "orleans.plot()"
   ]
  },
  {
   "cell_type": "markdown",
   "metadata": {
    "colab_type": "text",
    "id": "xY0nni05A99q"
   },
   "source": [
    "Nice! Orleans Territory looks alot like the state of Louisiana.\n",
    "\n",
    "## Attribute Joins\n",
    "\n",
    "As we noted above, mapping geometries is useful for getting a sense of the size and relative position of locations. But more often we want to map attribute data that describe a location, such as the population density of a region.\n",
    "\n",
    "In order to map attribute data we need to have it associated with the locations. However, the geopandas dataframes `usa1810` and `orleans` do not contain any interesting attribute data.\n",
    "\n",
    "In a separate file named **orleans_census_data1810.csv** we have 1810 population data for the Orleans Territory that was downloaded from the NHGIS.  We can read the file into a `pandas` dataframe and then join the contents of that dataframe to the geopandas dataframe `orleans` based on a column with common data value.  This process is called an `attribute join` and is a common operation when working with geospatial data."
   ]
  },
  {
   "cell_type": "markdown",
   "metadata": {
    "colab_type": "text",
    "id": "q6CpUGM9A99r"
   },
   "source": [
    "First, read in the population data from the 1810 census that we want to map. "
   ]
  },
  {
   "cell_type": "code",
   "execution_count": 0,
   "metadata": {
    "colab": {},
    "colab_type": "code",
    "collapsed": true,
    "id": "NX0-k0fcA99r"
   },
   "outputs": [],
   "source": [
    "#orleans_census1810 = pd.read_csv('data/orleans_census_data1810.csv')\n",
    "orleans_census1810 = pd.read_csv(my_folder + 'data/orleans_census_data1810.csv')"
   ]
  },
  {
   "cell_type": "code",
   "execution_count": 0,
   "metadata": {
    "colab": {},
    "colab_type": "code",
    "collapsed": true,
    "id": "Ra6Xf00VA99u"
   },
   "outputs": [],
   "source": [
    "orleans_census1810.head()  # take a look at the data"
   ]
  },
  {
   "cell_type": "markdown",
   "metadata": {
    "colab_type": "text",
    "id": "DBm0v1L9A99w"
   },
   "source": [
    "Compare the **orleans_census1810** dataframe above with the **orleans** geopandas dataframe. What columns do these have in common?"
   ]
  },
  {
   "cell_type": "code",
   "execution_count": 0,
   "metadata": {
    "colab": {},
    "colab_type": "code",
    "collapsed": true,
    "id": "EsFFmhEnA99w"
   },
   "outputs": [],
   "source": [
    "orleans.head()\n"
   ]
  },
  {
   "cell_type": "markdown",
   "metadata": {
    "colab_type": "text",
    "id": "bb_Emn45A99z"
   },
   "source": [
    "Use the geopandas **merge** command to join the two dataframes by the columns with common data values.  Then take a look at the output which we call **orleans_popdata** below."
   ]
  },
  {
   "cell_type": "code",
   "execution_count": 0,
   "metadata": {
    "colab": {},
    "colab_type": "code",
    "collapsed": true,
    "id": "IWWBLdg34b7G"
   },
   "outputs": [],
   "source": [
    "# You can read the docs for more guidance on table joins using the merge command\n",
    "# orleans.merge?"
   ]
  },
  {
   "cell_type": "code",
   "execution_count": 0,
   "metadata": {
    "colab": {},
    "colab_type": "code",
    "collapsed": true,
    "id": "QyBK3LEjA99z"
   },
   "outputs": [],
   "source": [
    "orleans_popdata = orleans.merge(orleans_census1810, on='GISJOIN')\n",
    "orleans_popdata.head()"
   ]
  },
  {
   "cell_type": "markdown",
   "metadata": {
    "colab_type": "text",
    "id": "4W-2nhd-A992"
   },
   "source": [
    "We can now add options to the `plot` command to use data values to determine map symbology. Consider how this is done below with the data in the `nwslave_pop` (non-white slave population) column."
   ]
  },
  {
   "cell_type": "code",
   "execution_count": 0,
   "metadata": {
    "colab": {},
    "colab_type": "code",
    "collapsed": true,
    "id": "aiLx_DLUA995"
   },
   "outputs": [],
   "source": [
    "orleans_popdata.plot(column='nwslave_pop', cmap='Reds', edgecolor='black', legend=True, figsize=(8,6))"
   ]
  },
  {
   "cell_type": "markdown",
   "metadata": {
    "colab_type": "text",
    "id": "GzceCCjwA997"
   },
   "source": [
    "Above, the plot option **column=** tells the plot command to use the values in the **nwslave_pop** column to determine the geometry colors based on the colormap specified by the **cmap** option. You can see the list of available [color maps here](https://matplotlib.org/users/colormaps.html). The full range of values in the `nwslave_pop` column is being scaled to the color palette called **Reds**.  This is called an `unclassified` or `classless` map. This map is a good first effort as it imposses no grouping on the data, thus making it easier to spot trends and outliers. But it is harder to interpret the data values within an area. \n",
    "\n",
    "\n",
    "A more common practice is to use a classification scheme to bin the data into classes and map those classes to a color palette. Let's try that below with `quantile` classification which is the most commonly used scheme when mapping data."
   ]
  },
  {
   "cell_type": "code",
   "execution_count": 0,
   "metadata": {
    "colab": {},
    "colab_type": "code",
    "collapsed": true,
    "id": "DD2Rff5PA998"
   },
   "outputs": [],
   "source": [
    "orleans_popdata.plot(column='nwslave_pop', cmap='Reds', edgecolor='black', \n",
    "                     legend=True, figsize=(8,6), scheme='quantiles')"
   ]
  },
  {
   "cell_type": "markdown",
   "metadata": {
    "colab_type": "text",
    "id": "1caXG6KPA99-"
   },
   "source": [
    "Wow that gives a very different looking map!\n",
    "\n",
    "## Challenge\n",
    "\n",
    "In the code cell below recreate the above map with the classification schemes **equal_interval** and **fisher_jenks** to see how the look of the map changes.\n",
    "\n",
    "> Bonus challenge: try a different colormap."
   ]
  },
  {
   "cell_type": "code",
   "execution_count": 0,
   "metadata": {
    "colab": {},
    "colab_type": "code",
    "collapsed": true,
    "id": "5JTungRcA9-A"
   },
   "outputs": [],
   "source": [
    "# Your code here"
   ]
  },
  {
   "cell_type": "markdown",
   "metadata": {
    "colab_type": "text",
    "id": "hveJxIFLA9-D"
   },
   "source": [
    "## Choropleth maps\n",
    "\n",
    "The maps we just made are called `choropleth maps`. A [choropleth maps](https://en.wikipedia.org/wiki/Choropleth_map) is a data map that colors areas by data values.  This are the most common type of data map. It is also sometimes called a **heatmap**.\n",
    "\n",
    "**HOWEVER**, when the areas being mapped vary in size it is not considered good cartographic practice to map **counts**.  Why do you think this is so?\n",
    "\n",
    "Instead, choropleth maps typically symbolize ares by densites, ratios or rates that can compared across the different sized areas.\n",
    "\n",
    "Let's map the ratio of non-white slaves (nwslave_pop) to free whites (white_pop)."
   ]
  },
  {
   "cell_type": "code",
   "execution_count": 0,
   "metadata": {
    "colab": {},
    "colab_type": "code",
    "collapsed": true,
    "id": "Zn1xevquLsp6"
   },
   "outputs": [],
   "source": [
    "# Create a new column that is the ratio of non-white slaves (nwslave_pop) to free whites (white_pop)\n",
    "orleans_popdata['slave2white_ratio'] = orleans_popdata['nwslave_pop'] / orleans_popdata['white_pop']\n",
    "\n",
    "# Map the ratio\n",
    "orleans_popdata.plot(column='slave2white_ratio', cmap='Reds', edgecolor='black', \n",
    "                     legend=True, figsize=(8,6), scheme='quantiles')"
   ]
  },
  {
   "cell_type": "markdown",
   "metadata": {
    "colab_type": "text",
    "id": "RLEae5KZA9-E"
   },
   "source": [
    "We can get fancy with our choropleth maps..."
   ]
  },
  {
   "cell_type": "code",
   "execution_count": 0,
   "metadata": {
    "colab": {},
    "colab_type": "code",
    "collapsed": true,
    "id": "rTxTdbOzA9-E"
   },
   "outputs": [],
   "source": [
    "fig, ax = plt.subplots(1, figsize=(12,12))\n",
    "\n",
    "orleans_popdata.plot(ax=ax, column='slave2white_ratio', cmap='OrRd', edgecolor='black', legend=True, scheme='fisher_jenks')\n",
    "\n",
    "for polygon, name in zip(orleans_popdata.geometry, orleans_popdata.COUNTY):\n",
    "    ax.annotate(xy=(polygon.centroid.x, polygon.centroid.y), s=name)\n",
    "\n",
    "_ = ax.axis('off')\n",
    "\n",
    "ax.set_title(\"Ratio of Non-White Slaves to Free Whites, Orleans Territory, 1810\")"
   ]
  },
  {
   "cell_type": "markdown",
   "metadata": {
    "colab_type": "text",
    "id": "NrMzvBiZA9-G"
   },
   "source": [
    "Needless to say, labels are a bit tricky, regardless of the software you use to make a map!\n"
   ]
  },
  {
   "cell_type": "markdown",
   "metadata": {
    "colab_type": "text",
    "id": "bcGtsm3-A9-H"
   },
   "source": [
    "### Challenge\n",
    "\n",
    "In 1791 and 1795 two slave revolts where planned in the same parish in Orleans Territory. Although these plots involved different people and had different orgins, both were discovered and thwarted, leading to the trial and execution or emprisonment of many enslaved persons. Soon thereafter, the [German Coast Uprising of 1811](https://en.wikipedia.org/wiki/1811_German_Coast_uprising), which was the largest slave revolt in US history, occured in a different Orleans parish. Can you use the map above to guess the two parishes in which these three events occured? "
   ]
  },
  {
   "cell_type": "markdown",
   "metadata": {
    "colab_type": "text",
    "id": "bL4VSBnpA9-I"
   },
   "source": [
    "# Mapping Points"
   ]
  },
  {
   "cell_type": "markdown",
   "metadata": {
    "colab_type": "text",
    "id": "MAaBVqSbA9-J"
   },
   "source": [
    "Mapping data to polygons is commonly done, but sometimes point maps are preferred. Why? Because when polygons vary greatly in size, as the US states and counties do, the size of the areas can distract from interpretting the data. Large areas pop out and small ones hide in the map.\n",
    "\n",
    "GeoPandas makes it easy to transform polygon data to point data."
   ]
  },
  {
   "cell_type": "code",
   "execution_count": 0,
   "metadata": {
    "colab": {},
    "colab_type": "code",
    "collapsed": true,
    "id": "kOpklvZDA9-L"
   },
   "outputs": [],
   "source": [
    "# First, copy the polygon geodataframe to new geodataframe\n",
    "orleans_popdata_pts = orleans_popdata.copy()\n",
    "\n",
    "# Transform the geometry of the new geodataframe from polygons to points\n",
    "orleans_popdata_pts.geometry = orleans_popdata_pts['geometry'].centroid\n",
    "\n",
    "# Take a look at the data - especially the values in the geometry column\n",
    "orleans_popdata_pts.head()"
   ]
  },
  {
   "cell_type": "markdown",
   "metadata": {
    "colab_type": "text",
    "id": "vYXQqaN4A9-N"
   },
   "source": [
    "That was relatively easy! Take a look at the format of the data in the **geometry** column above and note how it differs for that of `orleans_popdata`.\n",
    "\n",
    "Make a quick plot of the data to make sure it looks right."
   ]
  },
  {
   "cell_type": "code",
   "execution_count": 0,
   "metadata": {
    "colab": {},
    "colab_type": "code",
    "collapsed": true,
    "id": "8j-pwvC3A9-N"
   },
   "outputs": [],
   "source": [
    "orleans_popdata_pts.plot()"
   ]
  },
  {
   "cell_type": "markdown",
   "metadata": {
    "colab_type": "text",
    "id": "lFvhHRZdA9-R"
   },
   "source": [
    "To get geographic context, we can plot those points on top of the polygons. Consider the code below for doing this and the resultant plot."
   ]
  },
  {
   "cell_type": "code",
   "execution_count": 0,
   "metadata": {
    "colab": {},
    "colab_type": "code",
    "collapsed": true,
    "id": "H-91UxXpA9-R"
   },
   "outputs": [],
   "source": [
    "fig, ax = plt.subplots(1, figsize=(14,14))  # Initialize the plot figure (drawing area) and axes (data area)\n",
    "fig.patch.set_facecolor('white') # set the plot background to white\n",
    "\n",
    "ax.set_aspect('equal')   # set the aspect ratio for the x and y axes to be equal. \n",
    "                         # This is done automatically in gdf.plot()\n",
    "\n",
    "    \n",
    "base = orleans_popdata.plot(ax=ax, facecolor='white', edgecolor='grey', linewidth=0.25,)   \n",
    "orleans_popdata_pts.plot(ax=base, column='nwslave_pop', cmap='OrRd', edgecolor='black', scheme='fisher_jenks',\n",
    "                         markersize=80, legend=True,  legend_kwds={'title':'Number of Slaves'})\n",
    "_ = ax.axis('off')  \n",
    "\n",
    "for polygon, name in zip(orleans_popdata.geometry, orleans_popdata.COUNTY):\n",
    "    ax.annotate(xy=(polygon.centroid.x+0.05, polygon.centroid.y), s=name, color='black')\n",
    "    \n",
    "ax.set_title(\"Non-White Slave Population, Orleans Territory, 1810\", fontname=\"Times New Roman\",fontweight=\"bold\")"
   ]
  },
  {
   "cell_type": "markdown",
   "metadata": {
    "colab_type": "text",
    "id": "g0Z8fg51A9-T"
   },
   "source": [
    "### Challenge\n",
    "\n",
    "Redo the map above with the data in the column **slave2white_ratio** (the ratio of non-white slaves to whites.)"
   ]
  },
  {
   "cell_type": "code",
   "execution_count": 0,
   "metadata": {
    "colab": {},
    "colab_type": "code",
    "collapsed": true,
    "id": "fX4z5AkeA9-V"
   },
   "outputs": [],
   "source": [
    "## Your Code Here\n"
   ]
  },
  {
   "cell_type": "markdown",
   "metadata": {
    "colab_type": "text",
    "id": "-Xta09iQRNoR"
   },
   "source": [
    "### Mapping Point Data from a CSV file\n",
    "\n",
    "We can also read in point data from a **CSV** file. This simple file format is commonly used to store point data when the location is encoded with latitude and longitude values.\n",
    "\n",
    "Let's read in point data for the locations of the Louisiana slave conspiracies."
   ]
  },
  {
   "cell_type": "code",
   "execution_count": 0,
   "metadata": {
    "colab": {},
    "colab_type": "code",
    "collapsed": true,
    "id": "tonZ50mvROD3"
   },
   "outputs": [],
   "source": [
    "# Read in a csv file that has lat/lon values\n",
    "lsc_locs = gpd.read_file(my_folder + \"data/lsc_points.csv\")\n",
    " \n",
    "#take a look at the data\n",
    "lsc_locs\n",
    "\n"
   ]
  },
  {
   "cell_type": "markdown",
   "metadata": {
    "colab_type": "text",
    "id": "9XGN2NOGSKPo"
   },
   "source": [
    "#### Adding Geometry Data\n",
    "\n",
    "The **lsc_locs** geopandas dataframe is not complete  - it is missing geometry data.  We can create this from the values in the lat & lon columns."
   ]
  },
  {
   "cell_type": "code",
   "execution_count": 0,
   "metadata": {
    "colab": {},
    "colab_type": "code",
    "collapsed": true,
    "id": "SG1UZYThSFY6"
   },
   "outputs": [],
   "source": [
    "# populate geometry column from lat/lon data\n",
    "lsc_locs['geometry'] = lsc_locs.apply(lambda row: Point(float(row['longitude']), float(row['latitude'])), axis = 1)\n",
    "\n",
    "# Take a look\n",
    "lsc_locs\n"
   ]
  },
  {
   "cell_type": "markdown",
   "metadata": {
    "colab_type": "text",
    "id": "xjep-RkOSiEI"
   },
   "source": [
    "#### Adding a CRS\n",
    "\n",
    "A geodataframe is not complete without a value for the CRS. Since these data are geographic coordinates we can make the standard assumption (usually correct) that the CRS is **WGS84**, with the EPSG code 4326."
   ]
  },
  {
   "cell_type": "code",
   "execution_count": 0,
   "metadata": {
    "colab": {},
    "colab_type": "code",
    "collapsed": true,
    "id": "TSh11eCwSgxv"
   },
   "outputs": [],
   "source": [
    "# Check the crs\n",
    "print(\"The CRS of the lsc_locs geodataframe is: \" + str(lsc_locs.crs))\n",
    "\n",
    "# Compare it to a related gpd that has the same CRS\n",
    "print(\"The CRS of the orleans geodataframe is: \" + str(orleans.crs))\n",
    "\n",
    "# Define the CRS\n",
    "lsc_locs.crs = {'init' :'epsg:4326'}\n",
    "\n",
    "# We could also define it like this\n",
    "#lsc_locs.crs = orleans.crs\n",
    "\n",
    "# Check the crs again\n",
    "print(\"The CRS of the lsc_locs geodataframe is: \" + str(lsc_locs.crs))"
   ]
  },
  {
   "cell_type": "markdown",
   "metadata": {
    "colab_type": "text",
    "id": "f9Pps-qL8Nb-"
   },
   "source": [
    "We can now plot the locations of the Lousiana slave conspiracies overlayed on top of our county data."
   ]
  },
  {
   "cell_type": "code",
   "execution_count": 0,
   "metadata": {
    "colab": {},
    "colab_type": "code",
    "collapsed": true,
    "id": "HxcpFQFRUA2Q"
   },
   "outputs": [],
   "source": [
    "fig, ax = plt.subplots(1, figsize=(12,12))\n",
    "\n",
    "orleans_popdata.plot(ax=ax, column='slave2white_ratio', cmap='OrRd', edgecolor='black', scheme='fisher_jenks')\n",
    "\n",
    "for polygon, name in zip(orleans_popdata.geometry, orleans_popdata.COUNTY):\n",
    "    ax.annotate(xy=(polygon.centroid.x, polygon.centroid.y), s=name)\n",
    "\n",
    "lsc_locs.plot(ax=ax, color=\"black\", edgecolor=\"white\", marker=\",\", linewidth=2, markersize=100)\n",
    "\n",
    "_ = ax.axis('off')\n",
    "\n",
    "ax.set_title(\"Ratio of Non-White Slaves to Free Whites, Orleans Territory, 1810\")"
   ]
  },
  {
   "cell_type": "markdown",
   "metadata": {
    "colab_type": "text",
    "id": "c7ALQsPwWMJl"
   },
   "source": [
    "The above map confirms our thinking that the parishes with the highest slave to white ratio were  the ones in which the conspiracies took place. But its hard to view the data at this map scale.\n",
    "\n",
    "### From Static to Interactive Maps with mplleaflet\n",
    "\n",
    "You can use **mplleaflet** to make a quick interactive Leaflet map from a matplotlib plot.  The results allow you to zoom in and explore the data.  It's quick and simple but but not a very finished web map product. For more customizations, see the Python **folium** library.\n"
   ]
  },
  {
   "cell_type": "code",
   "execution_count": 0,
   "metadata": {
    "colab": {},
    "colab_type": "code",
    "collapsed": true,
    "id": "nLxTa4LEVJni"
   },
   "outputs": [],
   "source": [
    "mplleaflet.display(fig=ax.figure, crs=lsc_locs.crs, tiles='cartodb_positron')"
   ]
  },
  {
   "cell_type": "markdown",
   "metadata": {
    "colab_type": "text",
    "id": "rfk3k0rOXdrf"
   },
   "source": [
    "## Geometric Manipulations\n",
    "\n",
    "Geopandas provides a number of methods for querying and manipulating geometries, using the Shapely library under the hood.  Let's consider a few of these that might be helpful in this project."
   ]
  },
  {
   "cell_type": "markdown",
   "metadata": {
    "colab_type": "text",
    "id": "BiV_u0UYcCkt"
   },
   "source": [
    "#### Dissolve\n",
    "\n",
    "Dissolve is a method for aggregating geometries by a common value. The **usa1810** and **orleans** data represent county boundaries. If we want to display state outlines instead we can **dissolve** the geometries by the values in the **STATENAM** column. "
   ]
  },
  {
   "cell_type": "code",
   "execution_count": 0,
   "metadata": {
    "colab": {},
    "colab_type": "code",
    "collapsed": true,
    "id": "q9apgVelJIG1"
   },
   "outputs": [],
   "source": [
    "orleans_outline = orleans.dissolve(by=\"STATENAM\")\n",
    "orleans_outline.plot(color=\"blue\")"
   ]
  },
  {
   "cell_type": "code",
   "execution_count": 0,
   "metadata": {
    "colab": {},
    "colab_type": "code",
    "collapsed": true,
    "id": "3pn1NlBeZjfm"
   },
   "outputs": [],
   "source": [
    "# Here is another example of dissolving county data to state boundaries\n",
    "states1810=usa1810.dissolve(by=\"STATENAM\")\n",
    "states1810.plot()"
   ]
  },
  {
   "cell_type": "markdown",
   "metadata": {
    "colab_type": "text",
    "id": "GSfIo5U4dc0z"
   },
   "source": [
    "#### Area\n",
    "\n",
    "We can compute the area of a polygon geometry. However, the **CRS** of the gpd should be appropriate for area calculations.\n"
   ]
  },
  {
   "cell_type": "code",
   "execution_count": 0,
   "metadata": {
    "colab": {},
    "colab_type": "code",
    "collapsed": true,
    "id": "3rOfDmQ-lKZx"
   },
   "outputs": [],
   "source": [
    "# What was the area of the Orleans Territory in 1810?\n",
    "orleans_outline.to_crs(epsg=7603).area / 10**6  # Area in sq kilometers"
   ]
  },
  {
   "cell_type": "code",
   "execution_count": 0,
   "metadata": {
    "colab": {},
    "colab_type": "code",
    "collapsed": true,
    "id": "2SphfnjJcqyy"
   },
   "outputs": [],
   "source": [
    "# What was the area of US States & Territories in 1810\n",
    "states1810.to_crs(epsg=7603).area / 10**6  # NY State area in sq kilometers: 141,300 km2 (wikipedia)"
   ]
  },
  {
   "cell_type": "markdown",
   "metadata": {
    "colab_type": "text",
    "id": "k4gzKI_hdbl9"
   },
   "source": [
    "### Distance\n",
    "\n",
    "What is the approximate distance between the slave conspiracy locations and New Orleans?  As with area, geopandas distance calculations require a projected CRS.  For this tutorial we will use the Web Mercator CRS, epsg=3857.\n",
    "\n",
    "First create objects that represent the center points, or centroids, of each parish."
   ]
  },
  {
   "cell_type": "code",
   "execution_count": 0,
   "metadata": {
    "colab": {},
    "colab_type": "code",
    "collapsed": true,
    "id": "iROsx5ElYHqO"
   },
   "outputs": [],
   "source": [
    "# New Orleans center point (centroid)\n",
    "new_orleans_ctr = orleans_popdata[orleans_popdata['county']=='Orleans'].geometry.centroid\n",
    "print(new_orleans_ctr)\n",
    "\n",
    "# Point Coupee center point\n",
    "pt_coupee_ctr = orleans_popdata[orleans_popdata['county']=='Pointe Coupee'].geometry.centroid\n",
    "print(pt_coupee_ctr)\n",
    "\n"
   ]
  },
  {
   "cell_type": "markdown",
   "metadata": {
    "colab_type": "text",
    "id": "dHDy3gAxGitN"
   },
   "source": [
    "Note,  you need to use the **index** to reference the geometry (16 for New Orleans and 1 for Pointe Coupee, shown above) - this makes the code hard to read.  The reason for this is:\n",
    "\n",
    "- **geometry.centroid** returns an object of type geopandas.geoseriesGeo.Series\n",
    "- the **distance()** method calculates the distance between two Shapely Point objects - these are within the geoseries object and can be referenced by the index value."
   ]
  },
  {
   "cell_type": "code",
   "execution_count": 0,
   "metadata": {
    "colab": {},
    "colab_type": "code",
    "collapsed": true,
    "id": "4A3zvJ1IFHO1"
   },
   "outputs": [],
   "source": [
    "# Print the different object types\n",
    "print(type(pt_coupee_ctr))\n",
    "\n",
    "print(type(pt_coupee_ctr.to_crs(epsg=3857).geometry[1]))\n",
    "\n",
    "# What does a Shapely Point look like?\n",
    "print(pt_coupee_ctr.to_crs(epsg=3857).geometry[1])"
   ]
  },
  {
   "cell_type": "markdown",
   "metadata": {
    "colab_type": "text",
    "id": "KkBy3IZLGmmT"
   },
   "source": [
    "Now we can calculate the distance between the two points."
   ]
  },
  {
   "cell_type": "code",
   "execution_count": 0,
   "metadata": {
    "colab": {},
    "colab_type": "code",
    "collapsed": true,
    "id": "k-VY0Rzn_tO5"
   },
   "outputs": [],
   "source": [
    "# Calculate the distance in miles\n",
    "the_dist = pt_coupee_ctr.to_crs(epsg=3857).geometry[1].distance(new_orleans_ctr.to_crs(epsg=3857).geometry[16]) / 1609.344\n",
    "\n",
    "# print it\n",
    "print(\"Pointe Coupee is approximately \" + str(the_dist) + \" miles north of New Orleans.\")"
   ]
  },
  {
   "cell_type": "markdown",
   "metadata": {
    "colab_type": "text",
    "id": "PHSDQ6qV_01E"
   },
   "source": [
    "We can also calculate the distance for all rows in a geodatafame."
   ]
  },
  {
   "cell_type": "code",
   "execution_count": 0,
   "metadata": {
    "colab": {},
    "colab_type": "code",
    "collapsed": true,
    "id": "5V8C83L0gSUU"
   },
   "outputs": [],
   "source": [
    "# Save the center point (centroid) to make the code more readable\n",
    "ctr_pt = new_orleans_ctr.to_crs(epsg=3857).geometry[16]\n",
    "\n",
    "#distances between parish centers and New orleans Centroid\n",
    "distances = {}\n",
    "for row in orleans_popdata.to_crs(epsg=3857).iterrows():\n",
    "  vals = row[1]\n",
    "  key = vals['county']\n",
    "  the_geom = vals['geometry'].centroid\n",
    "  distances[key] = the_geom.distance(ctr_pt) /  1609.344  # distance in miles\n",
    "print(distances)"
   ]
  },
  {
   "cell_type": "markdown",
   "metadata": {
    "colab_type": "text",
    "id": "cczyJr3uhC-2"
   },
   "source": [
    "### Spatial Relationships\n",
    "\n",
    "We can query the relationship between geometries to answer questions about location.  For example, let's consider how we would address the spatial query *In what Orleans Territory parishes did the Louisiana slave conspiracies take place?*"
   ]
  },
  {
   "cell_type": "code",
   "execution_count": 0,
   "metadata": {
    "colab": {},
    "colab_type": "code",
    "collapsed": true,
    "id": "Opp6COehiHRU"
   },
   "outputs": [],
   "source": [
    "# Take another look at the geodataframe\n",
    "lsc_locs"
   ]
  },
  {
   "cell_type": "code",
   "execution_count": 0,
   "metadata": {
    "colab": {},
    "colab_type": "code",
    "collapsed": true,
    "id": "yfVvXqiThky_"
   },
   "outputs": [],
   "source": [
    "# What county (parish) contains the conspiracy at index 2 (German Coast Uprising)?\n",
    "orleans[orleans.geometry.contains(lsc_locs.geometry[2])]['county'].get_values()[0]"
   ]
  },
  {
   "cell_type": "code",
   "execution_count": 0,
   "metadata": {
    "colab": {},
    "colab_type": "code",
    "collapsed": true,
    "id": "4H9Z-aYOiu8n"
   },
   "outputs": [],
   "source": [
    "# Now do this for all rows in the geodataframe\n",
    "for row in lsc_locs.iterrows():\n",
    "  vals = row[1]\n",
    "  conspiracy = vals['name']\n",
    "  year = vals['date']\n",
    "  parish = orleans[orleans.geometry.contains(vals['geometry'])]['county'].get_values()[0]\n",
    "  print(\"The \" + conspiracy + \" took place in \" + parish + \" Parish in \" + year + \".\")"
   ]
  },
  {
   "cell_type": "code",
   "execution_count": 0,
   "metadata": {
    "colab": {},
    "colab_type": "code",
    "collapsed": true,
    "id": "sPCxKPziU5Bg"
   },
   "outputs": [],
   "source": []
  },
  {
   "cell_type": "markdown",
   "metadata": {
    "colab_type": "text",
    "id": "UnghhIX-RV7A"
   },
   "source": [
    "## Going Further\n",
    "\n",
    "\n",
    "### More Geopandas Practice\n",
    "\n",
    "- Try this [Geopandas tutorial](https://www.datacamp.com/community/tutorials/geospatial-data-python) on plotting the path of Hurricane Florence.\n",
    "\n",
    "### For a longer course\n",
    "\n",
    "- Try the datacamp course [Visualizing Geospatial Data in Python](https://www.datacamp.com/courses/visualizing-geospatial-data-in-python), the first chapter is FREE!\n",
    "\n",
    "### Interactive mapping \n",
    "\n",
    "- Try a folium tutorial, there are several online. Find a recent one though as the library has changed a lot in the last  year!\n"
   ]
  },
  {
   "cell_type": "markdown",
   "metadata": {
    "colab_type": "text",
    "id": "aITFsqx3A9-X"
   },
   "source": [
    "# Summary\n",
    "We have just touched the tip of the iceberg here in terms of mapping, manipulating and analyzing geospatial data. I hope this encourages you to check out the GeoPandas in more detail and to continue working with geospatial data in Python or in another software tool. Happy mapping!"
   ]
  },
  {
   "cell_type": "markdown",
   "metadata": {
    "colab_type": "text",
    "id": "JHaKDdt8EBOC"
   },
   "source": [
    "# Thank you!"
   ]
  },
  {
   "cell_type": "markdown",
   "metadata": {
    "colab_type": "text",
    "id": "zYHomrrYA9-X"
   },
   "source": [
    "---\n",
    "\n",
    "Created by: Patty Frontiera (pattyf [at] berkeley [dot] edu), on 6/5/2018\n",
    "    \n",
    "Last Updated: 11/27/2018"
   ]
  },
  {
   "cell_type": "code",
   "execution_count": 0,
   "metadata": {
    "colab": {},
    "colab_type": "code",
    "collapsed": true,
    "id": "A4uY581zRfik"
   },
   "outputs": [],
   "source": []
  }
 ],
 "metadata": {
  "colab": {
   "collapsed_sections": [
    "Yb6L1kfzA99W",
    "Izr5v_zXA99h",
    "bcGtsm3-A9-H"
   ],
   "name": "Copy of Geopandas_intro_lsc.ipynb",
   "provenance": [],
   "toc_visible": true,
   "version": "0.3.2"
  },
  "kernelspec": {
   "display_name": "Python 3",
   "language": "python",
   "name": "python3"
  },
  "language_info": {
   "codemirror_mode": {
    "name": "ipython",
    "version": 3
   },
   "file_extension": ".py",
   "mimetype": "text/x-python",
   "name": "python",
   "nbconvert_exporter": "python",
   "pygments_lexer": "ipython3",
   "version": "3.6.3"
  }
 },
 "nbformat": 4,
 "nbformat_minor": 1
}

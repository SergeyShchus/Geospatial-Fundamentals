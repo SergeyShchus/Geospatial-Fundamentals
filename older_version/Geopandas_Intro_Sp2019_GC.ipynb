{
  "nbformat": 4,
  "nbformat_minor": 0,
  "metadata": {
    "colab": {
      "name": "Geopandas_Intro_Sp2019_GC.ipynb",
      "version": "0.3.2",
      "provenance": [],
      "collapsed_sections": [
        "tjyHAq-TdvYd",
        "AITgzlnvn1wk",
        "ysOmyFCp6z7L",
        "eFv_9q3VZnNU"
      ]
    },
    "kernelspec": {
      "name": "python3",
      "display_name": "Python 3"
    }
  },
  "cells": [
    {
      "metadata": {
        "id": "xjOgGtCKhm19",
        "colab_type": "text"
      },
      "cell_type": "markdown",
      "source": [
        "# Geospatial Data in Python with GeoPandas \n",
        "\n",
        "## Introduction\n",
        "\n",
        "The goal of this notebook is to give you a **tip of the iceberg introduction** to working with geospatial data in Python using the **geopandas** package.  The sample data and use cases are related to a UC Berkeley research a project that I have been working on called [The Louisiana Slave Conspiracies](https://dlab.berkeley.edu/landing-page/louisiana-slave-conspiracies). This project explores several slave conspiracies that occured in colonial Louisiana during the late 1700s and early 1800s. Since very little data exist for this time period, we begin with an exploration of US Census data from the early 1800s, shortly after the Louisiana Purchase made the Louisiana and Orleans Territories part of the United States.\n",
        "\n",
        "> ### Assumptions\n",
        "\n",
        "> This tutorial assumptions you have basic working knowledge of Python and of geospatial data.   If you need a geospatial refresher, we can start with this a **very** [Brief Introduction to Geospatial Data](https://docs.google.com/presentation/d/1d9GNcLDsnLxfLmrNRNZE976sHN5qNfkU9Rl2gabUsWc/edit?usp=sharing).\n",
        "\n",
        " \n",
        " \n",
        "## GeoPandas and related Geospatial Packages\n",
        "\n",
        "[GeoPandas](http://geopandas.org/) is a relatively new package that makes it easier to work with geospatial data in Python. In the last few years it has grown more powerful and stable. This really is great because previously it was quite complex to work with geospatial data in Python.  GeoPandas is now the go to package for working with geospatial data. \n",
        "\n",
        "`GeoPandas` provides convenient, unified access to the functionality of the [pandas](https://pandas.pydata.org/) package , extending it with the geospatial processing capabilities provided by a number of lower level spatial data packages including [shapely](https://pypi.python.org/pypi/Shapely) for geometry processing, [fiona](https://pypi.python.org/pypi/Fiona) and [GDAL/Ogr](https://gdal.org) for spatial data file IO and[ pyproj](https://github.com/jswhit/pyproj) and [PROJ.4](https://github.com/OSGeo/proj.4/wiki) for map projections and coordinate systems.  \n",
        "\n",
        "\n",
        "We will also use a few other optional geospatial libraries that are  commonly used with geopandas, including:\n",
        "\n",
        "- **rtree** for spatial indexing to improve performance\n",
        "- **geopy** for geocoding and for geodesic distance calculations\n",
        "- **pysal** for spatial analysis functions such as data classification methods.\n",
        "- **descartes** for ploting Shapelygeometric objects with Matplotlib.\n",
        "\n",
        "\n",
        "Finally, we will use a number of standard Python libraries including pandas, numpy, and matplotlib.\n"
      ]
    },
    {
      "metadata": {
        "id": "Prw_sGy-8N8_",
        "colab_type": "text"
      },
      "cell_type": "markdown",
      "source": [
        "# Setup\n",
        "\n",
        "Installing Geopandas can be a bit complex due to the libraries that it depends on.  See the [Geopandas documentation ](http://geopandas.org/install.html) for help with this process - read it carefully as that will save you many headaches!\n",
        "\n",
        "We will use the [Google Colaboratory](https://colab.research.google.com/notebooks/welcome.ipynb) Jupyter notebook environment for this workshop so that we will all have the same working enviroment. This is a *freemium* tool that requires a Google account.\n",
        "\n",
        "## Open the workshop notebook\n",
        "\n",
        "To get started, open this notebook and follow along:\n",
        "\n",
        "- Google Colaboratory Notebook URL: http://bit.ly/geopandas_sp2019\n",
        "\n",
        "Once you open the notebook, click **File > Save a copy in Drive** to make a copy of the notebook that you can edit. This will be saved to a Google Drive Collaboratory folder in your Google account.\n",
        "\n",
        "\n",
        "\n",
        "## Install Geopandas and dependencies\n",
        "\n",
        "Google Colaboratory comes with a Juypyter notebook environment with the most common Python packages already installed. To import a library that's not installed by default, you can use **!pip install** or **!apt-get install**.\n",
        "\n",
        "<br>\n",
        "\n",
        "To get started with geopandas, execute but do not change the code in the following cell. (*The install process we will follow is from [this notebook](https://colab.research.google.com/drive/1tSmJmjD3sTI31Cg1UCIKiE10dBUmWUG7#scrollTo=wHnmdr_QkKec&forceEdit=true&offline=true&sandboxMode=true)*)\n",
        "\n",
        ">**IMPORTANT** -  if you are installing these Python packages on your local computer see [Geopandas documentation ](http://geopandas.org/install.html) . Do not use the code below as this is for the Google Colaboratory environment.\n",
        "\n",
        ">> If you have your geopandas enviroment installed locally, you can get the data and notebook for this tutorial are in this github repository: https://github.com/dlab-geo/geopandas_intro\n",
        "\n"
      ]
    },
    {
      "metadata": {
        "id": "AXNRLO1CixX9",
        "colab_type": "code",
        "colab": {}
      },
      "cell_type": "code",
      "source": [
        "#######################################################\n",
        "# Code to install geopandas in Google Colaboratory\n",
        "# You need to run this code each time you run this \n",
        "# notebook on Google Colab\n",
        "# Should take about 1.5 minutes.\n",
        "#######################################################\n",
        "%%time \n",
        "!apt update\n",
        "!apt upgrade\n",
        "!apt install gdal-bin python-gdal python3-gdal \n",
        "# Install rtree - Geopandas requirment\n",
        "!apt install python3-rtree\n",
        "# Install pysal\n",
        "!pip install pysal\n",
        "# Install mapclassify\n",
        "!pip install mapclassify\n",
        "# Install Geopandas\n",
        "!pip install git+git://github.com/geopandas/geopandas.git\n",
        "# Install descartes - Geopandas requirment\n",
        "!pip install descartes "
      ],
      "execution_count": 0,
      "outputs": []
    },
    {
      "metadata": {
        "id": "tsMDwLEu9VEN",
        "colab_type": "text"
      },
      "cell_type": "markdown",
      "source": [
        "## Import GeoPandas and Related Libraries\n",
        "\n",
        "We will start by importing the libraries that we will use.\n"
      ]
    },
    {
      "metadata": {
        "id": "nDsSqkTqi6AA",
        "colab_type": "code",
        "colab": {}
      },
      "cell_type": "code",
      "source": [
        "import pandas as pd\n",
        "import geopandas as gpd\n",
        "import mapclassify\n",
        "import matplotlib.pyplot as plt\n",
        "from shapely.geometry import Point\n"
      ],
      "execution_count": 0,
      "outputs": []
    },
    {
      "metadata": {
        "id": "9MQ9ppDm90x6",
        "colab_type": "text"
      },
      "cell_type": "markdown",
      "source": [
        "## About the Data \n",
        "\n",
        "This tutorial uses historical census data for the USA and the Orleans Territory, most of which is now called Louisiana, that were obtained from the `NHGIS`, or *National Historical Geographic Information System* website ([IPUMS NHGIS, University of Minnesota, www.nhgis.org](https://www.nhgis.org)).  A cartographic boundary file for the United States was obtained from the [US Census website](https://www.census.gov/geo/maps-data/data/tiger-cart-boundary.html).\n",
        "\n",
        "\n",
        "## Fetch the Data with `wget`\n",
        "\n",
        "The data and related notebooks for this tutorial are in this github repository: https://github.com/dlab-geo/geopandas_intro\n",
        "\n",
        "\n",
        "However, to keep things simple in the GC environment we will use the command `wget` to fetch the data frthat repo and store it in the `Google Collabortory` environment for the duration of this session.\n"
      ]
    },
    {
      "metadata": {
        "id": "xzw08AFC-Ydk",
        "colab_type": "code",
        "colab": {}
      },
      "cell_type": "code",
      "source": [
        "!wget 'https://raw.githubusercontent.com/dlab-geo/geopandas_intro/master/data/us_states.zip'\n",
        "!wget 'https://raw.githubusercontent.com/dlab-geo/geopandas_intro/master/data/uscounties_1810.zip'\n",
        "!wget 'https://raw.githubusercontent.com/dlab-geo/geopandas_intro/master/data/ne_us_major_rivers.geojson'\n",
        "!wget 'https://raw.githubusercontent.com/dlab-geo/geopandas_intro/master/data/orleans_census_data1810.csv'\n",
        "!wget 'https://raw.githubusercontent.com/dlab-geo/geopandas_intro/master/data/lsc_points.csv'\n"
      ],
      "execution_count": 0,
      "outputs": []
    },
    {
      "metadata": {
        "id": "XlhACIIS_KEU",
        "colab_type": "text"
      },
      "cell_type": "markdown",
      "source": [
        "### Take a look at the data files\n",
        "\n",
        "Take a look at the data we will use with the **ls** command (on mac) or the **dir()** command (on windows)."
      ]
    },
    {
      "metadata": {
        "id": "E-btYxmG_Z3B",
        "colab_type": "code",
        "colab": {}
      },
      "cell_type": "code",
      "source": [
        "!ls"
      ],
      "execution_count": 0,
      "outputs": []
    },
    {
      "metadata": {
        "id": "s0VoXbM-_f_Z",
        "colab_type": "text"
      },
      "cell_type": "markdown",
      "source": [
        "## Reading in a Spatial Data\n",
        "\n",
        "GeoPandas makes it easy to read in almost any kind of vector data file including the [ESRI Shapefile](https://en.wikipedia.org/wiki/Shapefile) with the [read_file](http://geopandas.org/io.html) command.  You simply put the name of the file in quotes and assign the resulting object to a simple yet informative variable name, here `usa1810`.\n",
        "\n",
        "You can see from the previous cell that the `usa1810` shapefile is compressed in a zipfile. We can load the zipfile directly in Geopandas."
      ]
    },
    {
      "metadata": {
        "id": "Vtg8x5F5_kcy",
        "colab_type": "code",
        "colab": {}
      },
      "cell_type": "code",
      "source": [
        "usa1810 = gpd.read_file(\"zip://./uscounties_1810.zip\")  #US counties in 1810"
      ],
      "execution_count": 0,
      "outputs": []
    },
    {
      "metadata": {
        "id": "l15hbGSgqsBR",
        "colab_type": "text"
      },
      "cell_type": "markdown",
      "source": [
        "Sometimes geopandas cannot read a zipped shapefile. If this is the case, unzip it and read it in directly."
      ]
    },
    {
      "metadata": {
        "id": "pNWcC-jYqrXL",
        "colab_type": "code",
        "colab": {}
      },
      "cell_type": "code",
      "source": [
        "# Unzip the shapefile\n",
        "!unzip ./uscounties_1810.zip\n",
        "\n",
        "# Read shapefile into a geopandas geodataframe object.\n",
        "usa1810 = gpd.read_file(\"./uscounties_1810.shp\")  #US counties in 1810"
      ],
      "execution_count": 0,
      "outputs": []
    },
    {
      "metadata": {
        "id": "21I7f7jYrJvp",
        "colab_type": "text"
      },
      "cell_type": "markdown",
      "source": [
        "### Discussion - what is a Shapefile?\n"
      ]
    },
    {
      "metadata": {
        "id": "gzRtuYUUATyO",
        "colab_type": "text"
      },
      "cell_type": "markdown",
      "source": [
        "## GeoDataFrame\n",
        "\n",
        "The `gpd.read_file` command returns a geopandas **GeoDataFrame** object.\n",
        "\n"
      ]
    },
    {
      "metadata": {
        "id": "Z2Atdm9jrqRB",
        "colab_type": "code",
        "colab": {}
      },
      "cell_type": "code",
      "source": [
        "type(usa1810)"
      ],
      "execution_count": 0,
      "outputs": []
    },
    {
      "metadata": {
        "id": "L9OZJ1BUr6re",
        "colab_type": "text"
      },
      "cell_type": "markdown",
      "source": [
        "The `geodataframe` is a tabular pandas dataframe with extra geospatial capabilities. First let's take a look at the data frame using the **head** method."
      ]
    },
    {
      "metadata": {
        "id": "UDbIYsYCAqkr",
        "colab_type": "code",
        "colab": {}
      },
      "cell_type": "code",
      "source": [
        "usa1810.head()"
      ],
      "execution_count": 0,
      "outputs": []
    },
    {
      "metadata": {
        "colab_type": "text",
        "id": "EQGUWTGAr4B3"
      },
      "cell_type": "markdown",
      "source": [
        "Because it is a pandas dataframe you can use all the pandas data frame methods with it.  Some examples are shown below (in case you don't believe me!)"
      ]
    },
    {
      "metadata": {
        "id": "sd8X3-iwsPXE",
        "colab_type": "code",
        "colab": {}
      },
      "cell_type": "code",
      "source": [
        "usa1810.SHAPE_AREA.sum() / (1000 * 1000)  # What wass the area in square kilometers of the USA in 1810?\n",
        "#usa1810.STATENAM.nunique()  # How many states or territories did it have?\n",
        "#usa1810[usa1810.SHAPE_AREA / (1000*1000) > 25000].STATENAM  # What states or territories where larger than 25,000 square kilometers?\n"
      ],
      "execution_count": 0,
      "outputs": []
    },
    {
      "metadata": {
        "id": "kYdHZUJ3Au2e",
        "colab_type": "text"
      },
      "cell_type": "markdown",
      "source": [
        "### GeoSeries\n",
        "\n",
        "You will notice that the `usa1810` geodataframe has special column named **geometry**. This column is of type *GeoSeries*, taking its name and its base functionality from the pandas series object. \n"
      ]
    },
    {
      "metadata": {
        "id": "orC67h90BDR4",
        "colab_type": "code",
        "colab": {}
      },
      "cell_type": "code",
      "source": [
        "type(usa1810.geometry)"
      ],
      "execution_count": 0,
      "outputs": []
    },
    {
      "metadata": {
        "id": "qcLojBBABZh7",
        "colab_type": "text"
      },
      "cell_type": "markdown",
      "source": [
        "\n",
        "The GeoSeries extends this with the attributes and methods from the [Shapely](https://shapely.readthedocs.io) geometry library. \n",
        "\n",
        "Let's take a look at the geometry a bit more closely by considering the row for New York County, New York."
      ]
    },
    {
      "metadata": {
        "id": "J5S9mTwYvlC9",
        "colab_type": "code",
        "colab": {}
      },
      "cell_type": "code",
      "source": [
        "type(usa1810[usa1810['NHGISNAM']=='New York'].geometry)"
      ],
      "execution_count": 0,
      "outputs": []
    },
    {
      "metadata": {
        "id": "q0BZVAb1VktE",
        "colab_type": "text"
      },
      "cell_type": "markdown",
      "source": [
        "A series can have one or more items and includes the row index, column value and data type."
      ]
    },
    {
      "metadata": {
        "id": "6MnbXLmcvdIF",
        "colab_type": "code",
        "colab": {}
      },
      "cell_type": "code",
      "source": [
        "usa1810[usa1810['NHGISNAM']=='New York'].geometry"
      ],
      "execution_count": 0,
      "outputs": []
    },
    {
      "metadata": {
        "id": "KXkjj49qvo5S",
        "colab_type": "text"
      },
      "cell_type": "markdown",
      "source": [
        "The geometry column returns a geoseries even if only one row is requested. But many operations in geopandas want to work on the geometry not the series object. We can reference the geometry by the row index, which is shown above. When executed in a cell this will display the geometry shape."
      ]
    },
    {
      "metadata": {
        "id": "KVN_l7RyBoRc",
        "colab_type": "code",
        "colab": {}
      },
      "cell_type": "code",
      "source": [
        "usa1810.geometry[414]"
      ],
      "execution_count": 0,
      "outputs": []
    },
    {
      "metadata": {
        "id": "sfA1KRJAZ9Gc",
        "colab_type": "text"
      },
      "cell_type": "markdown",
      "source": [
        "If we print the geometry we see the [well-known text representation](https://en.wikipedia.org/wiki/Well-known_text_representation_of_geometry), or WKT."
      ]
    },
    {
      "metadata": {
        "id": "yCaByfjIZT-S",
        "colab_type": "code",
        "colab": {}
      },
      "cell_type": "code",
      "source": [
        "print(usa1810.geometry[414])"
      ],
      "execution_count": 0,
      "outputs": []
    },
    {
      "metadata": {
        "id": "JN-TBApMwBv1",
        "colab_type": "text"
      },
      "cell_type": "markdown",
      "source": [
        "It's a pain to reference column values by row index. It's easier to select a row or row based on the value in one of the columns. When we do this, we can useuse the numpy **squeeze** method to extract the geometry value - *if the returned geoseries only contains one item.*\n",
        "\n",
        " Let's display the geometry for the county of New York, New York."
      ]
    },
    {
      "metadata": {
        "id": "bb7MJscQwAxr",
        "colab_type": "code",
        "colab": {}
      },
      "cell_type": "code",
      "source": [
        "usa1810[usa1810['NHGISNAM']=='New York'].geometry.squeeze()\n"
      ],
      "execution_count": 0,
      "outputs": []
    },
    {
      "metadata": {
        "id": "Ihb2ElTvEPRS",
        "colab_type": "text"
      },
      "cell_type": "markdown",
      "source": [
        "What if we try to display more than one geometry - in other words all the geometries in a `geoseries`?\n",
        "\n"
      ]
    },
    {
      "metadata": {
        "id": "Fq4ixS2aD_VE",
        "colab_type": "code",
        "colab": {}
      },
      "cell_type": "code",
      "source": [
        "usa1810[usa1810['STATENAM']=='New York'].geometry\n",
        "\n",
        "# Does the squeeze() method help us here?\n",
        "# usa1810[usa1810['STATENAM']=='New York'].geometry.squeeze()"
      ],
      "execution_count": 0,
      "outputs": []
    },
    {
      "metadata": {
        "id": "9Pd-2mupfJ4r",
        "colab_type": "text"
      },
      "cell_type": "markdown",
      "source": [
        "## Summary\n",
        "\n",
        "When working in geopandas, you have attributes and methods for **geodataframes**, **geoseries** and **geometry** objects.\n",
        "\n",
        "You can use the \"dot-tab\" command to what is available for each type of  geospatial object. This is a great way to explore the data, when used along with the help page and the GeoPandas online documentation.\n",
        "\n",
        "Uncoment the rows below to give it a try."
      ]
    },
    {
      "metadata": {
        "id": "awx615hMfw2B",
        "colab_type": "code",
        "colab": {}
      },
      "cell_type": "code",
      "source": [
        "# Uncomment each of the lines below, one at a time. \n",
        "# Then press tab after the dot to see available methods and attributes\n",
        "\n",
        "## for a geometry\n",
        "#x = usa1810.geometry[414]\n",
        "#x.\n",
        "\n",
        "## for a geoseries\n",
        "#usa1810.geometry.\n",
        "\n",
        "## for a geodataframe\n",
        "#usa1810."
      ],
      "execution_count": 0,
      "outputs": []
    },
    {
      "metadata": {
        "id": "p5XrboksEbYO",
        "colab_type": "text"
      },
      "cell_type": "markdown",
      "source": [
        "## Mapping GeoDataFrames\n",
        "\n",
        "We can use the geopandas **plot** method to display multiple geometries in a geodataframe or geoseries. This uses `matplotlib` and the matplotlib `pyplot` module under the hood."
      ]
    },
    {
      "metadata": {
        "id": "n_h2zxUTEg-_",
        "colab_type": "code",
        "colab": {}
      },
      "cell_type": "code",
      "source": [
        "usa1810.plot()  # it's really that simple!"
      ],
      "execution_count": 0,
      "outputs": []
    },
    {
      "metadata": {
        "id": "ZWRNmvNqhJkN",
        "colab_type": "text"
      },
      "cell_type": "markdown",
      "source": [
        "We can also plot a subset of the geodataframe."
      ]
    },
    {
      "metadata": {
        "id": "cMXf0R8CJl-b",
        "colab_type": "code",
        "colab": {}
      },
      "cell_type": "code",
      "source": [
        "# Plot all the 1810 counties in New York state\n",
        "usa1810[usa1810['STATENAM']=='New York'].plot()"
      ],
      "execution_count": 0,
      "outputs": []
    },
    {
      "metadata": {
        "id": "1a7WuS-khTOw",
        "colab_type": "text"
      },
      "cell_type": "markdown",
      "source": [
        "And we can plot a geoseries with plot()"
      ]
    },
    {
      "metadata": {
        "id": "Vdf0xbXQb6BK",
        "colab_type": "code",
        "colab": {}
      },
      "cell_type": "code",
      "source": [
        "# plot the geometry geoseries\n",
        "usa1810[usa1810['STATENAM']=='New York'].geometry.plot()"
      ],
      "execution_count": 0,
      "outputs": []
    },
    {
      "metadata": {
        "id": "8RtVjNTuEm60",
        "colab_type": "text"
      },
      "cell_type": "markdown",
      "source": [
        "Pretty cool to be able to make a map with a single command. However, there is always room for improvement. You can find out more about the plotting options for basic maps in the geopandas documentation and in the matplotlib documentation.\n",
        "\n",
        "We can use some options to make a prettier map. Take a minute to consider what each option does."
      ]
    },
    {
      "metadata": {
        "id": "Ho1eyzbQEpCk",
        "colab_type": "code",
        "colab": {}
      },
      "cell_type": "code",
      "source": [
        "usa1810.plot(linewidth=0.25, edgecolor='black', facecolor='pink',  figsize=(14,10), )"
      ],
      "execution_count": 0,
      "outputs": []
    },
    {
      "metadata": {
        "id": "O5KT2kwqj4Jz",
        "colab_type": "text"
      },
      "cell_type": "markdown",
      "source": [
        "You can take a look at the method documentation for **plot** to see all of the available options."
      ]
    },
    {
      "metadata": {
        "id": "Vu9AR8rAjmuT",
        "colab_type": "code",
        "colab": {}
      },
      "cell_type": "code",
      "source": [
        "#usa1810.plot?"
      ],
      "execution_count": 0,
      "outputs": []
    },
    {
      "metadata": {
        "id": "pK7G8Qg4E09x",
        "colab_type": "text"
      },
      "cell_type": "markdown",
      "source": [
        "## Challenge\n",
        "\n",
        "Let's take a few minutes to practice some of what we have done so far with a different data set.\n",
        "\n",
        "- Read the file **us_states.zip** into a geopandas dataframe named **usa**.\n",
        "- Take a look at the data in this dataframe using `head`.\n",
        "- Then, make a map of the `usa`, \n",
        "    - setting the `figsize` to (14,10)\n",
        "    - the fill color to green,\n",
        "    - and the outline color to white"
      ]
    },
    {
      "metadata": {
        "id": "oq3Oehm-dkal",
        "colab_type": "code",
        "colab": {}
      },
      "cell_type": "code",
      "source": [
        "# your code here to load the data from the zip file into a geodataframe\n"
      ],
      "execution_count": 0,
      "outputs": []
    },
    {
      "metadata": {
        "id": "kozgQ9EodqoM",
        "colab_type": "code",
        "colab": {}
      },
      "cell_type": "code",
      "source": [
        "# your code here to plot the geodataframe"
      ],
      "execution_count": 0,
      "outputs": []
    },
    {
      "metadata": {
        "id": "tjyHAq-TdvYd",
        "colab_type": "text"
      },
      "cell_type": "markdown",
      "source": [
        "## Challenge - solution"
      ]
    },
    {
      "metadata": {
        "id": "6RzDSyYeEpN2",
        "colab_type": "code",
        "colab": {}
      },
      "cell_type": "code",
      "source": [
        "usa = gpd.read_file('zip://./us_states.zip')\n",
        "usa.head()"
      ],
      "execution_count": 0,
      "outputs": []
    },
    {
      "metadata": {
        "id": "tKIhB9lEEpRQ",
        "colab_type": "code",
        "colab": {}
      },
      "cell_type": "code",
      "source": [
        "usa.plot(linewidth=0.25, edgecolor='white', facecolor='green',figsize=(14,10))"
      ],
      "execution_count": 0,
      "outputs": []
    },
    {
      "metadata": {
        "id": "8xaQfqPsGRvj",
        "colab_type": "text"
      },
      "cell_type": "markdown",
      "source": [
        "## Spatial Subsetting\n",
        "Well, that map of `us_states` is not great - why? \n",
        "\n",
        "Let's zoom in on the continental USA by spatially subsetting the data with the geopandas **cx** method.  This method takes the form:\n",
        ">usa1810.cx[xmin:xmax, ymin:ymax]\n",
        "\n",
        ">where:\n",
        "- **xmin** is the minimum x coordinate value\n",
        "- **xmax** is the maximum x coordinate value\n",
        "- **ymin** is the minimum y coordinate value\n",
        "- **ymax** is the maximum y coordinate value\n",
        "\n",
        "Let's try that."
      ]
    },
    {
      "metadata": {
        "id": "VxOHyxAuEpU2",
        "colab_type": "code",
        "colab": {}
      },
      "cell_type": "code",
      "source": [
        "usa.cx[-130:-80, 25:45].plot(linewidth=0.25, edgecolor='white', facecolor='green',figsize=(14,10))"
      ],
      "execution_count": 0,
      "outputs": []
    },
    {
      "metadata": {
        "id": "TQbIxIiAzhBH",
        "colab_type": "text"
      },
      "cell_type": "markdown",
      "source": [
        "### Question\n",
        "\n",
        "What exactly is **cx** doing?  Let's explore it a bit more. Change the minimum Y value to 30. Do Texas and Florida get clipped?\n",
        "\n",
        "Take a second to uncomment the command below and read the documentation for `cx`. Then update the values in the previous code cell to get all states."
      ]
    },
    {
      "metadata": {
        "id": "mh7Gg21VhvT2",
        "colab_type": "code",
        "colab": {}
      },
      "cell_type": "code",
      "source": [
        "#usa.cx?"
      ],
      "execution_count": 0,
      "outputs": []
    },
    {
      "metadata": {
        "id": "ipP-pBxYGzuV",
        "colab_type": "text"
      },
      "cell_type": "markdown",
      "source": [
        "### Saving our spatial subset\n",
        "\n",
        "We can make that subset permanent."
      ]
    },
    {
      "metadata": {
        "id": "sxi20V4WEpXt",
        "colab_type": "code",
        "colab": {}
      },
      "cell_type": "code",
      "source": [
        "# FYI: conus is shorthand for continental USA\n",
        "conus= usa.cx[-130:-50, 20:50].reset_index(drop=True)\n",
        "conus.head()"
      ],
      "execution_count": 0,
      "outputs": []
    },
    {
      "metadata": {
        "id": "Cr2L3vlZEpbn",
        "colab_type": "code",
        "colab": {}
      },
      "cell_type": "code",
      "source": [
        "# Plot the subset\n",
        "conus.plot()"
      ],
      "execution_count": 0,
      "outputs": []
    },
    {
      "metadata": {
        "id": "0FbJnHvUh62o",
        "colab_type": "text"
      },
      "cell_type": "markdown",
      "source": [
        "### Any questions?\n",
        "\n",
        "\n",
        "\n",
        "---\n",
        "\n"
      ]
    },
    {
      "metadata": {
        "id": "tuNsnmxjIFBx",
        "colab_type": "text"
      },
      "cell_type": "markdown",
      "source": [
        "## Map Overlays\n",
        "\n",
        "A key strength of geospatial data analysis is the ability to overlay data that are located in the same coordinate space. Let's overlay the USA in 1810 on top of the USA in 2017 to visualize the change. Both of these data sets use the same coordinate reference system -  decimal degrees of latitude and longitude referenced to the **World Geodetic System of 1984**, or **WGS84** coordinate reference system (more about that in a minute).\n",
        "\n",
        "We will explore two methods for doing this, as shown in the [GeoPandas documentation](http://geopandas.org/mapping.html)\n",
        "\n",
        "The general process is as follows:\n",
        "\n",
        "- First identify your base map - the layer to draw first, or at the bottom of the stack of layers.\n",
        "- Then you add the next layer, referencing the base map as the **ax**. "
      ]
    },
    {
      "metadata": {
        "id": "LUdK6maEHnKw",
        "colab_type": "code",
        "colab": {}
      },
      "cell_type": "code",
      "source": [
        "# Map the us states with the 1810 states and territories overlayed.\n",
        "base = conus.plot(color='white', edgecolor='black',  figsize=(14,10))\n",
        "usa1810.plot(ax=base)"
      ],
      "execution_count": 0,
      "outputs": []
    },
    {
      "metadata": {
        "id": "WzHXMCtj2W3z",
        "colab_type": "text"
      },
      "cell_type": "markdown",
      "source": [
        "We can add even more layers. These will draw in the order that you add them. Consider the following code."
      ]
    },
    {
      "metadata": {
        "id": "Jf2APX2e2ele",
        "colab_type": "code",
        "colab": {}
      },
      "cell_type": "code",
      "source": [
        "base = conus.plot(color='white', edgecolor='black',  figsize=(14,10))\n",
        "usa1810.plot(ax=base)\n",
        "conus.centroid.plot(ax=base, color=\"red\")  # Hey - what's happening here?"
      ],
      "execution_count": 0,
      "outputs": []
    },
    {
      "metadata": {
        "id": "ZGrQ7ZyJ2nJn",
        "colab_type": "text"
      },
      "cell_type": "markdown",
      "source": [
        "We can get even fancier with our maps by using the more **matplotlib** options. To access these you need to import mapplotlib."
      ]
    },
    {
      "metadata": {
        "id": "cF1ScoOCHnNu",
        "colab_type": "code",
        "colab": {}
      },
      "cell_type": "code",
      "source": [
        "# Mapping with advanced matplotlib settings\n",
        "\n",
        "fig, ax = plt.subplots(1, figsize=(14,10))  # Initialize the plot figure (drawing area) and axes (data area)\n",
        "ax.set_aspect('equal')   # set the aspect ratio for the x and y axes to be equal. \n",
        "                         # This is done automatically in gdf.plot()\n",
        "    \n",
        "base = conus.plot(ax=ax, color='black')  # Set the base map, or bottom map layer\n",
        "usa1810.plot(ax=base, color='white', edgecolor=\"black\")  # draw the data with the base\n",
        "_ = ax.axis('off') # Don't show the x, y axes and labels in the plot\n",
        "ax.set_title(\"USA 2017 and 1810\")  # Give the plot a title\n",
        "plt.show()"
      ],
      "execution_count": 0,
      "outputs": []
    },
    {
      "metadata": {
        "id": "v3mByhvIJAs1",
        "colab_type": "text"
      },
      "cell_type": "markdown",
      "source": [
        "### Questions?\n",
        "\n",
        "If your lost, don't worry. Many folks, myself included, scratch their head and copy matplotlib code, amazed and mystified when it works. Gradually it sinks in. You can expediate the process by reviewing any of a number of good online tutorials, like this one from [DataCamp](https://www.datacamp.com/community/tutorials/matplotlib-tutorial-python)."
      ]
    },
    {
      "metadata": {
        "id": "Fm_r_MXWPqTK",
        "colab_type": "text"
      },
      "cell_type": "markdown",
      "source": [
        "## Geometric Aggregrations\n",
        "\n",
        "We often receive data that has more detail than we need. For example, we might have population by county when we want it by state. In pandas you can use a `groupby` operation to aggregate the data values.  \n",
        "\n",
        "With geospatial data we often obtain data that has more geometric detail than we need. We can use the geopandas **dissolve** method to aggregate geometric data that share a common value.\n",
        "\n",
        "For example, let's create a single geometry that is the outline of the continental US by dissolving the state geometry in the `conus` geodataframe. \n",
        "Start by taking a look at the geodataframe again.\n"
      ]
    },
    {
      "metadata": {
        "id": "ve0IPEw9mfJI",
        "colab_type": "code",
        "colab": {}
      },
      "cell_type": "code",
      "source": [
        "conus.head()"
      ],
      "execution_count": 0,
      "outputs": []
    },
    {
      "metadata": {
        "id": "oPMe5N_Nmk7y",
        "colab_type": "text"
      },
      "cell_type": "markdown",
      "source": [
        "We need a column value to indicate how to aggregate the geometry. We can create this column and populate it if it doesn't exist. \n"
      ]
    },
    {
      "metadata": {
        "id": "gl2qhrOaHnFy",
        "colab_type": "code",
        "colab": {}
      },
      "cell_type": "code",
      "source": [
        "# create a column with a single value that we can dissolve on\n",
        "conus['country'] = 'usa' \n",
        "conus.head()"
      ],
      "execution_count": 0,
      "outputs": []
    },
    {
      "metadata": {
        "id": "dWf6XobLmuAQ",
        "colab_type": "text"
      },
      "cell_type": "markdown",
      "source": [
        "Now we can use the **dissolve** method to merge all the states that have the value \"usa\" in the country column.\n",
        "\n",
        "Note, **dissolve** won't know what to do with the values specific to each state - like STATE (name), GEOID, ABBREV, so we remove those columns first."
      ]
    },
    {
      "metadata": {
        "id": "l90MXOlnmp0N",
        "colab_type": "code",
        "colab": {}
      },
      "cell_type": "code",
      "source": [
        "# Select on the columns we weant to keep in dissovled geodataframe\n",
        "conus_outline = conus[[\"country\",\"geometry\"]]  \n",
        "\n",
        "# dissolve the interior polygons\n",
        "conus_outline = conus.dissolve(by='country', as_index=False)\n",
        "\n",
        "# take a look\n",
        "conus_outline.head()\n",
        "\n"
      ],
      "execution_count": 0,
      "outputs": []
    },
    {
      "metadata": {
        "id": "nMO4y57DnjST",
        "colab_type": "text"
      },
      "cell_type": "markdown",
      "source": [
        "Finally, plot the dissolved geodataframe."
      ]
    },
    {
      "metadata": {
        "id": "sbC1LSaQnoYk",
        "colab_type": "code",
        "colab": {}
      },
      "cell_type": "code",
      "source": [
        "conus_outline.plot()"
      ],
      "execution_count": 0,
      "outputs": []
    },
    {
      "metadata": {
        "id": "77SBtdEdQxM3",
        "colab_type": "text"
      },
      "cell_type": "markdown",
      "source": [
        "## Challenge\n",
        "\n",
        "1. Use **dissolve** to create a **usa1810_outline**\n",
        "    - *Note: you do not need to add a new column - what column should you use to dissolve by?*\n"
      ]
    },
    {
      "metadata": {
        "id": "-n3SWHR5Qpr2",
        "colab_type": "code",
        "colab": {}
      },
      "cell_type": "code",
      "source": [
        "# your code here"
      ],
      "execution_count": 0,
      "outputs": []
    },
    {
      "metadata": {
        "id": "AITgzlnvn1wk",
        "colab_type": "text"
      },
      "cell_type": "markdown",
      "source": [
        "## Challenge - solution"
      ]
    },
    {
      "metadata": {
        "id": "3Fi44p7yn5ok",
        "colab_type": "code",
        "colab": {}
      },
      "cell_type": "code",
      "source": [
        "#usa1810.head()\n",
        "# Select on the columns we weant to keep in dissovled geodataframe\n",
        "usa1810_outline = usa1810[[\"DECADE\",\"geometry\"]]  \n",
        "\n",
        "# dissolve the interior polygons\n",
        "usa1810_outline = usa1810_outline.dissolve(by='DECADE', as_index=False)\n",
        "\n",
        "# take a look\n",
        "#usa1810_outline.head()\n",
        "usa1810_outline.plot()"
      ],
      "execution_count": 0,
      "outputs": []
    },
    {
      "metadata": {
        "id": "HxThqxi85npz",
        "colab_type": "text"
      },
      "cell_type": "markdown",
      "source": [
        "## Challenge\n",
        "\n",
        "Create a new **usa1810_states** geodataframe by dissolving the usa1810 county geometry.\n",
        "\n",
        "- *What column do you use to dissolve by?**"
      ]
    },
    {
      "metadata": {
        "id": "HTVXcazGnzhk",
        "colab_type": "code",
        "colab": {}
      },
      "cell_type": "code",
      "source": [
        "# your code here"
      ],
      "execution_count": 0,
      "outputs": []
    },
    {
      "metadata": {
        "id": "ysOmyFCp6z7L",
        "colab_type": "text"
      },
      "cell_type": "markdown",
      "source": [
        "## Challenge - solution"
      ]
    },
    {
      "metadata": {
        "id": "okqR8ev36Yv4",
        "colab_type": "code",
        "colab": {}
      },
      "cell_type": "code",
      "source": [
        "usa1810.head()\n",
        "usa1810_states = usa1810[['STATENAM','geometry']]\n",
        "usa1810_states = usa1810_states.dissolve(by='STATENAM', as_index=False)\n",
        "usa1810_states.plot()"
      ],
      "execution_count": 0,
      "outputs": []
    },
    {
      "metadata": {
        "id": "ieHnT-repL1c",
        "colab_type": "text"
      },
      "cell_type": "markdown",
      "source": [
        "## Challenge \n",
        "\n",
        "Display the **usa1810_outline** on top of the **conus_outline**\n",
        "\n",
        "- *HINT: You can do this quickly by copying related code from a previous section and changing the geodataframe names*"
      ]
    },
    {
      "metadata": {
        "id": "pG0axBzS51Zq",
        "colab_type": "code",
        "colab": {}
      },
      "cell_type": "code",
      "source": [
        "# your code here\n"
      ],
      "execution_count": 0,
      "outputs": []
    },
    {
      "metadata": {
        "id": "DwQ_vmSYKBrW",
        "colab_type": "text"
      },
      "cell_type": "markdown",
      "source": [
        "# Coordinate Reference Systems (CRS) \n",
        "\n",
        "Did you notice anything funny about the **shape** of the USA as mapped above?  How does it differ from this?\n",
        "<img src=\"https://upload.wikimedia.org/wikipedia/commons/thumb/a/a5/Map_of_USA_with_state_names.svg/640px-Map_of_USA_with_state_names.svg.png\" width=\"800px\"></img>\n"
      ]
    },
    {
      "metadata": {
        "id": "Uwdbf5YRKPC1",
        "colab_type": "text"
      },
      "cell_type": "markdown",
      "source": [
        "#### Why does the shape differ? \n",
        "\n",
        "Here's why:\n",
        "\n",
        "<img src=\"http://tse3.mm.bing.net/th?id=OIP.lyDmHXX9VdoEOWDQlqppSAHaEy\" width=\"500px\"></img>\n",
        "\n",
        "When we map data encoded with a spheriodal coordinates (longitude & latitude) on a 2D plane like a computer screen we get distortion!\n",
        "\n",
        "## Map Projections and CRS Transformations\n",
        "\n",
        "In order to reduce distortion in maps we apply a map projection (math) to transform 3D geographic coordinates to 2D projected map coordinates.\n",
        "<img src=\"https://www.e-education.psu.edu/natureofgeoinfo/sites/www.e-education.psu.edu.natureofgeoinfo/files/image/projection.gif\"></img>\n",
        "\n",
        "\n",
        "CRS transformations are often necessary for geopandas geometric operations like area and distance calculations which assume a 2D plane.\n",
        "\n",
        "## Defining and Transforming a CRS\n",
        "The process for transforming a CRS is:\n",
        "\n",
        "1. Make sure a **crs** is defined for the geopandas dataframe by checking the **crs** property. \n",
        "2. If it is not set, you can **define** it.\n",
        "3. Transform the coordinate geometry to a new CRS using the **to_crs** method.\n",
        "- This returns a new geodataframe with the new coordinate values and CRS.\n",
        "- You need to know what CRS to use!!"
      ]
    },
    {
      "metadata": {
        "id": "TSuF46XgHnRY",
        "colab_type": "code",
        "colab": {}
      },
      "cell_type": "code",
      "source": [
        "# Check the CRS of our gdfs\n",
        "print(\"The CRS of the conus geodata frame is: \" + str(conus.crs))\n",
        "print(\"The CRS of the usa1810 geodata frame is: \" + str(usa1810.crs))\n"
      ],
      "execution_count": 0,
      "outputs": []
    },
    {
      "metadata": {
        "id": "xUnGUA5hKn67",
        "colab_type": "text"
      },
      "cell_type": "markdown",
      "source": [
        "What's an **epsg:4326**?  That's an [EPSG](http://www.epsg.org/) code for the geographic CRS known as the [World Geodectic System of 1984](https://en.wikipedia.org/wiki/World_Geodetic_System#WGS84), or `WGS84`. This is the most commonly used CRS for latitude and longitude coordinate data and is the default CRS for most mapping software when the data does not have a defined CRS.\n",
        "\n",
        "We can make our map look better by transforming it to a 2D projected `CRS`. A projected CRS applies a mathematical transformation to the data based on a [map projection](https://en.wikipedia.org/wiki/Map_projection)\n",
        "\n",
        "Common map projections for USA data and their EPSG codes include:\n",
        "\n",
        "- **Web Mercator** (epsg:3857)\n",
        "- **USA Contiguious Albers** (epsg:7603)\n",
        "\n",
        "Let's try these with our geodataframe.\n",
        "\n",
        "First, let's transform the CRS of the **conus** geodataframe to Web Mercator. The **to_crs** method will return a new geododataframe."
      ]
    },
    {
      "metadata": {
        "id": "Vtlt_XdJHnUg",
        "colab_type": "code",
        "colab": {}
      },
      "cell_type": "code",
      "source": [
        "# Transform geographic crs to web mercator - 3857\n",
        "conus_3857 = conus.to_crs(epsg=3857)\n",
        "conus_3857.plot()"
      ],
      "execution_count": 0,
      "outputs": []
    },
    {
      "metadata": {
        "id": "_5-rETLyLSO4",
        "colab_type": "text"
      },
      "cell_type": "markdown",
      "source": [
        "## Challenge\n",
        "\n",
        "Now you try it! Transform the **conus** geodataframe to one that uses the **USA Contiguous Albers CRS** (7603).\n",
        "\n",
        "Then, display the output geodataframe."
      ]
    },
    {
      "metadata": {
        "id": "sEgy2JKvLcDf",
        "colab_type": "code",
        "colab": {}
      },
      "cell_type": "code",
      "source": [
        "# Your code here\n"
      ],
      "execution_count": 0,
      "outputs": []
    },
    {
      "metadata": {
        "id": "eFv_9q3VZnNU",
        "colab_type": "text"
      },
      "cell_type": "markdown",
      "source": [
        "## Challenge Solution"
      ]
    },
    {
      "metadata": {
        "id": "yKFhrrIgZqrd",
        "colab_type": "code",
        "colab": {}
      },
      "cell_type": "code",
      "source": [
        "# Transform the conus geodataframe to USA Albers (7603)\n",
        "conus_7603 = conus.to_crs(epsg=7603)\n",
        "conus_7603.plot()"
      ],
      "execution_count": 0,
      "outputs": []
    },
    {
      "metadata": {
        "id": "xAMrQznnLSEo",
        "colab_type": "text"
      },
      "cell_type": "markdown",
      "source": [
        "## Multiplots\n",
        "\n",
        "Let's plot all the data in all 3 CRS together."
      ]
    },
    {
      "metadata": {
        "id": "iEtkSgn5LPEa",
        "colab_type": "code",
        "colab": {}
      },
      "cell_type": "code",
      "source": [
        "fig, ax = plt.subplots(ncols=3, figsize=(18,4), subplot_kw=dict(aspect='equal'))\n",
        "# Don't show the coordinate axis\n",
        "ax[0].axis('off')\n",
        "ax[1].axis('off')\n",
        "ax[2].axis('off')\n",
        "# Show a title\n",
        "ax[0].set_title('Geographic, unprojected (4326)')\n",
        "ax[1].set_title('Web Mercator (3857)')\n",
        "ax[2].set_title('Albers EA (7603)')\n",
        "# display\n",
        "conus.plot(ax=ax[0])\n",
        "conus_3857.plot(ax=ax[1])\n",
        "conus_7603.plot(ax=ax[2])\n",
        "plt.show()"
      ],
      "execution_count": 0,
      "outputs": []
    },
    {
      "metadata": {
        "id": "mJWUtmczL9fN",
        "colab_type": "text"
      },
      "cell_type": "markdown",
      "source": [
        "You can see we get very different maps of the USA depending on the CRS. Web Mercator is best suited for large geographic extents between +-60 degrees (i.e. distortion increases as you move away from equator and towards the poles). USA Contiguous Albers is best for the continental USA.  We could subset the data to remove Alaska, Hawaii and Puerto Rico.\n",
        "\n",
        "### Important Notes\n",
        "\n",
        "1. Data need to be in the same CRS in order to be mapped or analyzed together.\n",
        "2. The units of a CRS are part of the CRS definition. These are typically decimal degrees for geographic (lat/lon) data and meters or feet for projected data.\n",
        "3. It's not obvious what the best projected CRS is for your map or analysis. You need to review the recent literature (as these things change) and try different ones.  Here is a good starting place, [epsg.io](http://epsg.io/).\n",
        "\n",
        "\n",
        "> A detailed discussion CRS and map projections is beyond the scope of this notebook. Understanding these, however, is **necessary** for working sucessfully with geospatial data! There are a number of online resources that can be found with a web search to help you get started."
      ]
    },
    {
      "metadata": {
        "id": "4nJQVGVzZ7ON",
        "colab_type": "text"
      },
      "cell_type": "markdown",
      "source": [
        "**Any Questions?**\n",
        "\n",
        "\n",
        "---\n",
        "\n"
      ]
    },
    {
      "metadata": {
        "id": "-s5tSCGVMDwm",
        "colab_type": "text"
      },
      "cell_type": "markdown",
      "source": [
        "# Spatial Measurements\n",
        "\n",
        "Geopandas uses the  [Shapely library](https://shapely.readthedocs.io/en/stable/manual.html) to compute spatial measurements like area and length for individual geometries or all the geometries in a geoseries.  The available measurements depend on the geometry type. For example, we can compute area and perimeter for polygons, length for lines, and distances between points.  Read the GeoPandas and Shapely documentation to get a sense of all the meausurements you can compute.\n",
        "\n",
        "### Calculating Area\n",
        "\n",
        "Let's compute the area of a single geometry in a geodataframe."
      ]
    },
    {
      "metadata": {
        "id": "-M4mxtCDWw08",
        "colab_type": "code",
        "colab": {}
      },
      "cell_type": "code",
      "source": [
        "conus[conus['STATE']=='Montana'].geometry.area # returns a pandas series\n",
        "\n",
        "# Use Squeeze() to return the value when the geoseries only has one element.\n",
        "#conus[conus['STATE']=='Montana'].geometry.area.squeeze()  "
      ],
      "execution_count": 0,
      "outputs": []
    },
    {
      "metadata": {
        "id": "qgEzhNIuzf_c",
        "colab_type": "text"
      },
      "cell_type": "markdown",
      "source": [
        "**Question**  - What are the units for the above area value?"
      ]
    },
    {
      "metadata": {
        "id": "prrLF_3AXIss",
        "colab_type": "text"
      },
      "cell_type": "markdown",
      "source": [
        "We can compute the area of all geometries in the geodataframe."
      ]
    },
    {
      "metadata": {
        "id": "3JH5F3Y9XHs2",
        "colab_type": "code",
        "colab": {}
      },
      "cell_type": "code",
      "source": [
        " conus.geometry.area"
      ],
      "execution_count": 0,
      "outputs": []
    },
    {
      "metadata": {
        "id": "jIWYK5KzXiOZ",
        "colab_type": "code",
        "colab": {}
      },
      "cell_type": "code",
      "source": [
        "# We can also use the shorter syntax\n",
        "conus[conus['STATE']=='Montana'].area\n",
        "\n",
        "# or\n",
        "#conus.area"
      ],
      "execution_count": 0,
      "outputs": []
    },
    {
      "metadata": {
        "id": "wzPdw_cXuGhm",
        "colab_type": "text"
      },
      "cell_type": "markdown",
      "source": [
        "Above, we dynamically calculated area. But we can also append it to the geodataframe."
      ]
    },
    {
      "metadata": {
        "id": "70FHwbIIXp2p",
        "colab_type": "code",
        "colab": {}
      },
      "cell_type": "code",
      "source": [
        "# Update the dataframe\n",
        "conus['area'] = conus.area\n",
        "conus.head(15)"
      ],
      "execution_count": 0,
      "outputs": []
    },
    {
      "metadata": {
        "id": "5kAuH-2DXwu6",
        "colab_type": "text"
      },
      "cell_type": "markdown",
      "source": [
        "### Calculating Length or Perimeter\n",
        "\n",
        "Similarly we can calculate the perimeter of our state polygons."
      ]
    },
    {
      "metadata": {
        "id": "PN9FraL-XwJ8",
        "colab_type": "code",
        "colab": {}
      },
      "cell_type": "code",
      "source": [
        "# Perimeter of the state of Montana\n",
        "conus[conus['STATE']=='Montana'].length\n",
        "\n",
        "# Perimeter of all states in the continental USA\n",
        "#conus.length"
      ],
      "execution_count": 0,
      "outputs": []
    },
    {
      "metadata": {
        "id": "Xq1ZQIerYInw",
        "colab_type": "text"
      },
      "cell_type": "markdown",
      "source": [
        "### Calculating Distance\n",
        "We can also compute the shortest distance between individual geometries."
      ]
    },
    {
      "metadata": {
        "id": "Sg7-6NCeYHnP",
        "colab_type": "code",
        "colab": {}
      },
      "cell_type": "code",
      "source": [
        "conus[conus['STATE']=='Montana'].squeeze().geometry.distance(conus[conus['STATE']=='California'].squeeze().geometry)"
      ],
      "execution_count": 0,
      "outputs": []
    },
    {
      "metadata": {
        "id": "WDfsWkuSbwOk",
        "colab_type": "text"
      },
      "cell_type": "markdown",
      "source": [
        "## Spatial Measurements and CRSs\n",
        "\n",
        "The output of spatial measurements depend on the CRS and is expressed in the units of the CRS. The Shapely library assumes a two dimensional planar coordinate system and makes no transformation on the data - that is left for the analyst.\n",
        "\n",
        "Let's compare the output of the area calculations using the different CRSs.\n",
        "\n"
      ]
    },
    {
      "metadata": {
        "id": "WkCow2lELPHW",
        "colab_type": "code",
        "colab": {}
      },
      "cell_type": "code",
      "source": [
        "print(\"Area of Montana\")\n",
        "print(\"- CRS WGS84: %.2f\" % conus[conus['STATE']=='Montana'].geometry.area)\n",
        "print(\"- CRS Web Mercator: %.2f\" % conus_3857[conus_3857['STATE']=='Montana'].geometry.area)\n",
        "print(\"- CRS Albers: %.2f\" % conus_7603[conus_7603['STATE']=='Montana'].geometry.area)"
      ],
      "execution_count": 0,
      "outputs": []
    },
    {
      "metadata": {
        "id": "IRfnDawhV4p1",
        "colab_type": "text"
      },
      "cell_type": "markdown",
      "source": [
        "**Question**\n",
        "\n",
        "Which CRS returns the (most) correct value for the area of Montana? Check []Wikipedia](https://en.wikipedia.org/wiki/Montana)...\n",
        "\n",
        "*Discussion*\n"
      ]
    },
    {
      "metadata": {
        "id": "F_DwdZWscjia",
        "colab_type": "text"
      },
      "cell_type": "markdown",
      "source": [
        "## CRSs and Distance Calculations\n",
        "Let's compute the distance between Montana & California using the Web Mercator and Albers CRSs."
      ]
    },
    {
      "metadata": {
        "id": "TW0hvht2LPNg",
        "colab_type": "code",
        "colab": {}
      },
      "cell_type": "code",
      "source": [
        "# Your code here\n",
        "wm_dist_m = conus_3857[conus_3857['STATE']=='Washington'].squeeze().geometry.distance(conus_3857[conus_3857['STATE']=='California'].squeeze().geometry)\n",
        "wm_dist_km = wm_dist_m / 1000\n",
        "print(\"web mercator dist KM:\", wm_dist_km)\n",
        "#\n",
        "al_dist_m = conus_7603[conus_7603['STATE']=='Washington'].squeeze().geometry.distance(conus_7603[conus_7603['STATE']=='California'].squeeze().geometry)\n",
        "al_dist_km = al_dist_m / 1000\n",
        "print(\"Albers dist KM:\", al_dist_km)\n"
      ],
      "execution_count": 0,
      "outputs": []
    },
    {
      "metadata": {
        "id": "27ZV3xrU1xJR",
        "colab_type": "text"
      },
      "cell_type": "markdown",
      "source": [
        " **Question**\n",
        " \n",
        " Which CRS returns the best result? Check against Google Maps to find out."
      ]
    },
    {
      "metadata": {
        "id": "MqSWJhvj2Osg",
        "colab_type": "text"
      },
      "cell_type": "markdown",
      "source": [
        "### Determinining the Best CRS\n",
        "\n",
        "It's not obvious or easy to find the best CRS for your spatial analysis. It really depends on what you are trying to measure (area, distance, direction, shape) and the location of your study area. There is a theoretically unlimited number of CRSs to choose from.\n",
        "\n",
        "However, only a few are typically used in any one area and you figure this out by reviewing the literature of geospatial analysis in your field and geographic methods and tools in general.\n",
        "\n",
        "\n",
        "For example, the UTM coordinate system is good for regional area, distance and direaction calculations. The system includes a number of different CRSs - one for 60 different zones in the two hempisphers.  UTM sone 10 north and 11 north are often used for the geospatial analysis California data.  UTM zone 10N (epsg=32610) also includes most of Oregon & Washington. Let's use this CRS to calculate the distance between the centroids of these two states."
      ]
    },
    {
      "metadata": {
        "id": "yQuiJN93mAmN",
        "colab_type": "code",
        "colab": {}
      },
      "cell_type": "code",
      "source": [
        "# First transform the conus data to utm 10n (32610)\n",
        "conus_utm = conus.to_crs(epsg=32610)\n",
        "\n",
        "# Calculate the distance in meters\n",
        "wm_dist_m = conus_utm[conus_utm['STATE']=='Washington'].squeeze().geometry.centroid.distance(conus_utm[conus_utm['STATE']=='California'].squeeze().geometry.centroid)\n",
        "\n",
        "# Convert to kilometers\n",
        "wm_dist_km = wm_dist_m / 1000\n",
        "print(\"web mercator dist KM:\", wm_dist_km)"
      ],
      "execution_count": 0,
      "outputs": []
    },
    {
      "metadata": {
        "id": "ndN5G1nf4dMn",
        "colab_type": "text"
      },
      "cell_type": "markdown",
      "source": [
        "## Geodesic distance - DEMO\n",
        "\n",
        "Over larger areas on the surface of the Earth it becomes difficult to impossible to find a good projected CRS for distance calculations. Geodesic distance calculations use a spheroidal model of the Earth to calculate the distance between to points and are thus more accurate.\n",
        "\n",
        "We can use the **vincenty** function in the [geopy](https://geopy.readthedocs.io/en/stable/) library to compute geodesic distances quite accurately."
      ]
    },
    {
      "metadata": {
        "id": "QtXgaGaQnVQ6",
        "colab_type": "code",
        "colab": {}
      },
      "cell_type": "code",
      "source": [
        "# Extrate the center points of Washington and California\n",
        "wa_ctr = conus[conus['STATE']=='Washington'].centroid.squeeze()\n",
        "ca_ctr = conus[conus['STATE']=='California'].centroid.squeeze()\n"
      ],
      "execution_count": 0,
      "outputs": []
    },
    {
      "metadata": {
        "id": "yeXNlYEBnVUa",
        "colab_type": "code",
        "colab": {}
      },
      "cell_type": "code",
      "source": [
        "# Create Point list objects\n",
        "## IMPORTANT - what is the order of the coordinates?\n",
        "wa_ctr_pt = [wa_ctr.y, wa_ctr.x]\n",
        "ca_ctr_pt = [ca_ctr.y, ca_ctr.x]"
      ],
      "execution_count": 0,
      "outputs": []
    },
    {
      "metadata": {
        "id": "1Ihpz_CXnVX1",
        "colab_type": "code",
        "colab": {}
      },
      "cell_type": "code",
      "source": [
        "# Use the vincenty function to compute the distance between these points\n",
        "from geopy.distance import vincenty\n",
        "vincenty(wa_ctr_pt, ca_ctr_pt).km"
      ],
      "execution_count": 0,
      "outputs": []
    },
    {
      "metadata": {
        "id": "_lmaumH-5zkD",
        "colab_type": "text"
      },
      "cell_type": "markdown",
      "source": [
        "### Any Questions?"
      ]
    },
    {
      "metadata": {
        "id": "GBP2Co-TutCH",
        "colab_type": "text"
      },
      "cell_type": "markdown",
      "source": [
        "## Spatial Relationship queries\n",
        "\n",
        "[Spatial relationship queries](https://en.wikipedia.org/wiki/Spatial_relation) consider how two geometries or sets of geometries relate to one another in space. Fortunately, these don't depend on the CRS of the data.\n",
        "\n",
        "<img src=\"https://upload.wikimedia.org/wikipedia/commons/5/55/TopologicSpatialRelarions2.png\" height=\"400px\"></img>\n"
      ]
    },
    {
      "metadata": {
        "id": "MZZ35LpB9YhQ",
        "colab_type": "text"
      },
      "cell_type": "markdown",
      "source": [
        "Let's consider some spatial relationship queries between individual geometries and geopandas geodataframes / geoseries.\n",
        "\n",
        "To start, let's create  geometry objects that represent the Parish of Pointe Coupee, Louisiana as a point and as a polygon."
      ]
    },
    {
      "metadata": {
        "id": "pG_Sqlj45nm1",
        "colab_type": "code",
        "colab": {}
      },
      "cell_type": "code",
      "source": [
        "# Polygon  representation of the Paris (county) of Pointe Coupee Louisiana in 1810\n",
        "ptcoupee_poly = usa1810[usa1810['NHGISNAM']=='Pointe Coupee'].geometry.squeeze()\n",
        "ptcoupee_poly\n",
        "\n"
      ],
      "execution_count": 0,
      "outputs": []
    },
    {
      "metadata": {
        "id": "yrLbCcWIAtf4",
        "colab_type": "code",
        "colab": {}
      },
      "cell_type": "code",
      "source": [
        "# Make a polygon representaton of Colonial Louisiana (Orleans Territory)\n",
        "orleans_poly = usa1810_states[usa1810_states['STATENAM']=='Orleans Territory'].geometry.squeeze()\n",
        "\n",
        "# And Louisiana today\n",
        "la_poly = conus[conus['STATE']=='Louisiana'].geometry.squeeze()"
      ],
      "execution_count": 0,
      "outputs": []
    },
    {
      "metadata": {
        "id": "M6Ixlfhh-v-l",
        "colab_type": "code",
        "colab": {}
      },
      "cell_type": "code",
      "source": [
        "# Point representation of the Paris (county) of Pointe Coupee Louisiana in 1810\n",
        "ptcoupee_pt = usa1810[usa1810['NHGISNAM']=='Pointe Coupee'].geometry.centroid.squeeze()\n",
        "ptcoupee_pt"
      ],
      "execution_count": 0,
      "outputs": []
    },
    {
      "metadata": {
        "id": "NvvRWSdy-1Tb",
        "colab_type": "code",
        "colab": {}
      },
      "cell_type": "code",
      "source": [
        "# If we make these geometries a geoseries we can quickly plot together\n",
        "gpd.GeoSeries([la_poly, orleans_poly, ptcoupee_poly, ptcoupee_pt]).plot(cmap=\"Reds\")"
      ],
      "execution_count": 0,
      "outputs": []
    },
    {
      "metadata": {
        "id": "ixqrCESLBaWz",
        "colab_type": "text"
      },
      "cell_type": "markdown",
      "source": [
        "Now let's consider the following spatial relationship query:\n",
        "\n",
        "- Is Pointe Coupee within Orleans Territory?\n"
      ]
    },
    {
      "metadata": {
        "id": "jgUkeehpCqnS",
        "colab_type": "text"
      },
      "cell_type": "markdown",
      "source": [
        "Here is a list of the geopandas functions we can use to check spatial relationships.\n",
        "\n",
        "*Which one should we use to answer the query?*\n",
        "\n",
        "- equals\n",
        "- contains\n",
        "- crosses\n",
        "- disjoint\n",
        "- intersects\n",
        "- overlaps\n",
        "- touches\n",
        "- within\n",
        "- covers"
      ]
    },
    {
      "metadata": {
        "id": "-adhcjTx93ga",
        "colab_type": "code",
        "colab": {}
      },
      "cell_type": "code",
      "source": [
        "# spatial relationship query\n",
        "ptcoupee_poly.within(la_poly)\n"
      ],
      "execution_count": 0,
      "outputs": []
    },
    {
      "metadata": {
        "id": "PK52OL8EC7RA",
        "colab_type": "text"
      },
      "cell_type": "markdown",
      "source": [
        "**Question** - How do you think we would  restate that using ** contains**?"
      ]
    },
    {
      "metadata": {
        "id": "83Qpp9D7D0B8",
        "colab_type": "text"
      },
      "cell_type": "markdown",
      "source": [
        "We can test the spatial relationship between all geometries in a geodataframe."
      ]
    },
    {
      "metadata": {
        "id": "rxyX-xftDm40",
        "colab_type": "code",
        "colab": {}
      },
      "cell_type": "code",
      "source": [
        "usa1810_states.contains(ptcoupee_poly)"
      ],
      "execution_count": 0,
      "outputs": []
    },
    {
      "metadata": {
        "id": "htstBJNvDaWI",
        "colab_type": "text"
      },
      "cell_type": "markdown",
      "source": [
        "Since spatial functions return **True** or **False** we can use them to select only the rows that meet the condition being tested."
      ]
    },
    {
      "metadata": {
        "id": "IYgs9yvkEBzK",
        "colab_type": "code",
        "colab": {}
      },
      "cell_type": "code",
      "source": [
        "usa1810_states[usa1810_states.contains(ptcoupee_poly)]"
      ],
      "execution_count": 0,
      "outputs": []
    },
    {
      "metadata": {
        "id": "gxz6j8zrIF55",
        "colab_type": "text"
      },
      "cell_type": "markdown",
      "source": [
        "## Challenge\n",
        "\n",
        "Consider the following questions:\n",
        "\n",
        "- What US states border Louisiana?\n",
        "\n",
        "- Is Orleans Territory within Louisiana\n",
        "\n",
        "Use the code cell below to try out some spatial relationship queries to answer those questions."
      ]
    },
    {
      "metadata": {
        "id": "l3l8xaaWnVbA",
        "colab_type": "code",
        "colab": {}
      },
      "cell_type": "code",
      "source": [
        "# Your code here"
      ],
      "execution_count": 0,
      "outputs": []
    },
    {
      "metadata": {
        "id": "Iog_8gNEESNS",
        "colab_type": "text"
      },
      "cell_type": "markdown",
      "source": [
        "**Discussion**\n"
      ]
    },
    {
      "metadata": {
        "id": "oXrlWtGwEgAS",
        "colab_type": "text"
      },
      "cell_type": "markdown",
      "source": [
        "##  Intersects - the most general spatial relationship query\n",
        "\n",
        "The most useful, fastest and most general purpose spatial relationship query is **intersects**. You don't need to worry about selecting the correct spatial relationship predicate for your query or differences due to the resolution and alignment of your geometries.\n",
        "\n",
        "Try it!\n",
        "\n",
        "- Redo the previous queries with intersects.  \n",
        "- Then try them again reversing the order of the objects.\n",
        "    - Does order matter with intersects?"
      ]
    },
    {
      "metadata": {
        "id": "46pX7eyME7hT",
        "colab_type": "code",
        "colab": {}
      },
      "cell_type": "code",
      "source": [
        "# your code here"
      ],
      "execution_count": 0,
      "outputs": []
    },
    {
      "metadata": {
        "id": "yhBFozRztTVg",
        "colab_type": "text"
      },
      "cell_type": "markdown",
      "source": [
        "### Questions?\n",
        "\n",
        "\n",
        "\n",
        "---\n",
        "\n"
      ]
    },
    {
      "metadata": {
        "id": "zbsBCLynL2qH",
        "colab_type": "text"
      },
      "cell_type": "markdown",
      "source": [
        "## Geometric Processing\n",
        "\n",
        "Spatial relationship queries return `True` or `False` when comparing geometries based on a spatial relationship predicate. These can be used to subset geodataframes.\n",
        "\n",
        "Geometric processing operations, on the other hand, construct new geometries from one or more input geometries. We saw this earlier with the **dissolve** operation.\n",
        "\n",
        "The [geopandas **overlay** operation](http://geopandas.org/set_operations.html) allows you to compare two geodataframes and return the set intersection, union, difference between them. \n",
        "\n",
        "Let's consider how we can use **overlay** to create a new geodataframe that represents the areas that were added to the continental United States after 1810.\n",
        "\n",
        "*Note: these operations can be quite computationally intensive on complex geometries!*"
      ]
    },
    {
      "metadata": {
        "id": "smTDcdQ55yOy",
        "colab_type": "code",
        "colab": {}
      },
      "cell_type": "code",
      "source": [
        "# What states were added after Louisiana Purchase\n",
        "usa_post1810 = gpd.overlay(conus, usa1810_outline, how='difference')"
      ],
      "execution_count": 0,
      "outputs": []
    },
    {
      "metadata": {
        "id": "r3mlTmv0N0sw",
        "colab_type": "code",
        "colab": {}
      },
      "cell_type": "code",
      "source": [
        "usa_post1810.head()\n"
      ],
      "execution_count": 0,
      "outputs": []
    },
    {
      "metadata": {
        "id": "xbr9t6NkN3VC",
        "colab_type": "code",
        "colab": {}
      },
      "cell_type": "code",
      "source": [
        "usa_post1810.plot()"
      ],
      "execution_count": 0,
      "outputs": []
    },
    {
      "metadata": {
        "id": "o2ovrAPBPCEv",
        "colab_type": "text"
      },
      "cell_type": "markdown",
      "source": [
        "## Question\n",
        "\n",
        "How does the above geoprocessing output compare with that of the spatial relationship query code below:"
      ]
    },
    {
      "metadata": {
        "id": "D9oP5jvxPHhM",
        "colab_type": "code",
        "colab": {}
      },
      "cell_type": "code",
      "source": [
        "conus[conus.disjoint(usa1810_outline.geometry.squeeze())].plot()"
      ],
      "execution_count": 0,
      "outputs": []
    },
    {
      "metadata": {
        "id": "cNZLiG3FB0_S",
        "colab_type": "text"
      },
      "cell_type": "markdown",
      "source": [
        "## Spatial Joins\n",
        "\n",
        "Spatial join operations are used to join attribute data from one spatial object to another based on spatial location. In `geopandas` this is done with the **sjoin** operator.  Spatial joins borrow syntax from non-spatial attribute table joins.\n",
        "\n",
        "Take a look at the documentation for **sjoin**."
      ]
    },
    {
      "metadata": {
        "id": "80aZp2EvQ7bh",
        "colab_type": "code",
        "colab": {}
      },
      "cell_type": "code",
      "source": [
        "#gpd.sjoin?"
      ],
      "execution_count": 0,
      "outputs": []
    },
    {
      "metadata": {
        "id": "XuZi5h8aRUQA",
        "colab_type": "text"
      },
      "cell_type": "markdown",
      "source": [
        "Let's explore spatial joins by:\n",
        "\n",
        "- reading in a csv file of Louisiana slave conspiracies.\n",
        "- making these data a geodataframe\n",
        "- using a spatial join to add the parish in which the conspiracy took place to the slave conspiracy geodataframe."
      ]
    },
    {
      "metadata": {
        "id": "wXHk-N3d8_xu",
        "colab_type": "code",
        "colab": {}
      },
      "cell_type": "code",
      "source": [
        "# Read in a csv file that has lat/lon values\n",
        "lsc_locs = gpd.read_file(\"./lsc_points.csv\")\n",
        " \n",
        "#take a look at the data\n",
        "lsc_locs"
      ],
      "execution_count": 0,
      "outputs": []
    },
    {
      "metadata": {
        "id": "6Xs7djUaSG4I",
        "colab_type": "text"
      },
      "cell_type": "markdown",
      "source": [
        "Because we have read in a CSV file, we do not have data in the **geometry** column. We can use some code to add it."
      ]
    },
    {
      "metadata": {
        "id": "X0e3b-PC9Ps9",
        "colab_type": "code",
        "colab": {}
      },
      "cell_type": "code",
      "source": [
        "# populate geometry column from lat/lon data\n",
        "lsc_locs['geometry'] = lsc_locs.apply(lambda row: Point(float(row['longitude']), float(row['latitude'])), axis = 1)\n",
        "\n",
        "# Take a look\n",
        "lsc_locs"
      ],
      "execution_count": 0,
      "outputs": []
    },
    {
      "metadata": {
        "id": "JsZC8qH2SfLm",
        "colab_type": "text"
      },
      "cell_type": "markdown",
      "source": [
        "## SJOIN\n",
        "\n",
        "We are now ready to use **sjoin** to add the parish (county) for each conspiracy."
      ]
    },
    {
      "metadata": {
        "id": "42SEQaDg9FbG",
        "colab_type": "code",
        "colab": {}
      },
      "cell_type": "code",
      "source": [
        "lsc_with_parish = gpd.sjoin(lsc_locs, usa1810)"
      ],
      "execution_count": 0,
      "outputs": []
    },
    {
      "metadata": {
        "id": "VNKz4IfF_7Zs",
        "colab_type": "code",
        "colab": {}
      },
      "cell_type": "code",
      "source": [
        "\n"
      ],
      "execution_count": 0,
      "outputs": []
    },
    {
      "metadata": {
        "id": "xfDilJvR_-i0",
        "colab_type": "text"
      },
      "cell_type": "markdown",
      "source": [
        "### CRSs must be the same for spatial joins.\n",
        "\n",
        "First take a look at the crs of the lsc_locs data."
      ]
    },
    {
      "metadata": {
        "id": "mrS49FdPS7dR",
        "colab_type": "code",
        "colab": {}
      },
      "cell_type": "code",
      "source": [
        "lsc_locs.crs"
      ],
      "execution_count": 0,
      "outputs": []
    },
    {
      "metadata": {
        "id": "jYcjE8tZS-r1",
        "colab_type": "text"
      },
      "cell_type": "markdown",
      "source": [
        "Why isn't the CRS defined?"
      ]
    },
    {
      "metadata": {
        "id": "p1wSo45_TCsb",
        "colab_type": "text"
      },
      "cell_type": "markdown",
      "source": [
        "## Defining a CRS\n",
        "\n",
        "If you know the CRS of your data you can define it by referencing its **epsg** code. \n",
        "\n",
        "*Note: defining a CRS is not a transformation!*"
      ]
    },
    {
      "metadata": {
        "id": "60mWZewk_uYW",
        "colab_type": "code",
        "colab": {}
      },
      "cell_type": "code",
      "source": [
        "lsc_locs.crs = {'init': 'epsg:4326'}\n",
        "\n",
        "# If we know two geodataframes have the same CRS\n",
        "# We can also define the CRS like this:\n",
        "#lsc_locs.crs = usa1810.crs "
      ],
      "execution_count": 0,
      "outputs": []
    },
    {
      "metadata": {
        "id": "dDXAauI4UFUf",
        "colab_type": "text"
      },
      "cell_type": "markdown",
      "source": [
        "Now try that spatial join again!"
      ]
    },
    {
      "metadata": {
        "id": "HRRymyQaAKy_",
        "colab_type": "code",
        "colab": {}
      },
      "cell_type": "code",
      "source": [
        "lsc_with_parish = gpd.sjoin(lsc_locs, usa1810)\n"
      ],
      "execution_count": 0,
      "outputs": []
    },
    {
      "metadata": {
        "id": "EKCyg3qTUH77",
        "colab_type": "text"
      },
      "cell_type": "markdown",
      "source": [
        "Take a look at the results..."
      ]
    },
    {
      "metadata": {
        "id": "icrY6lrgAd9z",
        "colab_type": "code",
        "colab": {}
      },
      "cell_type": "code",
      "source": [
        "lsc_with_parish.head()\n"
      ],
      "execution_count": 0,
      "outputs": []
    },
    {
      "metadata": {
        "id": "vqlHx1E4UMxY",
        "colab_type": "text"
      },
      "cell_type": "markdown",
      "source": [
        "## Attribute Joins\n",
        "\n",
        "Attribute joins combine data from different tables based on a column with shared values.  Although these are not spatial they are widely used in geospatial analysis and in all data analysis.  We use the **merge** command for geopandas attribute joins.\n",
        "\n",
        "<br>\n",
        "Let's use an attribute join to simplfy the results of our spatial join.  Below, we take the geodataframe that resulted from our spatial join, **lsc_with_parish** and join the parish name - which is in the **NHGISNAM** column to our original **lsc_locs** geodataframe. The join is based on the fact that both tables have a **name** column that contains unique values for the slave conspiracy."
      ]
    },
    {
      "metadata": {
        "id": "eelgEf56Af9R",
        "colab_type": "code",
        "colab": {}
      },
      "cell_type": "code",
      "source": [
        "lsc_locs = lsc_locs.merge(lsc_with_parish[['name','NHGISNAM']], on='name', how=\"left\", )\n",
        "lsc_locs.head()"
      ],
      "execution_count": 0,
      "outputs": []
    },
    {
      "metadata": {
        "id": "9VITbIqpte5j",
        "colab_type": "text"
      },
      "cell_type": "markdown",
      "source": [
        "### Questions?\n",
        "\n",
        "\n",
        "\n",
        "---\n",
        "\n"
      ]
    },
    {
      "metadata": {
        "id": "OSJi-MxM014T",
        "colab_type": "text"
      },
      "cell_type": "markdown",
      "source": [
        "## Data Driven Mapping\n",
        "\n",
        "Data driven mapping refers to the process of creating thematic maps by using data values to determine the symbology of mapped features - including their color, shape, size.  This is in contrast to setting the same symbology for all features as we have done above.\n",
        "\n",
        "### Mapping categorical data\n",
        "We can symbolize the color of our features by a categorical data value."
      ]
    },
    {
      "metadata": {
        "id": "234vxZGO10if",
        "colab_type": "code",
        "colab": {}
      },
      "cell_type": "code",
      "source": [
        "conus.plot(column=\"STATE\", edgecolor=\"white\")"
      ],
      "execution_count": 0,
      "outputs": []
    },
    {
      "metadata": {
        "id": "0qSOY4TX1CN0",
        "colab_type": "text"
      },
      "cell_type": "markdown",
      "source": [
        "\n",
        "### Mapping quantitative data\n",
        "\n",
        "We can also color areas by quantitave data values. This is called a **choropleth** map. \n",
        "\n",
        "Below we map the1810 states and territorized colored by the values in the SHAPE_AREA column (area in square meters). This is a test example since this geodataframe does not have any more meaningful quantitative data columns."
      ]
    },
    {
      "metadata": {
        "id": "2ptJwGToQN9T",
        "colab_type": "code",
        "colab": {}
      },
      "cell_type": "code",
      "source": [
        "usa1810.plot(column=\"SHAPE_AREA\", cmap=\"Reds\", edgecolor=\"grey\")"
      ],
      "execution_count": 0,
      "outputs": []
    },
    {
      "metadata": {
        "id": "tEuJCDJbjUpT",
        "colab_type": "text"
      },
      "cell_type": "markdown",
      "source": [
        "### cmaps - colormaps\n",
        "\n",
        "Note the use of the **cmap** option to set the matplotlib color palette for mapping the data.  Take a look at the [documumentation](https://matplotlib.org/users/colormaps.html) for these colormaps and rerun the previous code with a different value for **cmap**.   I strongly recommend that you read this documentation to improve your use of colormaps to effectively map data values. "
      ]
    },
    {
      "metadata": {
        "id": "ClPPj-4hlVX_",
        "colab_type": "text"
      },
      "cell_type": "markdown",
      "source": [
        "## Mapping Quantitative Data, Deep Dive\n",
        "\n",
        "Let's bring in some population data about the 1810 parishes in Orleans Territory and use it to create quantitative data maps."
      ]
    },
    {
      "metadata": {
        "id": "nxxOMDUUK4ow",
        "colab_type": "code",
        "colab": {}
      },
      "cell_type": "code",
      "source": [
        "\n",
        "orleans_census1810 = pd.read_csv('./orleans_census_data1810.csv')\n",
        "orleans_census1810.head()"
      ],
      "execution_count": 0,
      "outputs": []
    },
    {
      "metadata": {
        "id": "E1I9_61sYi-9",
        "colab_type": "text"
      },
      "cell_type": "markdown",
      "source": [
        "Compare the **orleans_census1810** dataframe above with the **orleans** geopandas dataframe that we create below. What **columns** do these have in common?"
      ]
    },
    {
      "metadata": {
        "id": "rIwZ9avtiB8R",
        "colab_type": "code",
        "colab": {}
      },
      "cell_type": "code",
      "source": [
        "orleans = usa1810[usa1810['STATENAM'] == 'Orleans Territory']"
      ],
      "execution_count": 0,
      "outputs": []
    },
    {
      "metadata": {
        "id": "tnfK--8gK4sJ",
        "colab_type": "code",
        "colab": {}
      },
      "cell_type": "code",
      "source": [
        "orleans.head()"
      ],
      "execution_count": 0,
      "outputs": []
    },
    {
      "metadata": {
        "id": "m0IdUrmxY44T",
        "colab_type": "text"
      },
      "cell_type": "markdown",
      "source": [
        "Use the geopandas **merge** command to join the attributes of the pandas dataframe **orleans_census1810** to the **orleans** geodataframe by the values in the **GISJON** column.  Then take a look at the output which we call **orleans_popdata** below."
      ]
    },
    {
      "metadata": {
        "id": "O0BNSSfnK4xi",
        "colab_type": "code",
        "colab": {}
      },
      "cell_type": "code",
      "source": [
        "orleans_popdata = orleans.merge(orleans_census1810, on='GISJOIN')\n",
        "orleans_popdata.head()"
      ],
      "execution_count": 0,
      "outputs": []
    },
    {
      "metadata": {
        "id": "GIpqBiqpZfcv",
        "colab_type": "code",
        "colab": {}
      },
      "cell_type": "code",
      "source": [
        "type(orleans_popdata)"
      ],
      "execution_count": 0,
      "outputs": []
    },
    {
      "metadata": {
        "id": "MGYXMGreY-LT",
        "colab_type": "text"
      },
      "cell_type": "markdown",
      "source": [
        "We can now add options to the `plot` command to use data values to determine map symbology. Consider how this is done below with the data in the `nwslave_pop` (non-white slave population) column."
      ]
    },
    {
      "metadata": {
        "id": "6nNpHeS2K41s",
        "colab_type": "code",
        "colab": {}
      },
      "cell_type": "code",
      "source": [
        "orleans_popdata.plot(column='nwslave_pop', cmap='Reds', edgecolor='black', legend=True, figsize=(8,6))"
      ],
      "execution_count": 0,
      "outputs": []
    },
    {
      "metadata": {
        "id": "aXuyGdTPnMMt",
        "colab_type": "text"
      },
      "cell_type": "markdown",
      "source": [
        "**Discussion**\n",
        "\n",
        "Above, the plot option **column=** tells the plot command to use the values in the **nwslave_pop** column to determine the geometry colors based on the colormap specified by the **cmap** option. You can see the list of available [color maps here](https://matplotlib.org/users/colormaps.html). The full range of values in the `nwslave_pop` column is being scaled to the color palette called **Reds**.  This is called an `unclassified` or `classless` map. This map is a good first effort as it imposses no grouping on the data, thus making it easier to spot trends and outliers. But it is harder to interpret the data values within an area. \n",
        "\n",
        "\n",
        "A more common practice is to use a classification scheme to bin the data into classes and map those classes to a color palette. Let's try that below with `quantile` classification which is the most commonly used scheme when mapping data."
      ]
    },
    {
      "metadata": {
        "id": "64-HCdCpcNWn",
        "colab_type": "code",
        "colab": {}
      },
      "cell_type": "code",
      "source": [
        "\n",
        "orleans_popdata.plot(column='nwslave_pop', cmap='Reds', edgecolor='black', \n",
        "                     legend=True, figsize=(8,6), scheme='quantiles')"
      ],
      "execution_count": 0,
      "outputs": []
    },
    {
      "metadata": {
        "id": "5O8abVwyqp0p",
        "colab_type": "text"
      },
      "cell_type": "markdown",
      "source": [
        "Wow that gives a very different looking map!"
      ]
    },
    {
      "metadata": {
        "id": "3dXPO1Qbqh_p",
        "colab_type": "text"
      },
      "cell_type": "markdown",
      "source": [
        "## Challenge\n",
        "\n",
        "In the code cell below recreate the above map with the classification schemes **equal_interval** and **fisher_jenks** to see how the look of the map changes.\n",
        "\n",
        "> Bonus challenge: try a different colormap."
      ]
    },
    {
      "metadata": {
        "id": "AEUPu5naquiY",
        "colab_type": "code",
        "colab": {}
      },
      "cell_type": "code",
      "source": [
        "# Your code here"
      ],
      "execution_count": 0,
      "outputs": []
    },
    {
      "metadata": {
        "id": "ARUshaUcqzWq",
        "colab_type": "text"
      },
      "cell_type": "markdown",
      "source": [
        "## Choropleth maps\n",
        "\n",
        "The maps we just made are called `choropleth maps`. A [choropleth maps](https://en.wikipedia.org/wiki/Choropleth_map) is a data map that colors areas by data values.  This are the most common type of data map. It is also sometimes called a **heatmap**.\n",
        "\n",
        "<br>\n",
        "**HOWEVER**, when the areas being mapped vary in size it is not considered good cartographic practice to map **counts**.  Why do you think this is so?\n",
        "\n",
        "Instead, choropleth maps typically symbolize ares by densites, ratios or rates that can compared across the different sized areas.\n",
        "\n",
        "<br>\n",
        "\n",
        "Let's map the ratio of non-white slaves (nwslave_pop) to free whites (white_pop)."
      ]
    },
    {
      "metadata": {
        "id": "9-ef23waq1Dj",
        "colab_type": "code",
        "colab": {}
      },
      "cell_type": "code",
      "source": [
        "# Create a new column that is the ratio of non-white slaves (nwslave_pop) to free whites (white_pop)\n",
        "orleans_popdata['slave2white_ratio'] = orleans_popdata['nwslave_pop'] / orleans_popdata['white_pop']\n",
        "\n",
        "# Map the ratio\n",
        "orleans_popdata.plot(column='slave2white_ratio', cmap='Reds', edgecolor='black', \n",
        "                     legend=True, figsize=(8,6), scheme='quantiles')"
      ],
      "execution_count": 0,
      "outputs": []
    },
    {
      "metadata": {
        "id": "R8J1m_1_q6U8",
        "colab_type": "text"
      },
      "cell_type": "markdown",
      "source": [
        "We can get fancy with our choropleth maps..."
      ]
    },
    {
      "metadata": {
        "id": "7uWUN9xmq6if",
        "colab_type": "code",
        "colab": {}
      },
      "cell_type": "code",
      "source": [
        "fig, ax = plt.subplots(1, figsize=(12,12))\n",
        "\n",
        "orleans_popdata.plot(ax=ax, column='slave2white_ratio', cmap='OrRd', edgecolor='black', legend=True, scheme='fisher_jenks')\n",
        "\n",
        "for polygon, name in zip(orleans_popdata.geometry, orleans_popdata.COUNTY):\n",
        "    ax.annotate(xy=(polygon.centroid.x, polygon.centroid.y), s=name)\n",
        "\n",
        "_ = ax.axis('off')\n",
        "\n",
        "ax.set_title(\"Ratio of Non-White Slaves to Free Whites, Orleans Territory, 1810\")\n",
        "plt.show()"
      ],
      "execution_count": 0,
      "outputs": []
    },
    {
      "metadata": {
        "id": "9tUlWR2drFJA",
        "colab_type": "text"
      },
      "cell_type": "markdown",
      "source": [
        "Needless to say, labels are a bit tricky, regardless of the software you use to make a map!\n"
      ]
    },
    {
      "metadata": {
        "id": "T3lP3uMarNs-",
        "colab_type": "text"
      },
      "cell_type": "markdown",
      "source": [
        "## Question\n",
        "\n",
        "In 1791 and 1795 two slave revolts where planned in the same parish in Orleans Territory. Although these plots involved different people and had different orgins, both were discovered and thwarted, leading to the trial and execution or emprisonment of many enslaved persons. Soon thereafter, the [German Coast Uprising of 1811](https://en.wikipedia.org/wiki/1811_German_Coast_uprising), which was the largest slave revolt in US history, occured in a different Orleans parish. Can you use the map above to guess the two parishes in which these three events occured? "
      ]
    },
    {
      "metadata": {
        "id": "uCoHF0E0rgHU",
        "colab_type": "text"
      },
      "cell_type": "markdown",
      "source": [
        "###  Any Final Questions?\n",
        "\n",
        "\n",
        "\n",
        "---\n",
        "\n"
      ]
    },
    {
      "metadata": {
        "id": "ufmzZTsHVQWd",
        "colab_type": "text"
      },
      "cell_type": "markdown",
      "source": [
        "## Going Further\n",
        "\n",
        "### Start with the Package Documentation\n",
        "\n",
        "- [GeoPandas Documentation](http://geopandas.org/)\n",
        "- [Shapely Documentation(https://shapely.readthedocs.io/en/stable/)]\n",
        "\n",
        "### I highly recommend this SciPy 2018 workshop on geopandas.\n",
        "\n",
        "- The notebooks are [here](https://github.com/geopandas/scipy2018-geospatial-data).\n",
        "- And be sure to watch the [youtube video](https://www.youtube.com/watch?v=kJXUUO5M4ok). \n",
        "\n",
        "### More Geopandas Practice\n",
        "\n",
        "- Try this [Geopandas tutorial](https://www.datacamp.com/community/tutorials/geospatial-data-python) on plotting the path of Hurricane Florence.\n",
        "\n",
        "### For a longer course\n",
        "\n",
        "- Try the datacamp course [Visualizing Geospatial Data in Python](https://www.datacamp.com/courses/visualizing-geospatial-data-in-python), the first chapter is FREE!\n",
        "\n",
        "### Interactive mapping \n",
        "\n",
        "- The [mplleaflet](https://github.com/jwass/mplleaflet) and [folium](https://github.com/python-visualization/folium) packages are very popular for creating interactive web maps in python notebooks. Check out the online documentation and do a web search for an online tutorial to get started.\n"
      ]
    },
    {
      "metadata": {
        "id": "-oZIWVk5VlZu",
        "colab_type": "text"
      },
      "cell_type": "markdown",
      "source": [
        "# Thank you!\n",
        "\n",
        "\n",
        "---\n",
        "\n",
        "Last updated 02/27/2019 by Patty Frontiera (pattyf [at] berkeley [dot] edu)"
      ]
    },
    {
      "metadata": {
        "id": "t0IfMLxdVssn",
        "colab_type": "code",
        "colab": {}
      },
      "cell_type": "code",
      "source": [
        ""
      ],
      "execution_count": 0,
      "outputs": []
    }
  ]
}
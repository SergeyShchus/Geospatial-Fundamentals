{
  "nbformat": 4,
  "nbformat_minor": 0,
  "metadata": {
    "colab": {
      "name": "Geopandas_Intro_Sp2019_GC_may6.ipynb",
      "version": "0.3.2",
      "provenance": [],
      "collapsed_sections": [
        "TyaZNIhWDmZe",
        "tjyHAq-TdvYd",
        "tuNsnmxjIFBx",
        "DwQ_vmSYKBrW",
        "eFv_9q3VZnNU",
        "GBP2Co-TutCH",
        "86d0pdQW23a8",
        "zbsBCLynL2qH",
        "s34EsieOSzsH"
      ]
    },
    "kernelspec": {
      "name": "python3",
      "display_name": "Python 3"
    }
  },
  "cells": [
    {
      "cell_type": "markdown",
      "metadata": {
        "id": "FM959kc2672g",
        "colab_type": "text"
      },
      "source": [
        "# Geospatial Data in Python with GeoPandas \n",
        "\n",
        "A [D-Lab](https://dlab.berkeley.edu) Workshop, Spring 2019\n",
        "\n",
        "---\n",
        "\n"
      ]
    },
    {
      "cell_type": "markdown",
      "metadata": {
        "id": "vYLMRdKA7AMl",
        "colab_type": "text"
      },
      "source": [
        "\n",
        "# Introduction"
      ]
    },
    {
      "cell_type": "markdown",
      "metadata": {
        "id": "xjOgGtCKhm19",
        "colab_type": "text"
      },
      "source": [
        "\n",
        "\n",
        "The goal of this notebook is to give you a **tip of the iceberg introduction** to working with geospatial data in Python using the **geopandas** package.  Most of the sample data and use cases are related to a UC Berkeley research a project that I have been working on called [The Louisiana Slave Conspiracies](https://dlab.berkeley.edu/landing-page/louisiana-slave-conspiracies). This project explores several slave conspiracies that occured in colonial Louisiana during the late 1700s and early 1800s. Since very little data exist for this time period, we begin with an exploration of US Census data from the early 1800s, shortly after the Louisiana Purchase made the Louisiana and Orleans Territories part of the United States.\n",
        "\n",
        "> ### Assumptions\n",
        "\n",
        "> This tutorial assumptions you have basic working knowledge of Python and of geospatial data.   If you need a geospatial refresher, we can start with this a **very** [Brief Introduction to Geospatial Data](https://docs.google.com/presentation/d/1d9GNcLDsnLxfLmrNRNZE976sHN5qNfkU9Rl2gabUsWc/edit?usp=sharing).\n",
        "\n",
        " \n",
        " \n",
        "## GeoPandas and related Geospatial Packages\n",
        "\n",
        "[GeoPandas](http://geopandas.org/) is a relatively new package that makes it easier to work with geospatial data in Python. In the last few years it has grown more powerful and stable. This really is great because previously it was quite complex to work with geospatial data in Python.  GeoPandas is now the go to package for working with geospatial data. \n",
        "\n",
        "`GeoPandas` provides convenient, unified access to the functionality of the [pandas](https://pandas.pydata.org/) package , extending it with the geospatial processing capabilities provided by a number of lower level spatial data packages including [shapely](https://pypi.python.org/pypi/Shapely) for geometry processing, [fiona](https://pypi.python.org/pypi/Fiona) and [GDAL/Ogr](https://gdal.org) for spatial data file IO and[ pyproj](https://github.com/jswhit/pyproj) and [PROJ.4](https://github.com/OSGeo/proj.4/wiki) for map projections and coordinate systems.  \n",
        "\n",
        "\n",
        "We will also use a few other optional geospatial libraries that are  commonly used with geopandas, including:\n",
        "\n",
        "- **rtree** for spatial indexing to improve performance\n",
        "- **geopy** for geocoding and for geodesic distance calculations\n",
        "- **pysal** for spatial analysis functions such as data classification methods.\n",
        "- **descartes** for ploting Shapelygeometric objects with Matplotlib.\n",
        "\n",
        "\n",
        "Finally, we will use a number of standard Python libraries including pandas, numpy, and matplotlib.\n"
      ]
    },
    {
      "cell_type": "markdown",
      "metadata": {
        "id": "uWiKdh8s6xQ1",
        "colab_type": "text"
      },
      "source": [
        "# Setup"
      ]
    },
    {
      "cell_type": "markdown",
      "metadata": {
        "id": "Prw_sGy-8N8_",
        "colab_type": "text"
      },
      "source": [
        "\n",
        "\n",
        "Installing Geopandas can be a bit complex due to the libraries that it depends on.  See the [Geopandas documentation ](http://geopandas.org/install.html) for help with this process - read it carefully as that will save you many headaches!\n",
        "\n",
        "We will use the [Google Colaboratory](https://colab.research.google.com/notebooks/welcome.ipynb) Jupyter notebook environment for this workshop so that we will all have the same working enviroment.\n",
        "\n",
        "## About Google Colab\n",
        "\n",
        "Google Colab is a freemium (*i.e., extra stuff costs $$*) Jupyter notebook environment that requires no setup and runs entirely in the cloud.\n",
        "\n",
        "- A google account is required!\n",
        "\n",
        "From the browser you can write and execute Python code and save and share your notebooks.\n",
        "\n",
        "You can also install libraries that are not readily available and import local or remote data.\n",
        "\n",
        "- However, the libraries you install and data you import are only available to you temporarily in the Colab environment.\n",
        "\n",
        "### Why we like Colab\n",
        "\n",
        "- It's free for our needs\n",
        "\n",
        "- It's fast\n",
        "\n",
        "- It removes alot of local package install problems so we can get right to work.\n",
        "\n",
        "- It ensures that all workshop participants have the same computing environment.\n",
        "\n",
        "### Learning more\n",
        "\n",
        "To learn more go to the [Welcome to Google Colab](https://colab.research.google.com/notebooks/welcome.ipynb) site.\n",
        "\n",
        "\n",
        "# Getting Started\n",
        "\n",
        "- Login to **Google Collaboratory** at <https://colab.research.google.com/notebooks/welcome.ipynb>\n",
        "\n",
        "- From the **File** menu select **Open Notebook**\n",
        "\n",
        "- Click on the **GitHUB** tab\n",
        "\n",
        "- Insert the URL to this github repo: https://github.com/dlab-berkeley/Geospatial-Fundamentals-in-Python\n",
        "\n",
        "- Then, open the notebook **Geopandas_Intro_Sp2019_GC_may6.ipynb**\n",
        "\n",
        "*If you are warned that this is not a Google notebook, select \"Run anyway\".*\n",
        "\n",
        "\n",
        "\n",
        "## Install Geopandas and dependencies\n",
        "\n",
        "Google Colaboratory comes with a Juypyter notebook environment with the most common Python packages already installed. To import a library that's not installed by default, you can use **!pip install** or **!apt-get install**.\n",
        "\n",
        "<br>\n",
        "\n",
        "To run Geopandas in Google Colab, execute but do not change the code in the following cell. (*The install process we will follow is from [this notebook](https://colab.research.google.com/drive/1tSmJmjD3sTI31Cg1UCIKiE10dBUmWUG7#scrollTo=wHnmdr_QkKec&forceEdit=true&offline=true&sandboxMode=true)*).\n",
        "\n",
        ">**IMPORTANT** -  if you are installing these Python packages on your local computer see [Geopandas documentation ](http://geopandas.org/install.html) . Do not use the code below as this is for the Google Colaboratory environment.\n",
        "\n",
        " If you have your geopandas enviroment installed locally, you can get the data and notebook for this tutorial are in this github repository: https://github.com/dlab-berkeley/Geospatial-Fundamentals-in-Python\n",
        "\n"
      ]
    },
    {
      "cell_type": "code",
      "metadata": {
        "id": "AXNRLO1CixX9",
        "colab_type": "code",
        "colab": {}
      },
      "source": [
        "#######################################################\n",
        "# Code to install geopandas in Google Colaboratory\n",
        "# You need to run this code each time you run this \n",
        "# notebook on Google Colab\n",
        "# Should take about 1.5 minutes.\n",
        "#######################################################\n",
        "%%time \n",
        "!apt update\n",
        "!apt upgrade\n",
        "!apt install gdal-bin python-gdal python3-gdal \n",
        "# Install rtree - Geopandas requirment\n",
        "!apt install python3-rtree\n",
        "# Install pysal\n",
        "!pip install pysal\n",
        "# Install mapclassify\n",
        "!pip install mapclassify\n",
        "# Install Geopandas\n",
        "!pip install git+git://github.com/geopandas/geopandas.git\n",
        "# Install descartes - Geopandas requirment\n",
        "!pip install descartes "
      ],
      "execution_count": 0,
      "outputs": []
    },
    {
      "cell_type": "markdown",
      "metadata": {
        "id": "tsMDwLEu9VEN",
        "colab_type": "text"
      },
      "source": [
        "## Import GeoPandas and Related Libraries\n",
        "\n",
        "Next, import the libraries that we will use.\n"
      ]
    },
    {
      "cell_type": "code",
      "metadata": {
        "id": "nDsSqkTqi6AA",
        "colab_type": "code",
        "colab": {}
      },
      "source": [
        "import pandas as pd\n",
        "import geopandas as gpd\n",
        "import mapclassify\n",
        "import matplotlib.pyplot as plt\n",
        "from shapely.geometry import Point\n"
      ],
      "execution_count": 0,
      "outputs": []
    },
    {
      "cell_type": "markdown",
      "metadata": {
        "id": "9MQ9ppDm90x6",
        "colab_type": "text"
      },
      "source": [
        "## About the Data \n",
        "\n",
        "This tutorial uses historical census data for the USA and the Orleans Territory, most of which is now called Louisiana, that were obtained from the `NHGIS`, or *National Historical Geographic Information System* website ([IPUMS NHGIS, University of Minnesota, www.nhgis.org](https://www.nhgis.org)).  A cartographic boundary file for the United States was obtained from the [US Census website](https://www.census.gov/geo/maps-data/data/tiger-cart-boundary.html).\n",
        "\n",
        "\n",
        "## Fetch the Data with `wget`\n",
        "\n",
        "The data and related notebooks for this tutorial are in this github repository: https://github.com/dlab-geo/geopandas_intro\n",
        "\n",
        "\n",
        "However, to keep things simple in the GC environment we will use the command **wget** to fetch the data frthat repo and store it in the `Google Collabortory` environment for the duration of this session.\n"
      ]
    },
    {
      "cell_type": "code",
      "metadata": {
        "id": "xzw08AFC-Ydk",
        "colab_type": "code",
        "colab": {}
      },
      "source": [
        "!wget 'https://raw.githubusercontent.com/dlab-geo/geopandas_intro/master/data/us_states.zip'\n",
        "!wget 'https://raw.githubusercontent.com/dlab-geo/geopandas_intro/master/data/uscounties_1810.zip'\n",
        "!wget 'https://raw.githubusercontent.com/dlab-geo/geopandas_intro/master/data/orleans_census_data1810.csv'\n",
        "!wget 'https://raw.githubusercontent.com/dlab-geo/geopandas_intro/master/data/lsc_points.csv'\n"
      ],
      "execution_count": 0,
      "outputs": []
    },
    {
      "cell_type": "markdown",
      "metadata": {
        "id": "XlhACIIS_KEU",
        "colab_type": "text"
      },
      "source": [
        "### Take a look at the data files\n",
        "\n",
        "Take a look at the data we will use with the **ls** command (on mac) or the **dir()** command (on windows)."
      ]
    },
    {
      "cell_type": "code",
      "metadata": {
        "id": "E-btYxmG_Z3B",
        "colab_type": "code",
        "colab": {}
      },
      "source": [
        "!ls\n"
      ],
      "execution_count": 0,
      "outputs": []
    },
    {
      "cell_type": "markdown",
      "metadata": {
        "id": "SdohyR8u6Fgt",
        "colab_type": "text"
      },
      "source": [
        "# GeoPandas - Data Structures"
      ]
    },
    {
      "cell_type": "markdown",
      "metadata": {
        "id": "s0VoXbM-_f_Z",
        "colab_type": "text"
      },
      "source": [
        "## Reading in a Spatial Data\n",
        "\n",
        "GeoPandas makes it easy to read in almost any kind of vector data file including the [ESRI Shapefile](https://en.wikipedia.org/wiki/Shapefile) with the [read_file](http://geopandas.org/io.html) command.  You simply put the name of the file in quotes and assign the resulting object to a simple yet informative variable name, here **usa1810**.\n",
        "\n",
        "You can see from the previous cell that the `usa1810` shapefile is compressed in a zipfile. We can load the zipfile directly in Geopandas."
      ]
    },
    {
      "cell_type": "code",
      "metadata": {
        "id": "Vtg8x5F5_kcy",
        "colab_type": "code",
        "colab": {}
      },
      "source": [
        "usa1810 = gpd.read_file(\"zip://./uscounties_1810.zip\")  #US counties in 1810"
      ],
      "execution_count": 0,
      "outputs": []
    },
    {
      "cell_type": "markdown",
      "metadata": {
        "id": "Mv9FRBqUI_r1",
        "colab_type": "text"
      },
      "source": [
        "Now let's take a look at our data."
      ]
    },
    {
      "cell_type": "code",
      "metadata": {
        "id": "VzSnBqTeSoQz",
        "colab_type": "code",
        "colab": {}
      },
      "source": [
        "usa1810.head()"
      ],
      "execution_count": 0,
      "outputs": []
    },
    {
      "cell_type": "markdown",
      "metadata": {
        "id": "l15hbGSgqsBR",
        "colab_type": "text"
      },
      "source": [
        "**Important**: Sometimes geopandas cannot read a zipped shapefile due to its content or the way it was created. If this is the case, unzip it and read it in directly.\n"
      ]
    },
    {
      "cell_type": "code",
      "metadata": {
        "id": "pNWcC-jYqrXL",
        "colab_type": "code",
        "colab": {}
      },
      "source": [
        "# Unzip the shapefile\n",
        "!unzip ./uscounties_1810.zip\n",
        "\n",
        "# Read shapefile into a geopandas geodataframe object.\n",
        "usa1810 = gpd.read_file(\"./uscounties_1810.shp\")  #US counties in 1810"
      ],
      "execution_count": 0,
      "outputs": []
    },
    {
      "cell_type": "markdown",
      "metadata": {
        "id": "21I7f7jYrJvp",
        "colab_type": "text"
      },
      "source": [
        "\n",
        "Take a minute to review the different syntax used above for reading in a zipped vs unzipped shapefile.\n",
        "\n",
        "### Discussion - *what is a Shapefile?*\n"
      ]
    },
    {
      "cell_type": "markdown",
      "metadata": {
        "id": "gzRtuYUUATyO",
        "colab_type": "text"
      },
      "source": [
        "## The Geopandas GeoDataFrame\n",
        "\n",
        "The `gpd.read_file` command returns a geopandas **GeoDataFrame** object.  We can double-check this with the `type` function.\n",
        "\n"
      ]
    },
    {
      "cell_type": "code",
      "metadata": {
        "id": "Z2Atdm9jrqRB",
        "colab_type": "code",
        "colab": {}
      },
      "source": [
        "type(usa1810)"
      ],
      "execution_count": 0,
      "outputs": []
    },
    {
      "cell_type": "markdown",
      "metadata": {
        "id": "L9OZJ1BUr6re",
        "colab_type": "text"
      },
      "source": [
        "The `GeoDataFrame` is a table-like pandas DataFrame with extra geospatial capabilities. First let's take a look at the GeoDataFrame again using the **head** method.\n",
        "\n",
        "- *Do you notice anything different about the GeoDataFrame compared to a regular DataFrame?*"
      ]
    },
    {
      "cell_type": "code",
      "metadata": {
        "id": "UDbIYsYCAqkr",
        "colab_type": "code",
        "colab": {}
      },
      "source": [
        "usa1810.head()"
      ],
      "execution_count": 0,
      "outputs": []
    },
    {
      "cell_type": "markdown",
      "metadata": {
        "colab_type": "text",
        "id": "EQGUWTGAr4B3"
      },
      "source": [
        "Because a GeoDataFrame is a pandas DataFrame you can use all the pandas DataFrame methods with it.  Some examples are shown below.\n"
      ]
    },
    {
      "cell_type": "code",
      "metadata": {
        "id": "wsYaEF_HnRcm",
        "colab_type": "code",
        "colab": {}
      },
      "source": [
        "# How many states or territories did the USA have in 1810?\n",
        "\n",
        "usa1810.STATENAM.nunique()  "
      ],
      "execution_count": 0,
      "outputs": []
    },
    {
      "cell_type": "code",
      "metadata": {
        "id": "sd8X3-iwsPXE",
        "colab_type": "code",
        "colab": {}
      },
      "source": [
        "# What was the total area in square kilometers of the USA in 1810?\n",
        "\n",
        "print(\"The area of the USA in 1810 was %d square meters!\" %  usa1810.SHAPE_AREA.sum())"
      ],
      "execution_count": 0,
      "outputs": []
    },
    {
      "cell_type": "code",
      "metadata": {
        "id": "UUrMqfPW12G5",
        "colab_type": "code",
        "colab": {}
      },
      "source": [
        "# What were the 5 largest states or territories?\n",
        "usa1810[['STATENAM','SHAPE_AREA']].groupby(['STATENAM']).sum().sort_values(['SHAPE_AREA'], ascending=False).head(5)"
      ],
      "execution_count": 0,
      "outputs": []
    },
    {
      "cell_type": "markdown",
      "metadata": {
        "id": "vbDet05HKNmY",
        "colab_type": "text"
      },
      "source": [
        "**Suggestion**: If you don't know pandas we recommend you take an online tutorial or D-Lab workshop to get familiar with its methods for data manipulation and analysis.  That will make it easier for you to get the most out of Geopandas."
      ]
    },
    {
      "cell_type": "markdown",
      "metadata": {
        "id": "HBn1hs4gkNb6",
        "colab_type": "text"
      },
      "source": [
        "### Rename columns\n",
        "\n",
        "Let's rename the county and state name columns to make our work more intuitive moving forward.  We can do this with basic pandas commands."
      ]
    },
    {
      "cell_type": "code",
      "metadata": {
        "id": "xlnEzCxlkk-b",
        "colab_type": "code",
        "colab": {}
      },
      "source": [
        "usa1810.rename(columns={'NHGISNAM' : 'COUNTY', 'STATENAM': 'STATE'}, inplace=True)\n",
        "usa1810.head()"
      ],
      "execution_count": 0,
      "outputs": []
    },
    {
      "cell_type": "markdown",
      "metadata": {
        "id": "zg8sWIrAoFvo",
        "colab_type": "text"
      },
      "source": [
        "The special sauce that Geopandas adds to Pandas is the functionality it provides for working with geographic locations. In what column are these found?"
      ]
    },
    {
      "cell_type": "markdown",
      "metadata": {
        "id": "xn72HHHR9lVO",
        "colab_type": "text"
      },
      "source": [
        "## The Geopandas Geometry Column\n",
        "\n",
        "All Geopandas GeoDataFrames must have one *special* geometry column. This column is named **geometry** by default, but it could be something else. \n",
        "\n",
        "When you read in a spatial data file such as a Shapefile to create a new GeoDataFrame the `geometry` column is automatically created. \n",
        " \n",
        " \n",
        " You can always get the name of your special geometry column:"
      ]
    },
    {
      "cell_type": "code",
      "metadata": {
        "id": "E2VJ3z9254fE",
        "colab_type": "code",
        "colab": {}
      },
      "source": [
        "usa1810.geometry.name"
      ],
      "execution_count": 0,
      "outputs": []
    },
    {
      "cell_type": "markdown",
      "metadata": {
        "id": "kYdHZUJ3Au2e",
        "colab_type": "text"
      },
      "source": [
        "\n",
        "\n",
        "The geometry column is of type **GeoSeries**, taking its name and its base functionality from the pandas series object.   \n",
        "\n",
        "\n",
        "\n"
      ]
    },
    {
      "cell_type": "code",
      "metadata": {
        "id": "orC67h90BDR4",
        "colab_type": "code",
        "colab": {}
      },
      "source": [
        "type(usa1810.geometry)"
      ],
      "execution_count": 0,
      "outputs": []
    },
    {
      "cell_type": "markdown",
      "metadata": {
        "id": "DDK-qd4v9HYZ",
        "colab_type": "text"
      },
      "source": [
        "\n",
        "\n",
        "\n",
        "** Important:** \n",
        "\n",
        "You can rename the special geometry column but if you do  you must update the GeoDataFrame's special geometry attribute using **set_geometry**. \n",
        "\n",
        "> gdf = gdf.rename(columns={'old_name': 'new_name'}, inplace=True).set_geometry('new_name')"
      ]
    },
    {
      "cell_type": "markdown",
      "metadata": {
        "id": "KSzVn1Y_CJgo",
        "colab_type": "text"
      },
      "source": [
        "## Challenge\n",
        "\n",
        "1. Rename the special geometry column **my_geom**  AND reset the value of the special geometry column to this new name using `set_geometry`.\n",
        "1. Then, run the command `usa1810.geometry.name` again to get the name of the special geometry column\n",
        "1. Then rename the column back to `geometry` and reset and test the value for the name of the special geometry column.\n",
        "\n",
        "Note: this is admittedly a bit confusing because the name of the column is `geometry` and it is `the special geometry column`."
      ]
    },
    {
      "cell_type": "code",
      "metadata": {
        "id": "1K38TP2JDlqO",
        "colab_type": "code",
        "colab": {}
      },
      "source": [
        "# Your code here"
      ],
      "execution_count": 0,
      "outputs": []
    },
    {
      "cell_type": "markdown",
      "metadata": {
        "id": "TyaZNIhWDmZe",
        "colab_type": "text"
      },
      "source": [
        "## Challenge - Solution"
      ]
    },
    {
      "cell_type": "code",
      "metadata": {
        "id": "BT1z4Qi2Aarf",
        "colab_type": "code",
        "colab": {}
      },
      "source": [
        "usa1810 = usa1810.rename(columns={'geometry': 'my_geom'}).set_geometry('my_geom')\n",
        "usa1810.head()"
      ],
      "execution_count": 0,
      "outputs": []
    },
    {
      "cell_type": "code",
      "metadata": {
        "id": "gz3h9cGTDLZi",
        "colab_type": "code",
        "colab": {}
      },
      "source": [
        "usa1810.geometry.name"
      ],
      "execution_count": 0,
      "outputs": []
    },
    {
      "cell_type": "code",
      "metadata": {
        "id": "beSK7ieYDAVW",
        "colab_type": "code",
        "colab": {}
      },
      "source": [
        "type(usa1810.geometry)"
      ],
      "execution_count": 0,
      "outputs": []
    },
    {
      "cell_type": "code",
      "metadata": {
        "id": "CVWN41vLAsLF",
        "colab_type": "code",
        "colab": {}
      },
      "source": [
        "usa1810.geometry.name"
      ],
      "execution_count": 0,
      "outputs": []
    },
    {
      "cell_type": "code",
      "metadata": {
        "id": "zg-RMcVuDX4N",
        "colab_type": "code",
        "colab": {}
      },
      "source": [
        "#Reset the special geometry column to geometry\n",
        "usa1810 = usa1810.rename(columns={'my_geom': 'geometry'}).set_geometry('geometry')\n",
        "usa1810.geometry.name"
      ],
      "execution_count": 0,
      "outputs": []
    },
    {
      "cell_type": "code",
      "metadata": {
        "id": "y4rAoIANKxIt",
        "colab_type": "code",
        "colab": {}
      },
      "source": [
        "usa1810.head()"
      ],
      "execution_count": 0,
      "outputs": []
    },
    {
      "cell_type": "markdown",
      "metadata": {
        "id": "YcQuGOaYMFnv",
        "colab_type": "text"
      },
      "source": [
        "## Working with the GeoSeries"
      ]
    },
    {
      "cell_type": "markdown",
      "metadata": {
        "id": "B4s8qJNuHibU",
        "colab_type": "text"
      },
      "source": [
        "A GeoPandas GeoSeries supports three basic types of vector geometries, in [Well-Known Text ](https://en.wikipedia.org/wiki/Well-known_text_representation_of_geometry) format:\n",
        "- Points / MultiPoints\n",
        "    - POINT( -122 38)\n",
        "\n",
        "    - MULTIPOINT((-122 38), (-123 39))\n",
        "    \n",
        "- Lines / MultiLines\n",
        "    - LINE (30 10, 10 30, 40 40)\n",
        "    \n",
        "    - MULTILINE((10 10, 20 20, 10 40),(40 40, 30 30, 40 20, 30 10))\n",
        "    \n",
        "- Polygons / MultiPolygons\n",
        "    - POLYGON ((35 10, 45 45, 15 40, 10 20, 35 10), (20 30, 35 35, 30 20, 20 30))\n",
        "    - MULTIPOLYGON (((30 20, 45 40, 10 40, 30 20)), ((15 5, 40 10, 10 20, 5 10, 15 5)))\n",
        "\n",
        "Notes:\n",
        "- GeoPandas does not support raster geometries - check out the [Rasterio](https://rasterio.readthedocs.io/en/latest/) package for that.\n",
        "- A GeoSeries can contain mixed geometry types but it's not a great idea.\n",
        "\n",
        "</br>\n",
        "Let's check what type(s) are in our GeoDataFrame."
      ]
    },
    {
      "cell_type": "code",
      "metadata": {
        "id": "x-wUsbzcIUTa",
        "colab_type": "code",
        "colab": {}
      },
      "source": [
        "set(usa1810.geom_type)  # set returns unique values"
      ],
      "execution_count": 0,
      "outputs": []
    },
    {
      "cell_type": "markdown",
      "metadata": {
        "id": "5tzC3F-x9yxX",
        "colab_type": "text"
      },
      "source": [
        "Geopandas spatial attributes and methods apply to the special geometry column, even if you do not explicitly reference it.\n",
        "\n",
        "For example, the code in both of the following cells will return the minimum bounding coordinates that contain all geometries in the GeoSeries."
      ]
    },
    {
      "cell_type": "code",
      "metadata": {
        "id": "XeqJ-KGF-Et0",
        "colab_type": "code",
        "colab": {}
      },
      "source": [
        "usa1810.total_bounds"
      ],
      "execution_count": 0,
      "outputs": []
    },
    {
      "cell_type": "code",
      "metadata": {
        "id": "7mHWQWWXMb5T",
        "colab_type": "code",
        "colab": {}
      },
      "source": [
        "usa1810.geometry.total_bounds"
      ],
      "execution_count": 0,
      "outputs": []
    },
    {
      "cell_type": "markdown",
      "metadata": {
        "id": "uhbzLYfE-sgb",
        "colab_type": "text"
      },
      "source": [
        "However, most Geopandas geometry methods and attributes apply to **each** geometry in the Geoseries rather than **all** in the aggregrate. \n",
        "\n",
        "For example, let's use the bounds attribute to see the bounding coordinates of each county in the usa1810 geodataframe."
      ]
    },
    {
      "cell_type": "code",
      "metadata": {
        "id": "hqLv3MTQ-2Bt",
        "colab_type": "code",
        "colab": {}
      },
      "source": [
        "usa1810.bounds.head()"
      ],
      "execution_count": 0,
      "outputs": []
    },
    {
      "cell_type": "markdown",
      "metadata": {
        "id": "qcLojBBABZh7",
        "colab_type": "text"
      },
      "source": [
        "\n",
        "Let's take a look at GeoPandas geometries a bit more closely.\n",
        "\n",
        "First, let's subset the GeoDataFrame to select only the row for the county of New York, New York."
      ]
    },
    {
      "cell_type": "code",
      "metadata": {
        "id": "J5S9mTwYvlC9",
        "colab_type": "code",
        "colab": {}
      },
      "source": [
        "ny_gpd = usa1810[usa1810['COUNTY']=='New York']\n",
        "\n",
        "print(type(ny_gpd))\n",
        "\n",
        "ny_gpd"
      ],
      "execution_count": 0,
      "outputs": []
    },
    {
      "cell_type": "markdown",
      "metadata": {
        "id": "UdshKW9gSG9M",
        "colab_type": "text"
      },
      "source": [
        "Now let's create a GeoSeries from the geometry."
      ]
    },
    {
      "cell_type": "code",
      "metadata": {
        "id": "ta4MeMKxHC7x",
        "colab_type": "code",
        "colab": {}
      },
      "source": [
        "ny_gs = usa1810[usa1810['COUNTY']=='New York'].geometry\n",
        "# or\n",
        "ny_gs = ny_gpd.geometry\n",
        "\n",
        "print(type(ny_gs))\n",
        "\n",
        "ny_gs"
      ],
      "execution_count": 0,
      "outputs": []
    },
    {
      "cell_type": "code",
      "metadata": {
        "id": "sCR3Pt_tWprz",
        "colab_type": "code",
        "colab": {}
      },
      "source": [
        "usa1810[usa1810['COUNTY']=='New York'].geometry.squeeze()"
      ],
      "execution_count": 0,
      "outputs": []
    },
    {
      "cell_type": "markdown",
      "metadata": {
        "id": "-c91wkP-SPMT",
        "colab_type": "text"
      },
      "source": [
        "Finally, let's get the geometry value itself.  \n",
        "\n",
        "To extract a single geometry value from a GeoSeries *with only one row* use the squeeze method."
      ]
    },
    {
      "cell_type": "code",
      "metadata": {
        "id": "Q8Hk9KBuRoRx",
        "colab_type": "code",
        "colab": {}
      },
      "source": [
        "ny_geom = usa1810[usa1810['COUNTY']=='New York'].geometry.squeeze()\n",
        "#or\n",
        "ny_geom = ny_gs.squeeze()\n",
        "\n",
        "print(type(ny_geom))\n",
        "ny_geom"
      ],
      "execution_count": 0,
      "outputs": []
    },
    {
      "cell_type": "markdown",
      "metadata": {
        "id": "q0BZVAb1VktE",
        "colab_type": "text"
      },
      "source": [
        "\n",
        "When you return a single geometry, the object is plotted. To see the data  in  [well-known text](https://en.wikipedia.org/wiki/Well-known_text_representation_of_geometry) format, or WKT,  use the `print` function."
      ]
    },
    {
      "cell_type": "code",
      "metadata": {
        "id": "6MnbXLmcvdIF",
        "colab_type": "code",
        "colab": {}
      },
      "source": [
        "print(ny_geom)"
      ],
      "execution_count": 0,
      "outputs": []
    },
    {
      "cell_type": "markdown",
      "metadata": {
        "id": "KXkjj49qvo5S",
        "colab_type": "text"
      },
      "source": [
        "\n",
        "Squeeze doesn't work on a GeoSeries with more than one element:\n"
      ]
    },
    {
      "cell_type": "code",
      "metadata": {
        "id": "v_7Rz_rJr9nA",
        "colab_type": "code",
        "colab": {}
      },
      "source": [
        "nystate_geom = usa1810[usa1810['STATE']=='New York'].geometry\n",
        "\n",
        "type(nystate_geom)\n",
        "\n",
        "nystate_geom.head()"
      ],
      "execution_count": 0,
      "outputs": []
    },
    {
      "cell_type": "markdown",
      "metadata": {
        "id": "yxh6soCFT7pD",
        "colab_type": "text"
      },
      "source": [
        "You would need to extract each geometry by row index."
      ]
    },
    {
      "cell_type": "code",
      "metadata": {
        "id": "aA-C7M4vILUt",
        "colab_type": "code",
        "colab": {}
      },
      "source": [
        "nystate_geom[414]"
      ],
      "execution_count": 0,
      "outputs": []
    },
    {
      "cell_type": "markdown",
      "metadata": {
        "id": "jzIzy925mff9",
        "colab_type": "text"
      },
      "source": [
        "We will look at methods for plotting Geopandas geometries in the next section."
      ]
    },
    {
      "cell_type": "markdown",
      "metadata": {
        "id": "9Pd-2mupfJ4r",
        "colab_type": "text"
      },
      "source": [
        "## Summary\n",
        "\n",
        "GeoPandas has attributes and methods for **GeoDataFrames**, **GeoSeries** and **geometry** objects.\n",
        "\n",
        "The geometry column returns a GeoSeries even if only one row is requested. But many operations in GeoPandas only work on the geometry value and not the GeoSeries object.\n",
        "\n",
        "As you work with GeoPandas and read through the [online documentation](http://geopandas.org) keep in mind which type of object you are working with and what type is required as input to a method or returned by a specific method or attribute.\n",
        "\n",
        "\n"
      ]
    },
    {
      "cell_type": "markdown",
      "metadata": {
        "id": "qvA7Od2i8ZcQ",
        "colab_type": "text"
      },
      "source": [
        "# Mapping GeoDataFrames"
      ]
    },
    {
      "cell_type": "markdown",
      "metadata": {
        "id": "p5XrboksEbYO",
        "colab_type": "text"
      },
      "source": [
        "\n",
        "One of the first things to do with geographic data once you read it into GeoPandas is visualize it.\n",
        "\n",
        "We can use the GeoPandas **plot** method to display the data in a GeoDataFrame or GeoSeries. This uses `matplotlib` and the matplotlib `pyplot` module under the hood."
      ]
    },
    {
      "cell_type": "code",
      "metadata": {
        "id": "n_h2zxUTEg-_",
        "colab_type": "code",
        "colab": {}
      },
      "source": [
        "# Plot a GeoDataFrame\n",
        "usa1810.plot()  # it's really that simple!"
      ],
      "execution_count": 0,
      "outputs": []
    },
    {
      "cell_type": "markdown",
      "metadata": {
        "id": "ZWRNmvNqhJkN",
        "colab_type": "text"
      },
      "source": [
        "We can also plot a subset of the geodataframe."
      ]
    },
    {
      "cell_type": "code",
      "metadata": {
        "id": "cMXf0R8CJl-b",
        "colab_type": "code",
        "colab": {}
      },
      "source": [
        "# Plot all the 1810 counties in New York state\n",
        "usa1810[usa1810['STATE']=='New York'].plot()"
      ],
      "execution_count": 0,
      "outputs": []
    },
    {
      "cell_type": "markdown",
      "metadata": {
        "id": "1a7WuS-khTOw",
        "colab_type": "text"
      },
      "source": [
        "And we can plot a geoseries with plot()"
      ]
    },
    {
      "cell_type": "code",
      "metadata": {
        "id": "Vdf0xbXQb6BK",
        "colab_type": "code",
        "colab": {}
      },
      "source": [
        "# plot the geometry geoseries\n",
        "usa1810[usa1810['STATE']=='New York'].geometry.plot()"
      ],
      "execution_count": 0,
      "outputs": []
    },
    {
      "cell_type": "markdown",
      "metadata": {
        "id": "8RtVjNTuEm60",
        "colab_type": "text"
      },
      "source": [
        "Pretty cool to be able to make a map with a single command. However, there is always room for improvement. You can find out more about the plotting options for basic maps in the geopandas documentation and in the [matplotlib](https://matplotlib.org/) documentation.\n",
        "\n",
        "</br>\n",
        "\n",
        "For now, let's use some options to make a prettier map. Take a minute to consider what each option does."
      ]
    },
    {
      "cell_type": "code",
      "metadata": {
        "id": "Ho1eyzbQEpCk",
        "colab_type": "code",
        "colab": {}
      },
      "source": [
        "usa1810.plot(linewidth=0.5, edgecolor='grey', facecolor='pink',  figsize=(14,10) )\n",
        "plt.show()"
      ],
      "execution_count": 0,
      "outputs": []
    },
    {
      "cell_type": "markdown",
      "metadata": {
        "id": "O5KT2kwqj4Jz",
        "colab_type": "text"
      },
      "source": [
        "When you have time, take a look at the method documentation for **plot** to see all of the available options.\n"
      ]
    },
    {
      "cell_type": "code",
      "metadata": {
        "id": "Vu9AR8rAjmuT",
        "colab_type": "code",
        "colab": {}
      },
      "source": [
        "#gpd.GeoDataFrame.plot?\n",
        "#gpd.GeoSeries.plot?"
      ],
      "execution_count": 0,
      "outputs": []
    },
    {
      "cell_type": "markdown",
      "metadata": {
        "id": "AvpwpNkMbgS0",
        "colab_type": "text"
      },
      "source": [
        "## Question\n",
        "\n",
        "Can you think of why the options for plotting a GeoDataFrame are different from those for a GeoSeries?"
      ]
    },
    {
      "cell_type": "markdown",
      "metadata": {
        "id": "pK7G8Qg4E09x",
        "colab_type": "text"
      },
      "source": [
        "## Challenge\n",
        "\n",
        "Let's take a few minutes to practice some of what we have done so far with a different data set.\n",
        "\n",
        "- Read the file **us_states.zip** into a geopandas dataframe named **usa**.\n",
        "- Take a look at the data in this dataframe using `head`.\n",
        "- Then, make a map of the `usa`, \n",
        "    - setting the `figsize` to (14,10)\n",
        "    - the fill color to green,\n",
        "    - and the outline color to white"
      ]
    },
    {
      "cell_type": "code",
      "metadata": {
        "id": "oq3Oehm-dkal",
        "colab_type": "code",
        "colab": {}
      },
      "source": [
        "# your code here to load the data from the zip file into a geodataframe\n"
      ],
      "execution_count": 0,
      "outputs": []
    },
    {
      "cell_type": "code",
      "metadata": {
        "id": "kozgQ9EodqoM",
        "colab_type": "code",
        "colab": {}
      },
      "source": [
        "# your code here to plot the geodataframe"
      ],
      "execution_count": 0,
      "outputs": []
    },
    {
      "cell_type": "markdown",
      "metadata": {
        "id": "tjyHAq-TdvYd",
        "colab_type": "text"
      },
      "source": [
        "## Challenge - solution"
      ]
    },
    {
      "cell_type": "code",
      "metadata": {
        "id": "6RzDSyYeEpN2",
        "colab_type": "code",
        "colab": {}
      },
      "source": [
        "usa = gpd.read_file('zip://./us_states.zip')\n",
        "usa.head()"
      ],
      "execution_count": 0,
      "outputs": []
    },
    {
      "cell_type": "code",
      "metadata": {
        "id": "tKIhB9lEEpRQ",
        "colab_type": "code",
        "colab": {}
      },
      "source": [
        "usa.plot(linewidth=0.25, edgecolor='white', facecolor='green',figsize=(14,10))"
      ],
      "execution_count": 0,
      "outputs": []
    },
    {
      "cell_type": "markdown",
      "metadata": {
        "id": "8xaQfqPsGRvj",
        "colab_type": "text"
      },
      "source": [
        "## Spatial Subsetting\n",
        "\n",
        "It's never easy to make a nice map of the entire US. Why is that? \n",
        "\n",
        "We can zoom in on the contiguous USA by spatially subsetting the data using the GeoPandas **cx** method.  This method takes the form:\n",
        ">usa1810.cx[xmin:xmax, ymin:ymax]\n",
        "\n",
        ">where:\n",
        "- **xmin** is the minimum X coordinate value\n",
        "- **xmax** is the maximum X coordinate value \n",
        "- **ymin** is the minimum Y coordinate value\n",
        "- **ymax** is the maximum Y coordinate value \n",
        "\n",
        "Since our date use geographic coordinates, X values are decimal degrees `longitude` and Y values are in decimal degrees `latitude`.\n",
        "\n",
        "Let's give it a try."
      ]
    },
    {
      "cell_type": "code",
      "metadata": {
        "id": "VxOHyxAuEpU2",
        "colab_type": "code",
        "colab": {}
      },
      "source": [
        "usa.cx[-130:-80, 25:45].plot(linewidth=0.25, edgecolor='white', facecolor='green',figsize=(14,10))"
      ],
      "execution_count": 0,
      "outputs": []
    },
    {
      "cell_type": "markdown",
      "metadata": {
        "id": "TQbIxIiAzhBH",
        "colab_type": "text"
      },
      "source": [
        "## Questions\n",
        "\n",
        "How did that last map turn out?\n",
        "\n",
        "What exactly is **cx** doing?  Let's explore it a bit more. \n",
        "\n",
        "- Change the minimum Y value to 30 and then 35. Do Texas and Florida get clipped?\n",
        "\n",
        "Take a second to uncomment the command below and read the documentation for `cx`. Then update the values in the previous code cell to get all states."
      ]
    },
    {
      "cell_type": "code",
      "metadata": {
        "id": "mh7Gg21VhvT2",
        "colab_type": "code",
        "colab": {}
      },
      "source": [
        "#usa.cx?"
      ],
      "execution_count": 0,
      "outputs": []
    },
    {
      "cell_type": "markdown",
      "metadata": {
        "id": "ipP-pBxYGzuV",
        "colab_type": "text"
      },
      "source": [
        "### Saving a spatial subset\n",
        "\n",
        "We can make that subset permanent."
      ]
    },
    {
      "cell_type": "code",
      "metadata": {
        "id": "sxi20V4WEpXt",
        "colab_type": "code",
        "colab": {}
      },
      "source": [
        "# FYI: conus is shorthand for contiguous USA\n",
        "conus= usa.cx[-130:-50, 20:50].reset_index(drop=True)\n",
        "conus.head()"
      ],
      "execution_count": 0,
      "outputs": []
    },
    {
      "cell_type": "code",
      "metadata": {
        "id": "Cr2L3vlZEpbn",
        "colab_type": "code",
        "colab": {}
      },
      "source": [
        "# Plot the subset\n",
        "conus.plot()"
      ],
      "execution_count": 0,
      "outputs": []
    },
    {
      "cell_type": "code",
      "metadata": {
        "id": "ajb7pIahZlCl",
        "colab_type": "code",
        "colab": {}
      },
      "source": [
        "conus.STATE.nunique()"
      ],
      "execution_count": 0,
      "outputs": []
    },
    {
      "cell_type": "markdown",
      "metadata": {
        "id": "0FbJnHvUh62o",
        "colab_type": "text"
      },
      "source": [
        "## *Any questions?*\n",
        "\n",
        "\n",
        "\n",
        "---\n",
        "\n"
      ]
    },
    {
      "cell_type": "markdown",
      "metadata": {
        "id": "Vt6rItke5ib-",
        "colab_type": "text"
      },
      "source": [
        "## Map Overlays"
      ]
    },
    {
      "cell_type": "markdown",
      "metadata": {
        "id": "tuNsnmxjIFBx",
        "colab_type": "text"
      },
      "source": [
        "\n",
        "\n",
        "A key strength of geospatial data analysis is the ability to overlay data that are located in the same coordinate space. Let's overlay the USA in 1810 on top of the USA in 2017 to visualize the change. Both of these data sets use the same coordinate reference system -  decimal degrees of latitude and longitude referenced to the **World Geodetic System of 1984**, or **WGS84** coordinate reference system (more about that in a minute).\n",
        "\n",
        "We will explore two methods for doing this, as shown in the [GeoPandas documentation](http://geopandas.org/mapping.html)\n",
        "\n",
        "The general process is as follows:\n",
        "\n",
        "- First identify your base map - the layer to draw first, or at the bottom of the stack of layers.\n",
        "- Then you add the next layer, referencing the base map as the **ax**. "
      ]
    },
    {
      "cell_type": "code",
      "metadata": {
        "id": "LUdK6maEHnKw",
        "colab_type": "code",
        "colab": {}
      },
      "source": [
        "# Map the us states with the 1810 states and territories overlayed.\n",
        "base = conus.plot(color='white', edgecolor='black',  figsize=(14,10))\n",
        "usa1810.plot(ax=base, color=\"blue\", edgecolor=\"blue\")"
      ],
      "execution_count": 0,
      "outputs": []
    },
    {
      "cell_type": "markdown",
      "metadata": {
        "id": "WzHXMCtj2W3z",
        "colab_type": "text"
      },
      "source": [
        "We can add even more layers. These will draw in the order that you add them. Consider the following code."
      ]
    },
    {
      "cell_type": "code",
      "metadata": {
        "id": "Jf2APX2e2ele",
        "colab_type": "code",
        "colab": {}
      },
      "source": [
        "base = usa1810.plot(facecolor=\"blue\", edgecolor=\"blue\",  figsize=(14,10))\n",
        "conus.plot(ax=base, color='None', edgecolor='black')\n",
        "conus.centroid.plot(ax=base, color=\"red\")  # Hey - what's happening here?"
      ],
      "execution_count": 0,
      "outputs": []
    },
    {
      "cell_type": "markdown",
      "metadata": {
        "id": "ZGrQ7ZyJ2nJn",
        "colab_type": "text"
      },
      "source": [
        "What's different in the code for the previous two maps?\n",
        "\n",
        "</br>\n",
        "\n",
        "We can get even fancier with our maps by using the more **matplotlib** options. To access these you need to import mapplotlib."
      ]
    },
    {
      "cell_type": "code",
      "metadata": {
        "id": "cF1ScoOCHnNu",
        "colab_type": "code",
        "colab": {}
      },
      "source": [
        "# Mapping with advanced matplotlib settings\n",
        "\n",
        "fig, ax = plt.subplots(1, figsize=(14,10))  # Initialize the plot figure (drawing area) and axes (data area)\n",
        "\n",
        "ax.set_aspect('equal')   # set the aspect ratio for the x and y axes to be equal. \n",
        "                         # This is done automatically in gdf.plot()\n",
        "    \n",
        "base = usa1810.plot(ax=ax, color='black', edgecolor='black')  # Set the base map, or bottom map layer\n",
        "\n",
        "conus.plot(ax=base, color='None', edgecolor=\"blue\")  # draw the data with the base\n",
        "_ = ax.axis('off') # Don't show the x, y axes and labels in the plot\n",
        "ax.set_title(\"USA 1810 and 2017\")  # Give the plot a title\n",
        "\n",
        "plt.show()"
      ],
      "execution_count": 0,
      "outputs": []
    },
    {
      "cell_type": "markdown",
      "metadata": {
        "id": "v3mByhvIJAs1",
        "colab_type": "text"
      },
      "source": [
        "## Questions?\n",
        "\n",
        "Many folks, myself included, scratch their head and copy matplotlib code, amazed and mystified when it works. Gradually it sinks in!"
      ]
    },
    {
      "cell_type": "markdown",
      "metadata": {
        "id": "fLoAaUQi5b6q",
        "colab_type": "text"
      },
      "source": [
        "# Coordinate Reference Systems (CRS) "
      ]
    },
    {
      "cell_type": "markdown",
      "metadata": {
        "id": "DwQ_vmSYKBrW",
        "colab_type": "text"
      },
      "source": [
        "\n",
        "\n",
        "Did you notice anything funny about the **shape** of the USA as mapped above?  How does it differ from the shape of the US in the map below?\n",
        "<img src=\"https://upload.wikimedia.org/wikipedia/commons/thumb/a/a5/Map_of_USA_with_state_names.svg/640px-Map_of_USA_with_state_names.svg.png\" width=\"800px\"></img>\n"
      ]
    },
    {
      "cell_type": "markdown",
      "metadata": {
        "id": "KzcIXykqi_ZE",
        "colab_type": "text"
      },
      "source": [
        "#### Why does the shape differ? \n",
        "\n",
        "Here's why:\n",
        "\n",
        "<img src=\"http://tse3.mm.bing.net/th?id=OIP.lyDmHXX9VdoEOWDQlqppSAHaEy\" width=\"500px\"></img>\n",
        "\n",
        "When we map data encoded with a spheriodal coordinates (longitude & latitude) on a 2D plane like a computer screen we get distortion!\n",
        "\n",
        "## Map Projections and CRS Transformations\n",
        "\n",
        "In order to reduce distortion in maps we apply a map projection (math) to transform 3D geographic coordinates to 2D projected map coordinates.\n",
        "<img src=\"https://www.e-education.psu.edu/natureofgeoinfo/sites/www.e-education.psu.edu.natureofgeoinfo/files/image/projection.gif\"></img>\n",
        "\n",
        "\n",
        "CRS transformations are often necessary for geopandas geometric operations like area and distance calculations which assume a 2D plane.\n",
        "\n",
        "## Defining and Transforming a CRS\n",
        "The process for transforming a CRS is:\n",
        "\n",
        "1. Make sure a **crs** is defined for the geopandas dataframe by checking the **crs** property. \n",
        "2. If it is not set, you can **define** it.\n",
        "3. Transform the coordinate geometry to a new CRS using the **to_crs** method.\n",
        "- This returns a new geodataframe with the new coordinate values and CRS.\n",
        "- You need to know what CRS to use!!"
      ]
    },
    {
      "cell_type": "markdown",
      "metadata": {
        "id": "0xcwGACJjM1F",
        "colab_type": "text"
      },
      "source": [
        "Let's check the CRS of our GeoDataFrames"
      ]
    },
    {
      "cell_type": "code",
      "metadata": {
        "id": "LxEoyB0ljLF8",
        "colab_type": "code",
        "colab": {}
      },
      "source": [
        "# Check the CRS of our gdfs\n",
        "print(\"The CRS of the conus geodata frame is: \" + str(conus.crs))\n",
        "print(\"The CRS of the usa1810 geodata frame is: \" + str(usa1810.crs))"
      ],
      "execution_count": 0,
      "outputs": []
    },
    {
      "cell_type": "markdown",
      "metadata": {
        "id": "mSAsiSNwjTV0",
        "colab_type": "text"
      },
      "source": [
        "What's an **epsg:4326**?  That's an [EPSG](http://www.epsg.org/) code for the geographic CRS known as the [World Geodectic System of 1984](https://en.wikipedia.org/wiki/World_Geodetic_System#WGS84), or `WGS84`. This is the most commonly used CRS for latitude and longitude coordinate data and is the default CRS for most mapping software when the data does not have a defined CRS.\n",
        "\n",
        "We can make our map look better by transforming it to a 2D projected `CRS`. A projected CRS applies a mathematical transformation to the data based on a [map projection](https://en.wikipedia.org/wiki/Map_projection)\n",
        "\n",
        "Common map projections for USA data and their EPSG codes include:\n",
        "\n",
        "- **Web Mercator** (epsg:3857)\n",
        "- **USA Contiguous Albers Equal Area** (epsg:5070)\n",
        "\n",
        "Let's try these with our geodataframe.\n",
        "\n",
        "First, let's transform the CRS of the **conus** geodataframe to Web Mercator. The **to_crs** method will return a new geododataframe."
      ]
    },
    {
      "cell_type": "code",
      "metadata": {
        "id": "COGBFQJejbit",
        "colab_type": "code",
        "colab": {}
      },
      "source": [
        "# Transform geographic crs to web mercator - 3857\n",
        "conus_3857 = conus.to_crs(epsg=3857)\n",
        "conus_3857.plot()"
      ],
      "execution_count": 0,
      "outputs": []
    },
    {
      "cell_type": "markdown",
      "metadata": {
        "id": "_5-rETLyLSO4",
        "colab_type": "text"
      },
      "source": [
        "## Challenge\n",
        "\n",
        "Now you try it! Transform the **conus** geodataframe to one that uses the **USA Contiguous Albers CRS** (7603).\n",
        "\n",
        "Then, display the output geodataframe."
      ]
    },
    {
      "cell_type": "code",
      "metadata": {
        "id": "sEgy2JKvLcDf",
        "colab_type": "code",
        "colab": {}
      },
      "source": [
        "# Your code here\n"
      ],
      "execution_count": 0,
      "outputs": []
    },
    {
      "cell_type": "markdown",
      "metadata": {
        "id": "eFv_9q3VZnNU",
        "colab_type": "text"
      },
      "source": [
        "## Challenge Solution"
      ]
    },
    {
      "cell_type": "code",
      "metadata": {
        "id": "yKFhrrIgZqrd",
        "colab_type": "code",
        "colab": {}
      },
      "source": [
        "# Transform the conus geodataframe to USA Albers (7603)\n",
        "conus_5070 = conus.to_crs(epsg=5070)\n",
        "conus_5070.plot()"
      ],
      "execution_count": 0,
      "outputs": []
    },
    {
      "cell_type": "markdown",
      "metadata": {
        "id": "xAMrQznnLSEo",
        "colab_type": "text"
      },
      "source": [
        "## Multiplots\n",
        "\n",
        "Let's plot all the data in all 3 CRS together."
      ]
    },
    {
      "cell_type": "code",
      "metadata": {
        "id": "iEtkSgn5LPEa",
        "colab_type": "code",
        "colab": {}
      },
      "source": [
        "fig, ax = plt.subplots(ncols=3, figsize=(18,4), subplot_kw=dict(aspect='equal'))\n",
        "# Don't show the coordinate axis\n",
        "ax[0].axis('off')\n",
        "ax[1].axis('off')\n",
        "ax[2].axis('off')\n",
        "# Show a title\n",
        "ax[0].set_title('Geographic, unprojected (4326)')\n",
        "ax[1].set_title('Web Mercator (3857)')\n",
        "ax[2].set_title('Albers EA (5070)')\n",
        "# display\n",
        "conus.plot(ax=ax[0])\n",
        "conus_3857.plot(ax=ax[1])\n",
        "conus_5070.plot(ax=ax[2])\n",
        "plt.show()"
      ],
      "execution_count": 0,
      "outputs": []
    },
    {
      "cell_type": "markdown",
      "metadata": {
        "id": "mJWUtmczL9fN",
        "colab_type": "text"
      },
      "source": [
        "You can see we get very different maps of the USA depending on the CRS. \n",
        "\n",
        "- Geographic coordinates (EPSG 4326) are often used by default when the source data have this CRS. But it shouldn't be used for maps of large areas and is rarely used for spatial analysis.\n",
        "\n",
        "- Web Mercator is often used for making maps of large geographic extents between +-60 degrees because it preserves shape. This is the CRS used by most online maps like Google Maps. BUT BEWARE - area distortion increases as you move away from equator and towards the poles.  Don't use this CRS for spatial analysis.\n",
        "\n",
        "- USA Contiguous Albers is used for the maps and area based analysis for the contiguous USA.  For areas within the USA you should use a CRS that is more customized to a specific state or region.\n",
        "\n",
        "### Important Notes\n",
        "\n",
        "1. Data usually need to be in the same CRS in order to be mapped or analyzed together.\n",
        "2. The units of a CRS are part of the CRS definition. These are typically decimal degrees for geographic (lat/lon) data and meters or feet for projected data.\n",
        "3. It's not obvious what the best projected CRS is for your map or analysis. You need to review the recent literature (as these things change) and try different ones.  Here is a good starting place, [epsg.io](http://epsg.io/).\n",
        "\n",
        "\n",
        "> A detailed discussion CRS and map projections is beyond the scope of this notebook. Understanding these, however, is **necessary** for working sucessfully with geospatial data! There are a number of online resources that can be found with a web search to help you get started.  Gaining this understanding takes time so be kind to yourself and ask for help if you need it."
      ]
    },
    {
      "cell_type": "markdown",
      "metadata": {
        "id": "4nJQVGVzZ7ON",
        "colab_type": "text"
      },
      "source": [
        "## Any Questions?\n",
        "\n",
        "\n",
        "---\n",
        "\n"
      ]
    },
    {
      "cell_type": "markdown",
      "metadata": {
        "id": "TtxfjSO070yG",
        "colab_type": "text"
      },
      "source": [
        "# Spatial Measurements"
      ]
    },
    {
      "cell_type": "markdown",
      "metadata": {
        "id": "-s5tSCGVMDwm",
        "colab_type": "text"
      },
      "source": [
        "\n",
        "\n",
        "Geopandas uses the  [Shapely library](https://shapely.readthedocs.io/en/stable/manual.html) to compute spatial measurements like area and length for individual geometries or all the geometries in a geoseries.  The available measurements depend on the geometry type. For example, we can compute area and perimeter for polygons, length for lines, and distances between points.  Read the GeoPandas and Shapely documentation to get a sense of all the meausurements you can compute.\n",
        "\n",
        "### Calculating Area\n",
        "\n",
        "Let's compute the area of a single geometry in a geodataframe."
      ]
    },
    {
      "cell_type": "code",
      "metadata": {
        "id": "-M4mxtCDWw08",
        "colab_type": "code",
        "colab": {}
      },
      "source": [
        "conus[conus['STATE']=='Utah'].area  "
      ],
      "execution_count": 0,
      "outputs": []
    },
    {
      "cell_type": "markdown",
      "metadata": {
        "id": "kCGTAlbpNrMp",
        "colab_type": "text"
      },
      "source": [
        "Above **aea** returns a pandas series.  You can use *squeeze* to return just the value when the geoseries only has one element.\n"
      ]
    },
    {
      "cell_type": "code",
      "metadata": {
        "id": "9GUYjVc1ntlV",
        "colab_type": "code",
        "colab": {}
      },
      "source": [
        "conus[conus['STATE']=='Utah'].area.squeeze()"
      ],
      "execution_count": 0,
      "outputs": []
    },
    {
      "cell_type": "markdown",
      "metadata": {
        "id": "qgEzhNIuzf_c",
        "colab_type": "text"
      },
      "source": [
        "**Question**  - What are the units for the above area value?"
      ]
    },
    {
      "cell_type": "markdown",
      "metadata": {
        "id": "c3t2CrqmN_sz",
        "colab_type": "text"
      },
      "source": [
        "It doesn't make sense to compute spatial measurements using geographic coordinates. We will address that in a minute. For now let's focus on the measurement methods."
      ]
    },
    {
      "cell_type": "markdown",
      "metadata": {
        "id": "prrLF_3AXIss",
        "colab_type": "text"
      },
      "source": [
        "We can compute the area of all geometries in the geodataframe."
      ]
    },
    {
      "cell_type": "code",
      "metadata": {
        "id": "3JH5F3Y9XHs2",
        "colab_type": "code",
        "colab": {}
      },
      "source": [
        "#conus.geometry.area\n",
        "conus.area"
      ],
      "execution_count": 0,
      "outputs": []
    },
    {
      "cell_type": "markdown",
      "metadata": {
        "id": "wzPdw_cXuGhm",
        "colab_type": "text"
      },
      "source": [
        "Above, we dynamically calculated area. But we can also append it to the geodataframe."
      ]
    },
    {
      "cell_type": "code",
      "metadata": {
        "id": "70FHwbIIXp2p",
        "colab_type": "code",
        "colab": {}
      },
      "source": [
        "# Update the dataframe\n",
        "conus['area'] = conus.area\n",
        "conus.head(15)"
      ],
      "execution_count": 0,
      "outputs": []
    },
    {
      "cell_type": "markdown",
      "metadata": {
        "id": "5kAuH-2DXwu6",
        "colab_type": "text"
      },
      "source": [
        "### Calculating Length or Perimeter\n",
        "\n",
        "Similarly we can calculate the perimeter of one or all state polygons."
      ]
    },
    {
      "cell_type": "code",
      "metadata": {
        "id": "PN9FraL-XwJ8",
        "colab_type": "code",
        "colab": {}
      },
      "source": [
        "# Perimeter of the state of Montana\n",
        "conus[conus['STATE']=='Utah'].length\n",
        "\n",
        "# Perimeter of all states in the continental USA\n",
        "# conus.length"
      ],
      "execution_count": 0,
      "outputs": []
    },
    {
      "cell_type": "markdown",
      "metadata": {
        "colab_type": "text",
        "id": "oMYJjUv9z_4q"
      },
      "source": [
        "### Calculating Distance\n",
        "We can also compute the shortest distance between individual geometries."
      ]
    },
    {
      "cell_type": "code",
      "metadata": {
        "id": "Sg7-6NCeYHnP",
        "colab_type": "code",
        "colab": {}
      },
      "source": [
        "conus[conus['STATE']=='Washington'].squeeze().geometry.distance(conus[conus['STATE']=='California'].squeeze().geometry)"
      ],
      "execution_count": 0,
      "outputs": []
    },
    {
      "cell_type": "markdown",
      "metadata": {
        "id": "WDfsWkuSbwOk",
        "colab_type": "text"
      },
      "source": [
        "## Spatial Measurements and CRSs\n",
        "\n",
        "The output of spatial measurements depend on the CRS and is expressed in the units of the CRS. The Shapely library assumes a two dimensional planar coordinate system and makes no transformation on the data - that is left for the analyst.\n",
        "\n",
        "> **Don't use geographic coordinates for GeoPandas spatial measurement queries. The results in decimal degrees are meaningless!**\n",
        "\n",
        "Let's compare the output of the area calculations using the different CRSs.\n",
        "\n"
      ]
    },
    {
      "cell_type": "code",
      "metadata": {
        "id": "WkCow2lELPHW",
        "colab_type": "code",
        "colab": {}
      },
      "source": [
        "print(\"Area of the State of Utah:\")\n",
        "print(\"- CRS Web Mercator: %.2f square KM\" % (conus_3857[conus_3857['STATE']=='Utah'].geometry.area / (1000*1000) ))\n",
        "print(\"- CRS Albers: %.2f square KM\" % (conus_5070[conus_5070['STATE']=='Utah'].area / (1000 * 1000)) )"
      ],
      "execution_count": 0,
      "outputs": []
    },
    {
      "cell_type": "markdown",
      "metadata": {
        "id": "IRfnDawhV4p1",
        "colab_type": "text"
      },
      "source": [
        "**Question**\n",
        "\n",
        "Which CRS returns the (most) correct value for the area of Utah? Check [Wikipedia](https://en.wikipedia.org/wiki/Utah)...\n",
        "\n",
        "*Discussion*\n"
      ]
    },
    {
      "cell_type": "markdown",
      "metadata": {
        "id": "F_DwdZWscjia",
        "colab_type": "text"
      },
      "source": [
        "## CRSs and Distance Calculations\n",
        "\n",
        "Let's compute the distance between Washington & California using the Web Mercator and Albers CRSs.\n",
        "\n",
        "- *Note you need to extract the geometry value using **squeeze** for the following distance calculation*"
      ]
    },
    {
      "cell_type": "code",
      "metadata": {
        "id": "TW0hvht2LPNg",
        "colab_type": "code",
        "colab": {}
      },
      "source": [
        "# Your code here\n",
        "wm_dist_m = conus_3857[conus_3857['STATE']=='Washington'].squeeze().geometry.distance(conus_3857[conus_3857['STATE']=='California'].squeeze().geometry)\n",
        "wm_dist_km = wm_dist_m / 1000\n",
        "print(\"web mercator dist KM:\", wm_dist_km)\n",
        "#\n",
        "al_dist_m = conus_5070[conus_5070['STATE']=='Washington'].squeeze().geometry.distance(conus_5070[conus_5070['STATE']=='California'].squeeze().geometry)\n",
        "al_dist_km = al_dist_m / 1000\n",
        "print(\"Albers dist KM:\", al_dist_km)\n"
      ],
      "execution_count": 0,
      "outputs": []
    },
    {
      "cell_type": "markdown",
      "metadata": {
        "id": "27ZV3xrU1xJR",
        "colab_type": "text"
      },
      "source": [
        " ## Question\n",
        " \n",
        " Which of the above CRSs returned the best result?  Let's check it in [Google Maps](http://maps.google.com) to find out."
      ]
    },
    {
      "cell_type": "markdown",
      "metadata": {
        "id": "_lmaumH-5zkD",
        "colab_type": "text"
      },
      "source": [
        "## Any Questions?\n",
        "\n",
        "\n",
        "---\n",
        "\n"
      ]
    },
    {
      "cell_type": "markdown",
      "metadata": {
        "id": "BNd8WC5c5TZT",
        "colab_type": "text"
      },
      "source": [
        "# Spatial Relationship Queries\n"
      ]
    },
    {
      "cell_type": "markdown",
      "metadata": {
        "id": "GBP2Co-TutCH",
        "colab_type": "text"
      },
      "source": [
        "\n",
        "[Spatial relationship queries](https://en.wikipedia.org/wiki/Spatial_relation) consider how two geometries or sets of geometries relate to one another in space. Fortunately, these don't depend on the CRS of the data.\n",
        "\n",
        "<img src=\"https://upload.wikimedia.org/wikipedia/commons/5/55/TopologicSpatialRelarions2.png\" height=\"400px\"></img>\n"
      ]
    },
    {
      "cell_type": "markdown",
      "metadata": {
        "id": "MZZ35LpB9YhQ",
        "colab_type": "text"
      },
      "source": [
        "Let's consider some spatial relationship queries between individual geometries and geopandas geodataframes / geoseries.\n",
        "\n",
        "To start, let's create  geometry objects that represent Louisiana and the Parish of Pointe Coupee."
      ]
    },
    {
      "cell_type": "code",
      "metadata": {
        "id": "Hsy7DtBLF1x_",
        "colab_type": "code",
        "colab": {}
      },
      "source": [
        "# Louisiana today\n",
        "la_poly = conus[conus['STATE']=='Louisiana'].geometry.squeeze()\n",
        "la_poly"
      ],
      "execution_count": 0,
      "outputs": []
    },
    {
      "cell_type": "code",
      "metadata": {
        "id": "pG_Sqlj45nm1",
        "colab_type": "code",
        "colab": {}
      },
      "source": [
        "# The Parish (county) of Pointe Coupee Louisiana in 1810\n",
        "ptcoupee_poly = usa1810[usa1810['COUNTY']=='Pointe Coupee'].geometry.squeeze()\n",
        "ptcoupee_poly\n",
        "\n"
      ],
      "execution_count": 0,
      "outputs": []
    },
    {
      "cell_type": "code",
      "metadata": {
        "id": "M6Ixlfhh-v-l",
        "colab_type": "code",
        "colab": {}
      },
      "source": [
        "# A Point representation of the center point (centroid) of Pointe Coupee Louisiana in 1810\n",
        "ptcoupee_pt = usa1810[usa1810['COUNTY']=='Pointe Coupee'].geometry.centroid.squeeze()\n",
        "ptcoupee_pt"
      ],
      "execution_count": 0,
      "outputs": []
    },
    {
      "cell_type": "code",
      "metadata": {
        "id": "yrLbCcWIAtf4",
        "colab_type": "code",
        "colab": {}
      },
      "source": [
        "# The Orleans Territory in 1810\n",
        "orleans_poly = usa1810[usa1810['STATE']=='Orleans Territory'].geometry.squeeze()\n",
        "orleans_poly\n"
      ],
      "execution_count": 0,
      "outputs": []
    },
    {
      "cell_type": "markdown",
      "metadata": {
        "id": "I4bkjnEZKFMn",
        "colab_type": "text"
      },
      "source": [
        "Above, we get a geoseries for Orleans Territory instead of a geometry because the rows in usa1810 represent counties not states or territories. "
      ]
    },
    {
      "cell_type": "code",
      "metadata": {
        "id": "4C0zLDv9KeF9",
        "colab_type": "code",
        "colab": {}
      },
      "source": [
        "type(orleans_poly)"
      ],
      "execution_count": 0,
      "outputs": []
    },
    {
      "cell_type": "code",
      "metadata": {
        "id": "NvvRWSdy-1Tb",
        "colab_type": "code",
        "colab": {}
      },
      "source": [
        "# If we make these geometries a geoseries we can quickly plot together\n",
        "geom_data = gpd.GeoSeries([la_poly, ptcoupee_poly, ptcoupee_pt]).plot(cmap=\"Reds\",figsize=(10,10))\n",
        "orleans_poly.plot(ax=geom_data, color='None', edgecolor=\"grey\")"
      ],
      "execution_count": 0,
      "outputs": []
    },
    {
      "cell_type": "markdown",
      "metadata": {
        "id": "ixqrCESLBaWz",
        "colab_type": "text"
      },
      "source": [
        "Now let's consider the following spatial relationship query:\n",
        "\n",
        "- Is Pointe Coupee within Orleans Territory?\n"
      ]
    },
    {
      "cell_type": "markdown",
      "metadata": {
        "id": "jgUkeehpCqnS",
        "colab_type": "text"
      },
      "source": [
        "Here is a list of the GeoPandas methods we can use to test spatial relationships.\n",
        "\n",
        "*Which one(s) can we use to answer the above query?*\n",
        "\n",
        "- equals\n",
        "- contains\n",
        "- crosses\n",
        "- disjoint\n",
        "- intersects\n",
        "- overlaps\n",
        "- touches\n",
        "- within\n",
        "- covers"
      ]
    },
    {
      "cell_type": "code",
      "metadata": {
        "id": "-adhcjTx93ga",
        "colab_type": "code",
        "colab": {}
      },
      "source": [
        "# spatial relationship query between two geometry objects\n",
        "ptcoupee_poly.within(la_poly)\n"
      ],
      "execution_count": 0,
      "outputs": []
    },
    {
      "cell_type": "markdown",
      "metadata": {
        "id": "PK52OL8EC7RA",
        "colab_type": "text"
      },
      "source": [
        "**Question** - How do you think we would  restate that using ** contains**?"
      ]
    },
    {
      "cell_type": "code",
      "metadata": {
        "id": "NXDQ5jIWj-mo",
        "colab_type": "code",
        "colab": {}
      },
      "source": [
        "# Our code here"
      ],
      "execution_count": 0,
      "outputs": []
    },
    {
      "cell_type": "markdown",
      "metadata": {
        "id": "83Qpp9D7D0B8",
        "colab_type": "text"
      },
      "source": [
        "We can test the spatial relationship between a geometry object and all geometries in a GeoDataFrame."
      ]
    },
    {
      "cell_type": "code",
      "metadata": {
        "id": "S1zAArrqN-Hz",
        "colab_type": "code",
        "colab": {}
      },
      "source": [
        "usa1810.contains(ptcoupee_poly)"
      ],
      "execution_count": 0,
      "outputs": []
    },
    {
      "cell_type": "markdown",
      "metadata": {
        "id": "tMyHhxi5Ktaz",
        "colab_type": "text"
      },
      "source": [
        "Can we restate the previous operation with **within**?\n",
        "\n",
        "- Uncomment the code below to see...."
      ]
    },
    {
      "cell_type": "code",
      "metadata": {
        "id": "rYys7zviKttS",
        "colab_type": "code",
        "colab": {}
      },
      "source": [
        "#ptcoupee_poly.within(usa1810)"
      ],
      "execution_count": 0,
      "outputs": []
    },
    {
      "cell_type": "markdown",
      "metadata": {
        "id": "6agN5gPgOFTQ",
        "colab_type": "text"
      },
      "source": [
        "Since spatial functions return **True** or **False** we can use them to select only the rows in the GeoDataFrame that meet the condition being tested."
      ]
    },
    {
      "cell_type": "code",
      "metadata": {
        "id": "rxyX-xftDm40",
        "colab_type": "code",
        "colab": {}
      },
      "source": [
        "# What state or territory contained Pointe Coupee in 1810?\n",
        "usa1810[usa1810.contains(ptcoupee_poly)]"
      ],
      "execution_count": 0,
      "outputs": []
    },
    {
      "cell_type": "code",
      "metadata": {
        "id": "IYgs9yvkEBzK",
        "colab_type": "code",
        "colab": {}
      },
      "source": [
        "# What US state contains pt coupee today?\n"
      ],
      "execution_count": 0,
      "outputs": []
    },
    {
      "cell_type": "markdown",
      "metadata": {
        "id": "gxz6j8zrIF55",
        "colab_type": "text"
      },
      "source": [
        "## Challenge\n",
        "\n",
        "What US State is Pointe Coupee within today?\n"
      ]
    },
    {
      "cell_type": "code",
      "metadata": {
        "id": "KQsLuYJb20Fe",
        "colab_type": "code",
        "colab": {}
      },
      "source": [
        "#Your code here"
      ],
      "execution_count": 0,
      "outputs": []
    },
    {
      "cell_type": "markdown",
      "metadata": {
        "id": "86d0pdQW23a8",
        "colab_type": "text"
      },
      "source": [
        "## Challenge - solution"
      ]
    },
    {
      "cell_type": "code",
      "metadata": {
        "id": "l3l8xaaWnVbA",
        "colab_type": "code",
        "colab": {}
      },
      "source": [
        "# Your code here\n",
        "conus[conus.contains(ptcoupee_poly)]"
      ],
      "execution_count": 0,
      "outputs": []
    },
    {
      "cell_type": "markdown",
      "metadata": {
        "id": "Iog_8gNEESNS",
        "colab_type": "text"
      },
      "source": [
        "**Discussion**\n"
      ]
    },
    {
      "cell_type": "markdown",
      "metadata": {
        "id": "oXrlWtGwEgAS",
        "colab_type": "text"
      },
      "source": [
        "##  Intersects - the most general spatial relationship query\n",
        "\n",
        "The most useful, fastest and most general purpose spatial relationship query is **intersects**. You don't need to worry about selecting the correct spatial relationship predicate for your query or differences due to the resolution and alignment of your geometries.\n",
        "\n",
        "</br>\n",
        "\n",
        "Below we use *intersects* to see what states border Louisiana.\n"
      ]
    },
    {
      "cell_type": "code",
      "metadata": {
        "id": "46pX7eyME7hT",
        "colab_type": "code",
        "colab": {}
      },
      "source": [
        "\n",
        "conus[conus.intersects(la_poly)]"
      ],
      "execution_count": 0,
      "outputs": []
    },
    {
      "cell_type": "markdown",
      "metadata": {
        "id": "Zm8M_jXaLeVr",
        "colab_type": "text"
      },
      "source": [
        "Intersects is not a relative operator like contains or withins. You can compare two geometries in any order and get the same result."
      ]
    },
    {
      "cell_type": "code",
      "metadata": {
        "id": "_xkFqyG7Lp3j",
        "colab_type": "code",
        "colab": {}
      },
      "source": [
        "print(ptcoupee_poly.intersects(la_poly))\n",
        "\n",
        "print(la_poly.intersects(ptcoupee_poly))"
      ],
      "execution_count": 0,
      "outputs": []
    },
    {
      "cell_type": "markdown",
      "metadata": {
        "id": "yhBFozRztTVg",
        "colab_type": "text"
      },
      "source": [
        "## Any Questions?\n",
        "\n",
        "\n",
        "\n",
        "---\n",
        "\n"
      ]
    },
    {
      "cell_type": "markdown",
      "metadata": {
        "id": "uDvk-vYZ7q2Z",
        "colab_type": "text"
      },
      "source": [
        "# Spatial Data Processing"
      ]
    },
    {
      "cell_type": "markdown",
      "metadata": {
        "id": "zbsBCLynL2qH",
        "colab_type": "text"
      },
      "source": [
        "\n",
        "\n",
        "Spatial relationship queries return `True` or `False` when comparing geometries based on a spatial relationship predicate. \n",
        "\n",
        "Geometric processing operations, on the other hand, construct new geometries from one or more input geometries. We saw this earlier with the **dissolve** operation.\n",
        "\n",
        "These transformations, which are also called **geoprocessing**, make up the bulk of spatial preprocessing operations - the work you do to prepare your data for analysis!\n",
        "\n",
        "\n",
        "\n"
      ]
    },
    {
      "cell_type": "markdown",
      "metadata": {
        "id": "FBmWClXwIqZ0",
        "colab_type": "text"
      },
      "source": [
        "## Common Types of Geoprocessing operations\n",
        "\n",
        "Below is a list of some common types of geoprocessing operations.\n",
        "\n",
        "- Coordinate system transformations\n",
        "- Dimensionality transformations (points to polygons, polygons to points or lines, lines to polygons or points)\n",
        "- Geometric Aggregations (simplify, dissolve / group by operations)\n",
        "- Spatial overlay operations\n",
        "\n",
        "An in-depth review of all of the types of and methods for geoprocessing is beyond the scope of this workshop.   A good way to get an overview is to work through the different sections of the Geopandas documentation.\n",
        "\n",
        "Instead, we will work through a few of these as we explore our historical Louisiana data."
      ]
    },
    {
      "cell_type": "markdown",
      "metadata": {
        "id": "uj35dXuLIhJC",
        "colab_type": "text"
      },
      "source": [
        "## Question\n",
        "\n",
        "Can you identify the types of geoprocesing operations we have done so far?"
      ]
    },
    {
      "cell_type": "markdown",
      "metadata": {
        "id": "Fm_r_MXWPqTK",
        "colab_type": "text"
      },
      "source": [
        "## Geometric Aggregrations\n",
        "\n",
        "We often receive data that has more detail than we need. For example, we might have population by county when we want it by state. In pandas you can use a `groupby` operation to aggregate the data values.  \n",
        "\n",
        "With geospatial data we often obtain data that has more geometric detail than we need. We can use the geopandas **dissolve** method to aggregate geometric data that share a common value.\n",
        "\n",
        "For example, let's create a single geometry that is the outline of the continental US by dissolving the state geometry in the `conus` geodataframe. \n",
        "Start by taking a look at the geodataframe again.\n"
      ]
    },
    {
      "cell_type": "code",
      "metadata": {
        "id": "rbGWEF9q3M8i",
        "colab_type": "code",
        "colab": {}
      },
      "source": [
        "conus.head()"
      ],
      "execution_count": 0,
      "outputs": []
    },
    {
      "cell_type": "markdown",
      "metadata": {
        "id": "oPMe5N_Nmk7y",
        "colab_type": "text"
      },
      "source": [
        "We need a column value to indicate how to aggregate the geometry. We can create this column and populate it if it doesn't exist. \n"
      ]
    },
    {
      "cell_type": "code",
      "metadata": {
        "id": "gl2qhrOaHnFy",
        "colab_type": "code",
        "colab": {}
      },
      "source": [
        "# create a column with a single value that we can dissolve on\n",
        "conus['country'] = 'usa' \n",
        "conus.head()"
      ],
      "execution_count": 0,
      "outputs": []
    },
    {
      "cell_type": "markdown",
      "metadata": {
        "id": "dWf6XobLmuAQ",
        "colab_type": "text"
      },
      "source": [
        "Now we can use the **dissolve** method to merge all the states that have the value \"usa\" in the country column.\n",
        "\n",
        "Note, **dissolve** won't know what to do with the values specific to each state - like STATE (name), GEOID, ABBREV, so we remove those columns first."
      ]
    },
    {
      "cell_type": "code",
      "metadata": {
        "id": "l90MXOlnmp0N",
        "colab_type": "code",
        "colab": {}
      },
      "source": [
        "# Select on the columns we weant to keep in dissovled geodataframe\n",
        "conus_outline = conus[[\"country\",\"geometry\"]]  \n",
        "\n",
        "# dissolve the interior polygons\n",
        "conus_outline = conus_outline.dissolve(by='country', as_index=False)\n",
        "\n",
        "# take a look\n",
        "conus_outline.head()\n",
        "\n"
      ],
      "execution_count": 0,
      "outputs": []
    },
    {
      "cell_type": "markdown",
      "metadata": {
        "id": "nMO4y57DnjST",
        "colab_type": "text"
      },
      "source": [
        "Finally, **plot** the dissolved geodataframe."
      ]
    },
    {
      "cell_type": "code",
      "metadata": {
        "id": "sbC1LSaQnoYk",
        "colab_type": "code",
        "colab": {}
      },
      "source": [
        "conus_outline.plot()"
      ],
      "execution_count": 0,
      "outputs": []
    },
    {
      "cell_type": "markdown",
      "metadata": {
        "id": "77SBtdEdQxM3",
        "colab_type": "text"
      },
      "source": [
        "## Challenge\n",
        "\n",
        "1. Use **dissolve** to create the new GeoDataFrame **usa1810_outline**\n",
        "    - *Note: you do not need to add a new column - what column should you use to dissolve by?*\n"
      ]
    },
    {
      "cell_type": "code",
      "metadata": {
        "id": "idlP15DBX3AW",
        "colab_type": "code",
        "colab": {}
      },
      "source": [
        "usa1810.head(2)"
      ],
      "execution_count": 0,
      "outputs": []
    },
    {
      "cell_type": "code",
      "metadata": {
        "id": "-n3SWHR5Qpr2",
        "colab_type": "code",
        "colab": {}
      },
      "source": [
        "# your code here\n"
      ],
      "execution_count": 0,
      "outputs": []
    },
    {
      "cell_type": "markdown",
      "metadata": {
        "id": "AITgzlnvn1wk",
        "colab_type": "text"
      },
      "source": [
        "### Challenge - solution"
      ]
    },
    {
      "cell_type": "code",
      "metadata": {
        "id": "3Fi44p7yn5ok",
        "colab_type": "code",
        "colab": {}
      },
      "source": [
        "\n",
        "# Select on the columns we weant to keep in dissovled geodataframe\n",
        "usa1810_outline = usa1810[[\"DECADE\",\"geometry\"]]  \n",
        "\n",
        "# dissolve the interior polygons\n",
        "usa1810_outline = usa1810_outline.dissolve(by='DECADE', as_index=False)\n",
        "\n",
        "# take a look\n",
        "#usa1810_outline.head()\n",
        "usa1810_outline.plot()"
      ],
      "execution_count": 0,
      "outputs": []
    },
    {
      "cell_type": "markdown",
      "metadata": {
        "id": "ieHnT-repL1c",
        "colab_type": "text"
      },
      "source": [
        "## Challenge \n",
        "\n",
        "Display the **usa1810_outline** on top of the **conus_outline**\n",
        "\n",
        "- *HINT: You can do this quickly by copying related code from a previous section and changing the geodataframe names*"
      ]
    },
    {
      "cell_type": "code",
      "metadata": {
        "id": "U64rcRRgSyYG",
        "colab_type": "code",
        "colab": {}
      },
      "source": [
        "# Your code here"
      ],
      "execution_count": 0,
      "outputs": []
    },
    {
      "cell_type": "markdown",
      "metadata": {
        "id": "s34EsieOSzsH",
        "colab_type": "text"
      },
      "source": [
        "### Challenge - solution"
      ]
    },
    {
      "cell_type": "code",
      "metadata": {
        "id": "pG0axBzS51Zq",
        "colab_type": "code",
        "colab": {}
      },
      "source": [
        "# your code here\n",
        "base = conus_outline.plot(color='white', edgecolor='black',  figsize=(14,10))\n",
        "usa1810_outline.plot(ax=base)"
      ],
      "execution_count": 0,
      "outputs": []
    },
    {
      "cell_type": "markdown",
      "metadata": {
        "id": "9sejcS6h4a2F",
        "colab_type": "text"
      },
      "source": [
        "## Spatial Overlay\n",
        "The [GeoPandas **overlay** operation](http://geopandas.org/set_operations.html) allows you to compare two geodataframes and return the set intersection, union, difference between them. \n",
        "\n",
        "As an example, let's consider how we can use **overlay** to create a new geodataframe that represents the areas that were added to the continental United States after 1810.\n",
        "\n",
        "*Note: these operations can be quite computationally intensive on complex geometries!*"
      ]
    },
    {
      "cell_type": "code",
      "metadata": {
        "id": "smTDcdQ55yOy",
        "colab_type": "code",
        "colab": {}
      },
      "source": [
        "# What states were added after Louisiana Purchase\n",
        "usa_post1810 = gpd.overlay(conus, usa1810_outline, how='difference')"
      ],
      "execution_count": 0,
      "outputs": []
    },
    {
      "cell_type": "code",
      "metadata": {
        "id": "yNEo_SfueKm9",
        "colab_type": "code",
        "colab": {}
      },
      "source": [
        "usa_post1810.plot(color=\"red\", figsize=(14,10))"
      ],
      "execution_count": 0,
      "outputs": []
    },
    {
      "cell_type": "markdown",
      "metadata": {
        "id": "2sRFTgb0e8Bb",
        "colab_type": "text"
      },
      "source": [
        "You can see in the map above that the spatial difference operation returned sliver geometries where the two datasets didn't completely align. This is extremely common."
      ]
    },
    {
      "cell_type": "markdown",
      "metadata": {
        "id": "r61vs2azex6N",
        "colab_type": "text"
      },
      "source": [
        "## Question\n",
        "\n",
        "How could you use the data in the output GeoDataFrame to remove the `sliver` polygons?"
      ]
    },
    {
      "cell_type": "code",
      "metadata": {
        "id": "r3mlTmv0N0sw",
        "colab_type": "code",
        "colab": {}
      },
      "source": [
        "usa_post1810.head()\n"
      ],
      "execution_count": 0,
      "outputs": []
    },
    {
      "cell_type": "markdown",
      "metadata": {
        "id": "9hTz0774fjV6",
        "colab_type": "text"
      },
      "source": [
        "\n",
        "\n",
        "---\n",
        "\n"
      ]
    },
    {
      "cell_type": "markdown",
      "metadata": {
        "id": "cNZLiG3FB0_S",
        "colab_type": "text"
      },
      "source": [
        "## Spatial Joins\n",
        "\n",
        "Spatial join operations are used to join attribute data from one spatial object to another **based on spatial location**.  In other words, we can transfer attributes from one GeoDataFrame to another GeoDataFrame for objects that are colocated in space.\n",
        "\n",
        "</br>\n",
        "In `geopandas` this is done with the **sjoin** operator.  Spatial joins borrow syntax from non-spatial attribute table joins.\n",
        "\n",
        "Take a look at the documentation for **sjoin**."
      ]
    },
    {
      "cell_type": "markdown",
      "metadata": {
        "id": "XuZi5h8aRUQA",
        "colab_type": "text"
      },
      "source": [
        "Let's explore spatial joins by:\n",
        "\n",
        "- reading in a csv file of Louisiana slave conspiracy locations into a new GeoPandas GeoDataFrame.\n",
        "- using a spatial join to add the name of the parish in which the conspiracy took place to the slave conspiracy GeoDataFrame."
      ]
    },
    {
      "cell_type": "code",
      "metadata": {
        "id": "wXHk-N3d8_xu",
        "colab_type": "code",
        "colab": {}
      },
      "source": [
        "# Read in a csv file that has lat/lon values\n",
        "lsc_locs = gpd.read_file(\"./lsc_points.csv\")\n",
        " \n",
        "#take a look at the data\n",
        "lsc_locs"
      ],
      "execution_count": 0,
      "outputs": []
    },
    {
      "cell_type": "markdown",
      "metadata": {
        "id": "6Xs7djUaSG4I",
        "colab_type": "text"
      },
      "source": [
        "Because we have read in a CSV file rather than a spatial data file, we have a GeoDataFrame with no data in the special **geometry** column.   However, we do have coordinate data in the latitude and longitude columns. We can use some code to convert those coordinates to Point geometry."
      ]
    },
    {
      "cell_type": "code",
      "metadata": {
        "id": "X0e3b-PC9Ps9",
        "colab_type": "code",
        "colab": {}
      },
      "source": [
        "# populate geometry column from lat/lon data\n",
        "lsc_locs['geometry'] = lsc_locs.apply(lambda row: Point(float(row['longitude']), float(row['latitude'])), axis = 1)\n",
        "\n"
      ],
      "execution_count": 0,
      "outputs": []
    },
    {
      "cell_type": "markdown",
      "metadata": {
        "id": "bKIOt-1k4IiJ",
        "colab_type": "text"
      },
      "source": [
        "The code above uses a `lamda` function to take each row in the GeoDataFrame and constructs a Point geometry object from the longitude and latitude data and stores it in the geometry column.\n",
        "</br>\n",
        "\n",
        "Let's  take a look at the GeoDataFrame now.\n"
      ]
    },
    {
      "cell_type": "code",
      "metadata": {
        "id": "mZkZjY164Lmp",
        "colab_type": "code",
        "colab": {}
      },
      "source": [
        "lsc_locs"
      ],
      "execution_count": 0,
      "outputs": []
    },
    {
      "cell_type": "code",
      "metadata": {
        "id": "jknUrLkNg9df",
        "colab_type": "code",
        "colab": {}
      },
      "source": [
        "# And plot the locations:\n",
        "base = orleans_poly.plot()\n",
        "lsc_locs.plot(ax=base, color='red')"
      ],
      "execution_count": 0,
      "outputs": []
    },
    {
      "cell_type": "markdown",
      "metadata": {
        "id": "JsZC8qH2SfLm",
        "colab_type": "text"
      },
      "source": [
        "## SJOIN\n",
        "\n",
        "We are now ready to use **sjoin** to add the parish (county) for each conspiracy."
      ]
    },
    {
      "cell_type": "code",
      "metadata": {
        "id": "42SEQaDg9FbG",
        "colab_type": "code",
        "colab": {}
      },
      "source": [
        "lsc_with_parish = gpd.sjoin(lsc_locs, usa1810)"
      ],
      "execution_count": 0,
      "outputs": []
    },
    {
      "cell_type": "markdown",
      "metadata": {
        "id": "NN8L9n07hZ8j",
        "colab_type": "text"
      },
      "source": [
        "\n",
        "\n",
        "*What went wrong?*"
      ]
    },
    {
      "cell_type": "markdown",
      "metadata": {
        "id": "xfDilJvR_-i0",
        "colab_type": "text"
      },
      "source": [
        "### CRSs must be the same for spatial joins.\n",
        "\n",
        "First take a look at the crs of the lsc_locs data."
      ]
    },
    {
      "cell_type": "code",
      "metadata": {
        "id": "mrS49FdPS7dR",
        "colab_type": "code",
        "colab": {}
      },
      "source": [
        "lsc_locs.crs"
      ],
      "execution_count": 0,
      "outputs": []
    },
    {
      "cell_type": "markdown",
      "metadata": {
        "id": "jYcjE8tZS-r1",
        "colab_type": "text"
      },
      "source": [
        "*Why isn't the CRS defined?*  Because we read the data in from a CSV file which is not a spatial data file format. Thus it does not contain CRS information."
      ]
    },
    {
      "cell_type": "markdown",
      "metadata": {
        "id": "p1wSo45_TCsb",
        "colab_type": "text"
      },
      "source": [
        "## Defining a CRS\n",
        "\n",
        "If you know the CRS of your data you can define it by referencing its **epsg** code. \n",
        "\n",
        "*Note: defining a CRS is not a transformation!*"
      ]
    },
    {
      "cell_type": "code",
      "metadata": {
        "id": "60mWZewk_uYW",
        "colab_type": "code",
        "colab": {}
      },
      "source": [
        "lsc_locs.crs = {'init': 'epsg:4326'}\n",
        "\n",
        "# If we know two geodataframes have the same CRS\n",
        "# We can also define the CRS like this:\n",
        "\n",
        "#lsc_locs.crs = usa1810.crs "
      ],
      "execution_count": 0,
      "outputs": []
    },
    {
      "cell_type": "markdown",
      "metadata": {
        "id": "dDXAauI4UFUf",
        "colab_type": "text"
      },
      "source": [
        "Now try that spatial join again!"
      ]
    },
    {
      "cell_type": "code",
      "metadata": {
        "id": "HRRymyQaAKy_",
        "colab_type": "code",
        "colab": {}
      },
      "source": [
        "lsc_with_parish = gpd.sjoin(lsc_locs, usa1810)\n"
      ],
      "execution_count": 0,
      "outputs": []
    },
    {
      "cell_type": "markdown",
      "metadata": {
        "id": "EKCyg3qTUH77",
        "colab_type": "text"
      },
      "source": [
        "Take a look at the results..."
      ]
    },
    {
      "cell_type": "code",
      "metadata": {
        "id": "icrY6lrgAd9z",
        "colab_type": "code",
        "colab": {}
      },
      "source": [
        "lsc_with_parish.head()\n"
      ],
      "execution_count": 0,
      "outputs": []
    },
    {
      "cell_type": "markdown",
      "metadata": {
        "id": "1cjFJE66rquV",
        "colab_type": "text"
      },
      "source": [
        "Now you can answer our question:\n",
        "\n",
        "- In what parishes (counties) did the three Louisiana Slave Conspiracies take place?\n"
      ]
    },
    {
      "cell_type": "markdown",
      "metadata": {
        "id": "vqlHx1E4UMxY",
        "colab_type": "text"
      },
      "source": [
        "## Attribute Joins\n",
        "\n",
        "Attribute joins combine data from different tables based on a column with shared values.  Although these are not spatial they are widely used in geospatial analysis and in all data analysis.  We use the **merge** command for geopandas attribute joins.\n",
        "\n",
        "<br>\n",
        "Let's use an attribute join to join some census data for Orleans Territory to a subset of the usa1810 data."
      ]
    },
    {
      "cell_type": "markdown",
      "metadata": {
        "id": "QTgMhauWiL11",
        "colab_type": "text"
      },
      "source": [
        "First, read in the CSV file to a Pandas DataFrame named **orleans_census1810**\n",
        "\n"
      ]
    },
    {
      "cell_type": "code",
      "metadata": {
        "id": "zQnuhWJfiatO",
        "colab_type": "code",
        "colab": {}
      },
      "source": [
        "orleans_census1810 = pd.read_csv('./orleans_census_data1810.csv')\n",
        "orleans_census1810.head()"
      ],
      "execution_count": 0,
      "outputs": []
    },
    {
      "cell_type": "markdown",
      "metadata": {
        "id": "36W-Bf-Fj_bE",
        "colab_type": "text"
      },
      "source": [
        "Then, subset `usa1810` to a new GeoDataFrame keeping only the data where the STATE is Orleans Territory - name this gdf  **orleans**.\n"
      ]
    },
    {
      "cell_type": "code",
      "metadata": {
        "id": "Ex_ZApzbkEGd",
        "colab_type": "code",
        "colab": {}
      },
      "source": [
        "orleans = usa1810[usa1810['STATE'] == 'Orleans Territory']\n",
        "\n",
        "orleans.plot()"
      ],
      "execution_count": 0,
      "outputs": []
    },
    {
      "cell_type": "markdown",
      "metadata": {
        "id": "duLBSYWFkEUl",
        "colab_type": "text"
      },
      "source": [
        "\n",
        "\n",
        "First, let's take a look at the values in the **orleans** GeoDataFrame.  Compare it to the **orleans_census1810** data frame.\n",
        "\n",
        "- What column should we use for the join?"
      ]
    },
    {
      "cell_type": "code",
      "metadata": {
        "id": "W0LKSr1Tkb6r",
        "colab_type": "code",
        "colab": {}
      },
      "source": [
        "orleans.head()"
      ],
      "execution_count": 0,
      "outputs": []
    },
    {
      "cell_type": "markdown",
      "metadata": {
        "id": "9IEXmbQdiXjx",
        "colab_type": "text"
      },
      "source": [
        "Join the attribute data in **orleans_census1810** to the **orleans** GeoDataFrame using the **merge** command."
      ]
    },
    {
      "cell_type": "code",
      "metadata": {
        "id": "E3NN7PVNiky9",
        "colab_type": "code",
        "colab": {}
      },
      "source": [
        "\n",
        "orleans_popdata = orleans.merge(orleans_census1810, on='GISJOIN')\n",
        "orleans_popdata.head()"
      ],
      "execution_count": 0,
      "outputs": []
    },
    {
      "cell_type": "markdown",
      "metadata": {
        "id": "vNkWlStzmOjf",
        "colab_type": "text"
      },
      "source": [
        "You can see that we now have a number of population related attributes in the geodataframe.\n",
        "\n",
        "What happened to the columns that were in both dataframes?"
      ]
    },
    {
      "cell_type": "markdown",
      "metadata": {
        "id": "9VITbIqpte5j",
        "colab_type": "text"
      },
      "source": [
        "## Questions?\n",
        "\n",
        "\n",
        "\n",
        "---\n",
        "\n"
      ]
    },
    {
      "cell_type": "markdown",
      "metadata": {
        "id": "qTUr7qE98ADk",
        "colab_type": "text"
      },
      "source": [
        "# Data Driven Mapping"
      ]
    },
    {
      "cell_type": "markdown",
      "metadata": {
        "id": "OSJi-MxM014T",
        "colab_type": "text"
      },
      "source": [
        "\n",
        "\n",
        "Data driven mapping refers to the process of creating thematic maps by using data values to determine the symbology of mapped features - including their color, shape, size.  This is in contrast to setting the same symbology for all features as we have done above.\n",
        "\n",
        "### Mapping categorical data\n",
        "We can symbolize the color of our features by a categorical data value."
      ]
    },
    {
      "cell_type": "code",
      "metadata": {
        "id": "234vxZGO10if",
        "colab_type": "code",
        "colab": {}
      },
      "source": [
        "conus.plot(column=\"STATE\", edgecolor=\"white\")"
      ],
      "execution_count": 0,
      "outputs": []
    },
    {
      "cell_type": "markdown",
      "metadata": {
        "id": "0qSOY4TX1CN0",
        "colab_type": "text"
      },
      "source": [
        "\n",
        "### Mapping quantitative data\n",
        "\n",
        "We can also color areas by quantitave data values. \n",
        "\n",
        "</br>\n",
        "\n",
        "Let's map the parishes in Orleans Territory by the number of non-white slaves. These values are in the column `nwslave_pop`.\n"
      ]
    },
    {
      "cell_type": "code",
      "metadata": {
        "id": "2ptJwGToQN9T",
        "colab_type": "code",
        "colab": {}
      },
      "source": [
        "orleans_popdata.plot(column='nwslave_pop', cmap='Reds', edgecolor='grey', legend=True, figsize=(8,6))\n",
        "plt.show()"
      ],
      "execution_count": 0,
      "outputs": []
    },
    {
      "cell_type": "markdown",
      "metadata": {
        "id": "tEuJCDJbjUpT",
        "colab_type": "text"
      },
      "source": [
        "### cmaps - colormaps\n",
        "\n",
        "Note the use of the **cmap** option to set the matplotlib color palette for mapping the data.  Take a look at the [documumentation](https://matplotlib.org/users/colormaps.html) for these colormaps and rerun the previous code with a different value for **cmap**.   I strongly recommend that you read this documentation to improve your use of colormaps to effectively map data values. "
      ]
    },
    {
      "cell_type": "code",
      "metadata": {
        "id": "6nNpHeS2K41s",
        "colab_type": "code",
        "colab": {}
      },
      "source": [
        ""
      ],
      "execution_count": 0,
      "outputs": []
    },
    {
      "cell_type": "markdown",
      "metadata": {
        "id": "aXuyGdTPnMMt",
        "colab_type": "text"
      },
      "source": [
        "### Discussion\n",
        "\n",
        "Above, the plot option **column=** tells the plot command to use the values in the **nwslave_pop** column to determine the geometry colors based on the colormap specified by the **cmap** option. You can see the list of available [color maps here](https://matplotlib.org/users/colormaps.html). The full range of values in the `nwslave_pop` column is being scaled to the color palette called **Reds**.  This is called an `unclassified` or `classless` map. This map is a good first effort as it imposses no grouping on the data, thus making it easier to spot trends and outliers. But it is harder to interpret the data values within an area. \n",
        "\n",
        "\n",
        "### Graduated Color Maps\n",
        "\n",
        "A more common practice is to use a **classification scheme** to bin data values into 4-7 classes and map those classes to a color palette.  This type of map is called a **graduated color map**.\n",
        "\n",
        "</br>\n",
        "\n",
        "Let's try that below with **quantile** classification which is the most commonly used scheme when mapping data."
      ]
    },
    {
      "cell_type": "code",
      "metadata": {
        "id": "64-HCdCpcNWn",
        "colab_type": "code",
        "colab": {}
      },
      "source": [
        "\n",
        "orleans_popdata.plot(column='nwslave_pop', cmap='Reds', edgecolor='black', \n",
        "                     legend=True, figsize=(8,6), scheme='quantiles')\n",
        "plt.show()"
      ],
      "execution_count": 0,
      "outputs": []
    },
    {
      "cell_type": "markdown",
      "metadata": {
        "id": "5O8abVwyqp0p",
        "colab_type": "text"
      },
      "source": [
        "Wow that gives a very different looking map!"
      ]
    },
    {
      "cell_type": "markdown",
      "metadata": {
        "id": "3dXPO1Qbqh_p",
        "colab_type": "text"
      },
      "source": [
        "## Challenge\n",
        "\n",
        "In the code cell below recreate the above map with the classification schemes **equal_interval** and **fisher_jenks** to see how the look of the map changes.\n"
      ]
    },
    {
      "cell_type": "code",
      "metadata": {
        "id": "AEUPu5naquiY",
        "colab_type": "code",
        "colab": {}
      },
      "source": [
        "# Your code here"
      ],
      "execution_count": 0,
      "outputs": []
    },
    {
      "cell_type": "markdown",
      "metadata": {
        "id": "ARUshaUcqzWq",
        "colab_type": "text"
      },
      "source": [
        "## Choropleth Maps\n",
        "\n",
        "The maps we just made are called `choropleth maps`. A [choropleth map](https://en.wikipedia.org/wiki/Choropleth_map) is a data map that colors areas by data values.  This are the most common type of data map. It is also sometimes called a **heatmap**.\n",
        "\n",
        "<br>\n",
        "**Important**, when the areas being mapped vary in size it is not considered good cartographic practice to map **counts**.  Why do you think this is so?\n",
        "\n",
        "Instead, choropleth maps typically symbolize ares by area weighted densites, ratios or rates that can compared across the different sized areas.\n",
        "\n",
        "<br>\n",
        "\n",
        "Let's map the ratio of non-white slaves (nwslave_pop) to free whites (white_pop)."
      ]
    },
    {
      "cell_type": "code",
      "metadata": {
        "id": "9-ef23waq1Dj",
        "colab_type": "code",
        "colab": {}
      },
      "source": [
        "# Create a new column that is the ratio of non-white slaves (nwslave_pop) to free whites (white_pop)\n",
        "orleans_popdata['slave2white_ratio'] = orleans_popdata['nwslave_pop'] / orleans_popdata['white_pop']\n",
        "\n",
        "# Map the ratio\n",
        "orleans_popdata.plot(column='slave2white_ratio', cmap='Reds', edgecolor='black', \n",
        "                     legend=True, figsize=(8,6), scheme='quantiles')\n",
        "\n",
        "plt.show()"
      ],
      "execution_count": 0,
      "outputs": []
    },
    {
      "cell_type": "code",
      "metadata": {
        "id": "XwM1__uc-TmQ",
        "colab_type": "code",
        "colab": {}
      },
      "source": [
        "orleans_popdata.head()"
      ],
      "execution_count": 0,
      "outputs": []
    },
    {
      "cell_type": "markdown",
      "metadata": {
        "id": "R8J1m_1_q6U8",
        "colab_type": "text"
      },
      "source": [
        "Let's redo the above map by adding labels and a few more niceties.\n",
        "\n",
        "We will also use **fisher_jenks** classification to minimize within bin variance and maximize between bin variance. This creates groupings that better reflect the data."
      ]
    },
    {
      "cell_type": "code",
      "metadata": {
        "id": "7uWUN9xmq6if",
        "colab_type": "code",
        "colab": {}
      },
      "source": [
        "fig, ax = plt.subplots(1, figsize=(12,12))\n",
        "\n",
        "orleans_popdata.plot(ax=ax, column='slave2white_ratio', cmap='OrRd', edgecolor='black', legend=True, scheme='fisher_jenks')\n",
        "\n",
        "for polygon, name in zip(orleans_popdata.geometry, orleans_popdata.COUNTY_x):\n",
        "    ax.annotate(xy=(polygon.centroid.x, polygon.centroid.y), s=name)\n",
        "\n",
        "_ = ax.axis('off')\n",
        "\n",
        "ax.set_title(\"Ratio of Non-White Slaves to Free Whites, Orleans Territory, 1810\")\n",
        "plt.show()"
      ],
      "execution_count": 0,
      "outputs": []
    },
    {
      "cell_type": "markdown",
      "metadata": {
        "id": "9tUlWR2drFJA",
        "colab_type": "text"
      },
      "source": [
        "Needless to say, labels are a bit tricky, regardless of the software you use to make a map!\n"
      ]
    },
    {
      "cell_type": "markdown",
      "metadata": {
        "id": "T3lP3uMarNs-",
        "colab_type": "text"
      },
      "source": [
        "## Question\n",
        "\n",
        "In 1791 and 1795 two slave revolts were planned in the same parish in Orleans Territory. Although these plots involved different people and had different orgins, both were discovered and thwarted, leading to the trial and execution or emprisonment of many enslaved persons. Soon thereafter, the [German Coast Uprising of 1811](https://en.wikipedia.org/wiki/1811_German_Coast_uprising), which was the largest slave revolt in US history, occured in a different Orleans parish. \n",
        "\n",
        "- *Does the map symbology indicate the two parishes in which these three events occured?*"
      ]
    },
    {
      "cell_type": "markdown",
      "metadata": {
        "id": "Dpady1kLrTOT",
        "colab_type": "text"
      },
      "source": [
        "As a check, we can add the **lsc_locs** points to the map above."
      ]
    },
    {
      "cell_type": "code",
      "metadata": {
        "id": "zcnDhgWmrcEP",
        "colab_type": "code",
        "colab": {}
      },
      "source": [
        "fig, ax = plt.subplots(1, figsize=(12,12))\n",
        "\n",
        "orleans_popdata.plot(ax=ax, column='slave2white_ratio', cmap='OrRd', edgecolor='black', legend=True, scheme='fisher_jenks')\n",
        "\n",
        "lsc_locs.plot(ax=ax, color='yellow', edgecolor=\"black\", linewidth=3, markersize=100)\n",
        "\n",
        "for polygon, name in zip(orleans_popdata.geometry, orleans_popdata.COUNTY_x):\n",
        "    ax.annotate(xy=(polygon.centroid.x, polygon.centroid.y), s=name)\n",
        "\n",
        "_ = ax.axis('off')\n",
        "\n",
        "ax.set_title(\"Ratio of Non-White Slaves to Free Whites, Orleans Territory, 1810\")\n",
        "plt.show()"
      ],
      "execution_count": 0,
      "outputs": []
    },
    {
      "cell_type": "markdown",
      "metadata": {
        "id": "uCoHF0E0rgHU",
        "colab_type": "text"
      },
      "source": [
        "###  Any Questions?\n",
        "\n",
        "\n",
        "\n",
        "---\n",
        "\n"
      ]
    },
    {
      "cell_type": "markdown",
      "metadata": {
        "id": "hdrjdpQ05AC-",
        "colab_type": "text"
      },
      "source": [
        "# Interactive Mapping with Folium"
      ]
    },
    {
      "cell_type": "markdown",
      "metadata": {
        "id": "tO90iSJumtRI",
        "colab_type": "text"
      },
      "source": [
        "[Folium] is the most commonly used Python library for creating interactive maps.  See the online documentation for details. \n",
        "\n",
        "Below are a few examples for you to consider."
      ]
    },
    {
      "cell_type": "markdown",
      "metadata": {
        "id": "8B4CnRzKv_ke",
        "colab_type": "text"
      },
      "source": [
        "First load the library. Install it if necessary."
      ]
    },
    {
      "cell_type": "code",
      "metadata": {
        "id": "quD3nmqJ6X9h",
        "colab_type": "code",
        "colab": {}
      },
      "source": [
        "#!pip install folium\n",
        "import folium"
      ],
      "execution_count": 0,
      "outputs": []
    },
    {
      "cell_type": "markdown",
      "metadata": {
        "id": "nBJNVx7_wPgG",
        "colab_type": "text"
      },
      "source": [
        "Create a simple interactive map centered on Pointe Coupee and with an intial zoom level of 10."
      ]
    },
    {
      "cell_type": "code",
      "metadata": {
        "id": "CfClmgpG6YHI",
        "colab_type": "code",
        "colab": {}
      },
      "source": [
        "m = folium.Map(location=[ptcoupee_pt.y, ptcoupee_pt.x], tiles='Stamen Toner',\n",
        "    zoom_start=10)\n",
        "m"
      ],
      "execution_count": 0,
      "outputs": []
    },
    {
      "cell_type": "markdown",
      "metadata": {
        "id": "L2BLKodYwSwi",
        "colab_type": "text"
      },
      "source": [
        "### Create a choropleth map in folium."
      ]
    },
    {
      "cell_type": "code",
      "metadata": {
        "id": "FjPqugdrKpX6",
        "colab_type": "code",
        "colab": {}
      },
      "source": [
        "m = folium.Map(location=[ptcoupee_pt.y, ptcoupee_pt.x], tiles='Stamen Toner',\n",
        "    zoom_start=8)\n",
        "\n",
        "m.choropleth(orleans_popdata, data=orleans_popdata, key_on='feature.properties.GISJOIN',\n",
        "             columns=['GISJOIN', 'nwslave_pop'], fill_color='YlOrBr')\n",
        "m"
      ],
      "execution_count": 0,
      "outputs": []
    },
    {
      "cell_type": "markdown",
      "metadata": {
        "id": "mFfdeuKwww1U",
        "colab_type": "text"
      },
      "source": [
        "### Point markers with Popups\n",
        "\n",
        "First, need to make sure the coordinates are numeric!"
      ]
    },
    {
      "cell_type": "code",
      "metadata": {
        "id": "uANzopY0Be9i",
        "colab_type": "code",
        "colab": {}
      },
      "source": [
        "lsc_locs['latitude'] = pd.to_numeric(lsc_locs[\"latitude\"])\n",
        "lsc_locs['longitude'] = pd.to_numeric(lsc_locs[\"longitude\"])"
      ],
      "execution_count": 0,
      "outputs": []
    },
    {
      "cell_type": "code",
      "metadata": {
        "id": "ixZ8u9hM7ZPi",
        "colab_type": "code",
        "colab": {}
      },
      "source": [
        "m = folium.Map(location=[ptcoupee_pt.y, ptcoupee_pt.x], tiles='Stamen Toner',\n",
        "    zoom_start=10)\n",
        "\n",
        "for i in lsc_locs.index:\n",
        "  folium.CircleMarker(\n",
        "    location=[lsc_locs.latitude[i], lsc_locs.longitude[i]],\n",
        "    radius= 10,\n",
        "    popup= lsc_locs.name[i],\n",
        "    color='red',\n",
        "    fill=True,\n",
        "    fill_color='red'\n",
        ").add_to(m)\n",
        "\n",
        "\n",
        "m"
      ],
      "execution_count": 0,
      "outputs": []
    },
    {
      "cell_type": "markdown",
      "metadata": {
        "id": "ADaW8gxOw9kO",
        "colab_type": "text"
      },
      "source": [
        "### Overlay points on our choropleth map."
      ]
    },
    {
      "cell_type": "code",
      "metadata": {
        "id": "j0MGGFS1vcuu",
        "colab_type": "code",
        "colab": {}
      },
      "source": [
        "m = folium.Map(location=[ptcoupee_pt.y, ptcoupee_pt.x], tiles='Stamen Toner',\n",
        "    zoom_start=8)\n",
        "\n",
        "m.choropleth(orleans_popdata, data=orleans_popdata, key_on='feature.properties.GISJOIN',\n",
        "             columns=['GISJOIN', 'nwslave_pop'], fill_color='YlOrBr')\n",
        "\n",
        "for i in lsc_locs.index:\n",
        "  folium.CircleMarker(\n",
        "    location=[lsc_locs.latitude[i], lsc_locs.longitude[i]],\n",
        "    radius= 10,\n",
        "    popup= lsc_locs.name[i],\n",
        "    color='red',\n",
        "    fill=True,\n",
        "    fill_color='red'\n",
        ").add_to(m)\n",
        "  \n",
        "\n",
        "m"
      ],
      "execution_count": 0,
      "outputs": []
    },
    {
      "cell_type": "markdown",
      "metadata": {
        "id": "d47b9mrs5AK4",
        "colab_type": "text"
      },
      "source": [
        "## Any Questions?"
      ]
    },
    {
      "cell_type": "markdown",
      "metadata": {
        "id": "IH8_CSxX8KAA",
        "colab_type": "text"
      },
      "source": [
        "# Going Further"
      ]
    },
    {
      "cell_type": "markdown",
      "metadata": {
        "id": "ufmzZTsHVQWd",
        "colab_type": "text"
      },
      "source": [
        "\n",
        "\n",
        "### Start with the Package Documentation\n",
        "\n",
        "- [GeoPandas Documentation](http://geopandas.org/)\n",
        "- [Shapely Documentation(https://shapely.readthedocs.io/en/stable/)]\n",
        "\n",
        "### I highly recommend this SciPy 2018 workshop on geopandas.\n",
        "\n",
        "- The notebooks are [here](https://github.com/geopandas/scipy2018-geospatial-data).\n",
        "- And be sure to watch the [youtube video](https://www.youtube.com/watch?v=kJXUUO5M4ok). \n",
        "\n",
        "### More Geopandas Practice\n",
        "\n",
        "- Try this [Geopandas tutorial](https://www.datacamp.com/community/tutorials/geospatial-data-python) on plotting the path of Hurricane Florence.\n",
        "\n",
        "\n",
        "\n",
        "### Interactive mapping \n",
        "\n",
        "- The [mplleaflet](https://github.com/jwass/mplleaflet) and [folium](https://github.com/python-visualization/folium) packages are very popular for creating interactive web maps in python notebooks. Check out the online documentation and do a web search for an online tutorial to get started.\n"
      ]
    },
    {
      "cell_type": "markdown",
      "metadata": {
        "id": "-oZIWVk5VlZu",
        "colab_type": "text"
      },
      "source": [
        "# Thank you!\n",
        "\n",
        "\n",
        "---\n",
        "\n",
        "Last updated 05/08/2019 by Patty Frontiera (pattyf [at] berkeley [dot] edu)"
      ]
    },
    {
      "cell_type": "code",
      "metadata": {
        "id": "t0IfMLxdVssn",
        "colab_type": "code",
        "colab": {}
      },
      "source": [
        ""
      ],
      "execution_count": 0,
      "outputs": []
    }
  ]
}